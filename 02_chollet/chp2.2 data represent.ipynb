{
 "cells": [
  {
   "cell_type": "markdown",
   "metadata": {
    "collapsed": true,
    "pycharm": {
     "name": "#%% md\n"
    }
   },
   "source": [
    "##### <font color='blue'> Deep Learning with Python</font> by François Chollet\n",
    "### 2.2 Data representation for neural networks\n",
    "* focus on data structures for images, time series etc.\n",
    "***"
   ]
  },
  {
   "cell_type": "markdown",
   "source": [
    "#### Scalars (0D tensors)"
   ],
   "metadata": {
    "collapsed": false,
    "pycharm": {
     "name": "#%% md\n"
    }
   }
  },
  {
   "cell_type": "code",
   "execution_count": null,
   "outputs": [],
   "source": [
    "import numpy as np\n",
    "x = np.array(12)\n",
    "print(x)"
   ],
   "metadata": {
    "collapsed": false,
    "pycharm": {
     "name": "#%%\n"
    }
   }
  },
  {
   "cell_type": "code",
   "execution_count": 4,
   "outputs": [
    {
     "data": {
      "text/plain": "0"
     },
     "execution_count": 4,
     "metadata": {},
     "output_type": "execute_result"
    }
   ],
   "source": [
    "x.ndim"
   ],
   "metadata": {
    "collapsed": false,
    "pycharm": {
     "name": "#%%\n"
    }
   }
  },
  {
   "cell_type": "markdown",
   "source": [
    "#### Vectors (1D tensors)"
   ],
   "metadata": {
    "collapsed": false,
    "pycharm": {
     "name": "#%% md\n"
    }
   }
  },
  {
   "cell_type": "code",
   "execution_count": 7,
   "outputs": [
    {
     "data": {
      "text/plain": "array([12,  3,  4,  3,  4])"
     },
     "execution_count": 7,
     "metadata": {},
     "output_type": "execute_result"
    }
   ],
   "source": [
    "x = np.array([12, 3, 4, 3, 4])\n",
    "x"
   ],
   "metadata": {
    "collapsed": false,
    "pycharm": {
     "name": "#%%\n"
    }
   }
  },
  {
   "cell_type": "code",
   "execution_count": 8,
   "outputs": [
    {
     "data": {
      "text/plain": "1"
     },
     "execution_count": 8,
     "metadata": {},
     "output_type": "execute_result"
    }
   ],
   "source": [
    "x.ndim"
   ],
   "metadata": {
    "collapsed": false,
    "pycharm": {
     "name": "#%%\n"
    }
   }
  },
  {
   "cell_type": "markdown",
   "source": [
    "This vector has five entries and so is called a **5-dimensional vector**. *Don’t confuse a **5D\n",
    "vector** with a **5D tensor**!* A 5D vector has only one *axis* and has five *dimensions along its\n",
    "axis*, whereas a 5D tensor has five axes (and may have any number of dimensions\n",
    "along each axis). ***Dimensionality*** can denote either the number of entries along a specific\n",
    "axis (as in the case of our 5D vector) or the number of axes in a tensor (such as a\n",
    "5D tensor), which can be confusing at times. In the latter case, it’s technically more\n",
    "correct to talk about a tensor of **rank** 5 (the rank of a tensor being the number of axes),\n",
    "but the ambiguous notation 5D tensor is common regardless."
   ],
   "metadata": {
    "collapsed": false,
    "pycharm": {
     "name": "#%% md\n"
    }
   }
  },
  {
   "cell_type": "markdown",
   "source": [
    "#### Matrices (2D tensors)\n",
    "An array of vectors is a matrix, or 2D tensor. A matrix has two axes (often referred to\n",
    "rows and columns). You can visually interpret a matrix as a rectangular grid of numbers."
   ],
   "metadata": {
    "collapsed": false,
    "pycharm": {
     "name": "#%% md\n"
    }
   }
  },
  {
   "cell_type": "code",
   "execution_count": 10,
   "outputs": [
    {
     "data": {
      "text/plain": "2"
     },
     "execution_count": 10,
     "metadata": {},
     "output_type": "execute_result"
    }
   ],
   "source": [
    "x = np.array([[4, 56, 3, 55, 0],\n",
    "              [3, 43, 53, 1, 4],\n",
    "              [4, 24, 52, 3, 2]])\n",
    "x.ndim"
   ],
   "metadata": {
    "collapsed": false,
    "pycharm": {
     "name": "#%%\n"
    }
   }
  },
  {
   "cell_type": "markdown",
   "source": [
    "#### 3D tensors and higher-dimensional tensors\n",
    "* pack matrices in a new array\n",
    "* a cube of numbers"
   ],
   "metadata": {
    "collapsed": false
   }
  },
  {
   "cell_type": "code",
   "execution_count": 12,
   "outputs": [
    {
     "data": {
      "text/plain": "3"
     },
     "execution_count": 12,
     "metadata": {},
     "output_type": "execute_result"
    }
   ],
   "source": [
    "x = np.array([[[4, 56, 3, 55, 0],\n",
    "              [3, 43, 53, 1, 4],\n",
    "              [4, 24, 52, 3, 2]],\n",
    "              [[4, 56, 3, 55, 0],\n",
    "              [3, 43, 53, 1, 4],\n",
    "              [4, 24, 52, 3, 2]],\n",
    "              [[4, 56, 3, 55, 0],\n",
    "              [3, 43, 53, 1, 4],\n",
    "              [4, 24, 52, 3, 2]]])\n",
    "x.ndim"
   ],
   "metadata": {
    "collapsed": false,
    "pycharm": {
     "name": "#%%\n"
    }
   }
  },
  {
   "cell_type": "markdown",
   "source": [
    "* by packing 3D tensors in an array, 4D tensor ....\n",
    "* In deep learning, you’ll generally manipulate tensors that are 0D to 4D, although you may go up to 5D if you process video data.\n",
    "\n",
    "##### Key attributes of a tensor\n",
    "* Number of axes (rank)—\n",
    "* shape\n",
    "* data type(dtype in Python library)"
   ],
   "metadata": {
    "collapsed": false,
    "pycharm": {
     "name": "#%% md\n"
    }
   }
  },
  {
   "cell_type": "code",
   "execution_count": 14,
   "outputs": [
    {
     "data": {
      "text/plain": "'2.4.3'"
     },
     "execution_count": 14,
     "metadata": {},
     "output_type": "execute_result"
    }
   ],
   "source": [
    "import keras\n",
    "keras.__version__"
   ],
   "metadata": {
    "collapsed": false,
    "pycharm": {
     "name": "#%%\n"
    }
   }
  },
  {
   "cell_type": "code",
   "execution_count": 15,
   "outputs": [],
   "source": [
    "from keras.datasets import mnist\n",
    "(train_images, train_labels), (test_images, test_labels) = mnist.load_data()"
   ],
   "metadata": {
    "collapsed": false,
    "pycharm": {
     "name": "#%%\n"
    }
   }
  },
  {
   "cell_type": "code",
   "execution_count": 16,
   "outputs": [
    {
     "name": "stdout",
     "output_type": "stream",
     "text": [
      "3\n"
     ]
    }
   ],
   "source": [
    "print(train_images.ndim)"
   ],
   "metadata": {
    "collapsed": false,
    "pycharm": {
     "name": "#%%\n"
    }
   }
  },
  {
   "cell_type": "code",
   "execution_count": 17,
   "outputs": [
    {
     "name": "stdout",
     "output_type": "stream",
     "text": [
      "(60000, 28, 28)\n"
     ]
    }
   ],
   "source": [
    "print(train_images.shape)"
   ],
   "metadata": {
    "collapsed": false,
    "pycharm": {
     "name": "#%%\n"
    }
   }
  },
  {
   "cell_type": "code",
   "execution_count": 18,
   "outputs": [
    {
     "name": "stdout",
     "output_type": "stream",
     "text": [
      "uint8\n"
     ]
    }
   ],
   "source": [
    "print(train_images.dtype)"
   ],
   "metadata": {
    "collapsed": false,
    "pycharm": {
     "name": "#%%\n"
    }
   }
  },
  {
   "cell_type": "code",
   "execution_count": 19,
   "outputs": [
    {
     "data": {
      "text/plain": "<Figure size 432x288 with 1 Axes>",
      "image/png": "[encoded data removed]"
     },
     "metadata": {
      "needs_background": "light"
     },
     "output_type": "display_data"
    }
   ],
   "source": [
    "digit = train_images[4]\n",
    "\n",
    "import matplotlib.pyplot as plt\n",
    "plt.imshow(digit, cmap=plt.cm.binary)\n",
    "plt.show()"
   ],
   "metadata": {
    "collapsed": false,
    "pycharm": {
     "name": "#%%\n"
    }
   }
  },
  {
   "cell_type": "markdown",
   "source": [
    "#### 2.2.6 manipulating tensors in Numpy"
   ],
   "metadata": {
    "collapsed": false,
    "pycharm": {
     "name": "#%% md\n"
    }
   }
  },
  {
   "cell_type": "code",
   "execution_count": 26,
   "outputs": [
    {
     "name": "stdout",
     "output_type": "stream",
     "text": [
      "(90, 28, 28)\n"
     ]
    }
   ],
   "source": [
    "# tensor slicing\n",
    "#my_slice = train_images[10:100, :,:]\n",
    "my_slice = train_images[10:100]\n",
    "print(my_slice.shape)"
   ],
   "metadata": {
    "collapsed": false,
    "pycharm": {
     "name": "#%%\n"
    }
   }
  },
  {
   "cell_type": "code",
   "execution_count": 22,
   "outputs": [
    {
     "data": {
      "text/plain": "(90, 28, 28)"
     },
     "execution_count": 22,
     "metadata": {},
     "output_type": "execute_result"
    }
   ],
   "source": [
    "my_slice = train_images[10:100, 0:28, 0:28]\n",
    "my_slice.shape"
   ],
   "metadata": {
    "collapsed": false,
    "pycharm": {
     "name": "#%%\n"
    }
   }
  },
  {
   "cell_type": "code",
   "execution_count": 24,
   "outputs": [
    {
     "data": {
      "text/plain": "(60000, 14, 14)"
     },
     "execution_count": 24,
     "metadata": {},
     "output_type": "execute_result"
    }
   ],
   "source": [
    "my_slice = train_images[:, 14:, 14:]\n",
    "my_slice.shape"
   ],
   "metadata": {
    "collapsed": false,
    "pycharm": {
     "name": "#%%\n"
    }
   }
  },
  {
   "cell_type": "code",
   "execution_count": 27,
   "outputs": [
    {
     "data": {
      "text/plain": "(60000, 14, 14)"
     },
     "execution_count": 27,
     "metadata": {},
     "output_type": "execute_result"
    }
   ],
   "source": [
    "# crop the images to patches of 14*14 pixels centered in the middle\n",
    "my_slice = train_images[:, 7:-7, 7:-7]\n",
    "my_slice.shape"
   ],
   "metadata": {
    "collapsed": false,
    "pycharm": {
     "name": "#%%\n"
    }
   }
  },
  {
   "cell_type": "markdown",
   "source": [
    "#### 2.2.7 notation of data batches\n",
    "* axis 0 : sample axis(*samples dimension*)\n",
    "* batch axis or batch dimension"
   ],
   "metadata": {
    "collapsed": false,
    "pycharm": {
     "name": "#%% md\n"
    }
   }
  },
  {
   "cell_type": "code",
   "execution_count": 29,
   "outputs": [],
   "source": [
    "batch = train_images[:128]\n",
    "# batch = train_images[128 * n:128 * (n + 1)]"
   ],
   "metadata": {
    "collapsed": false,
    "pycharm": {
     "name": "#%%\n"
    }
   }
  },
  {
   "cell_type": "markdown",
   "source": [
    "#### 2.2.8 Real world examples of data tensors\n",
    "* Vector data - 2D tensors of shape (samples, features)\n",
    "* Timeseries data or sequence data - 3D tensors of shape (samples, timesteps, features)\n",
    "* Images - 4D tensors of shape(samples, height, width, channels) or (samples, channels, height, width)\n",
    "* Video - 5D tensors of shape (samples, frames, height, width, channels) or (samples, frames, chanels, height, width)\n",
    "\n",
    "#### Vector data\n",
    "* 3 features(zip, age, income) of 200,000 people to 2D tensor (200,000, 3); each persion can be charaterized as a vector of 3 vaules of feature\n",
    "* 500 text documents represented the counting number of word appeared in it among 20,000 common words (500, 20000)\n",
    "\n",
    "#### timeseries data or sequence data\n",
    "* each sample can be encoded as a sequence of vectors(2D tensor) of features and timesteps\n",
    "* batch data is encoded as a 3D tensor"
   ],
   "metadata": {
    "collapsed": false,
    "pycharm": {
     "name": "#%% md\n"
    }
   }
  },
  {
   "cell_type": "code",
   "execution_count": 30,
   "outputs": [
    {
     "data": {
      "image/png": "[encoded data removed]",
      "text/plain": "<IPython.core.display.Image object>"
     },
     "execution_count": 30,
     "metadata": {
      "image/png": {
       "width": 300
      }
     },
     "output_type": "execute_result"
    }
   ],
   "source": [
    "from IPython.display import Image\n",
    "%matplotlib inline\n",
    "\n",
    "Image(filename='../img/timeseries.png', width=300)"
   ],
   "metadata": {
    "collapsed": false,
    "pycharm": {
     "name": "#%%\n"
    }
   }
  },
  {
   "cell_type": "markdown",
   "source": [
    "* Examples\n",
    "    - stock prices (390, 3) highest, lowest, current prices at every minute in a trading day; 250 days' worth of data (250, 390, 3)\n",
    "    - tweets encoded as a sequence of 280 characters out of an alphabet of 128 unique characters(ASCII ?) (280, 128); 1 million tweets (1,000,000, 280, 128)\n",
    "\n",
    "#### Image data\n",
    "* image in 3D - height, width, color depth (256,256, 3) for color channel; (256, 256, 1) for one(gray) channel\n",
    "* batch of 128 grayscale images of size 256*256 is (128, 256,256, 1)"
   ],
   "metadata": {
    "collapsed": false,
    "pycharm": {
     "name": "#%% md\n"
    }
   }
  },
  {
   "cell_type": "code",
   "execution_count": 31,
   "outputs": [
    {
     "data": {
      "image/png": "[encoded data removed]",
      "text/plain": "<IPython.core.display.Image object>"
     },
     "execution_count": 31,
     "metadata": {
      "image/png": {
       "width": 300
      }
     },
     "output_type": "execute_result"
    }
   ],
   "source": [
    "Image(filename='../img/4Dcolor.PNG', width=300)"
   ],
   "metadata": {
    "collapsed": false,
    "pycharm": {
     "name": "#%%\n"
    }
   }
  },
  {
   "cell_type": "markdown",
   "source": [
    "#### Video data\n",
    "* each frame can be stored in a 3D tensor (height, width, color_depth)\n",
    "* a sequence of frames can be stored in a 4D tensor (frames, height, width, color_\n",
    "depth)\n",
    "* a batch of different videos can be stored in a 5D tensor of shape (samples, frames, height, width, color_depth).\n",
    "***\n",
    "### 2.3 gears of neural networks: tensor operations\n",
    "* deep neural networks can be reduced to a handful of **tensor operations** applied to tensors of numeric data\n",
    "* we build our network by stacking *Dense* layers on top of each other, in Keras\n",
    "```\n",
    "keras.layers.Dense(512, activation='relu')\n",
    "```\n",
    "This layer can be interpreted as s funtion as\n",
    "```\n",
    "output = relu(dot(W, input)+b)\n",
    "```\n",
    "\n",
    "#### Element-wise operations\n",
    "* *element-wise operation* are amenable to massively *parallel implementations*(*vectorized implementations*, the term comes from the *vector processor* supercomputer archietecture)\n",
    "* naive Python implemenation using *for* loop\n",
    "```\n",
    "def naive_relu(x):\n",
    "    asser len(x.shape) == 2 ; x is 2D numpy tensor\n",
    "    x = x.copy()    ; avoid overwriting the input tensor\n",
    "    for i in range(x.shape[0]);\n",
    "        for j in range(x.shape[1]):\n",
    "            x[i, j] = max(x[i,j], 0)\n",
    "    return x\n",
    "```\n",
    "* BLAS(Basic Linear Algebra Subprograms) - low level, highly parallel, efficient tensor-manipulation routines in Fortran and C\n",
    "```\n",
    "import numpy as np\n",
    "z = x + y\n",
    "z = np.maximum(z, 0.)\n",
    "```\n",
    "\n",
    "#### Broadcasting\n",
    "* addition of two tensors in different shapes - smaller tensor is broadcasted to match the shape of the larger tensor\n",
    "* no 2D tensor is created; the repetition operation is virtually happens at the algorithm level rather than at the memory level\n",
    "```\n",
    "det naive_add_matrix_and_vector(x, y):\n",
    "    assert len(x.shape) == 2\n",
    "    assert len(y.shape) == 1\n",
    "    assert x.shape[1] == y.shape[0]\n",
    "\n",
    "    x = x.copy()\n",
    "    for i in range(x.shape[0]):\n",
    "        for j in range(x.shape[1]):\n",
    "            x[i, j] += y[j]\n",
    "    return x\n",
    "```\n",
    "* broadcasting : one tensor has shape (a, b, … n, n + 1, … m) and the other has shape (n, n + 1, … m). The\n",
    "broadcasting will then automatically happen for axes a through n - 1.\n",
    "\n",
    "```\n",
    "import numpy as np\n",
    "x = np.random.random((64, 3, 32, 10))\n",
    "y = np.random.random((32, 10))\n",
    "\n",
    "z = np.maximum(x, y)\n",
    "```\n",
    "***\n",
    "#### Tensor dot\n",
    "* tensor product\n",
    "* element-wise product by * operator in Numpy, Keras, Theano, Tensorflow\n",
    "```\n",
    "import numpy as np\n",
    "# in Numpy and Keras\n",
    "z = np.dot(x, y)\n",
    "```\n",
    "* in math, $z = x \\cdot y$\n",
    "```\n",
    "def naive_vector_dot(x, y):\n",
    "    assert len(x.shape) == 1\n",
    "    assert len(y.shape) == 1\n",
    "    assert x.shape[0] == y.shape[0]\n",
    "\n",
    "    z = 0.\n",
    "    for i in range(x.shape[0]):\n",
    "        z == x[i] * y[i]\n",
    "    return z\n",
    "```\n",
    "* higher dimension; (a, b, c, d) . (d,) -> (a, b, c)\n",
    "(a, b, c, d) . (d, e) -> (a, b, c, e)"
   ],
   "metadata": {
    "collapsed": false,
    "pycharm": {
     "name": "#%% md\n"
    }
   }
  },
  {
   "cell_type": "code",
   "execution_count": 32,
   "outputs": [
    {
     "data": {
      "image/png": "[encoded data removed]",
      "text/plain": "<IPython.core.display.Image object>"
     },
     "execution_count": 32,
     "metadata": {
      "image/png": {
       "width": 300
      }
     },
     "output_type": "execute_result"
    }
   ],
   "source": [
    "Image(filename='../img/dotproduct.PNG', width=300)"
   ],
   "metadata": {
    "collapsed": false,
    "pycharm": {
     "name": "#%%\n"
    }
   }
  },
  {
   "cell_type": "markdown",
   "source": [
    "#### tensor reshaping\n",
    "\n",
    "rearranging its rows and columns to match a target shape"
   ],
   "metadata": {
    "collapsed": false,
    "pycharm": {
     "name": "#%% md\n"
    }
   }
  },
  {
   "cell_type": "code",
   "execution_count": 33,
   "outputs": [],
   "source": [
    "x = np.array([[0., 1.],\n",
    "[2., 3.],\n",
    "[4., 5.]])"
   ],
   "metadata": {
    "collapsed": false,
    "pycharm": {
     "name": "#%%\n"
    }
   }
  },
  {
   "cell_type": "code",
   "execution_count": 34,
   "outputs": [
    {
     "name": "stdout",
     "output_type": "stream",
     "text": [
      "(3, 2)\n"
     ]
    }
   ],
   "source": [
    "print(x.shape)"
   ],
   "metadata": {
    "collapsed": false,
    "pycharm": {
     "name": "#%%\n"
    }
   }
  },
  {
   "cell_type": "code",
   "execution_count": 35,
   "outputs": [
    {
     "data": {
      "text/plain": "array([[0.],\n       [1.],\n       [2.],\n       [3.],\n       [4.],\n       [5.]])"
     },
     "execution_count": 35,
     "metadata": {},
     "output_type": "execute_result"
    }
   ],
   "source": [
    "x = x.reshape((6,1))\n",
    "x"
   ],
   "metadata": {
    "collapsed": false,
    "pycharm": {
     "name": "#%%\n"
    }
   }
  },
  {
   "cell_type": "code",
   "execution_count": 36,
   "outputs": [
    {
     "data": {
      "text/plain": "array([[0., 1., 2.],\n       [3., 4., 5.]])"
     },
     "execution_count": 36,
     "metadata": {},
     "output_type": "execute_result"
    }
   ],
   "source": [
    "x = x.reshape((2, 3))\n",
    "x"
   ],
   "metadata": {
    "collapsed": false,
    "pycharm": {
     "name": "#%%\n"
    }
   }
  },
  {
   "cell_type": "code",
   "execution_count": 37,
   "outputs": [
    {
     "name": "stdout",
     "output_type": "stream",
     "text": [
      "(20, 300)\n"
     ]
    }
   ],
   "source": [
    "x = np.zeros((300, 20))\n",
    "x = np.transpose(x)\n",
    "print(x.shape)"
   ],
   "metadata": {
    "collapsed": false,
    "pycharm": {
     "name": "#%%\n"
    }
   }
  },
  {
   "cell_type": "markdown",
   "source": [
    "#### geometric interpretation of tensor operations\n",
    "\n",
    "\n"
   ],
   "metadata": {
    "collapsed": false,
    "pycharm": {
     "name": "#%% md\n"
    }
   }
  }
 ],
 "metadata": {
  "kernelspec": {
   "display_name": "Python 3",
   "language": "python",
   "name": "python3"
  },
  "language_info": {
   "codemirror_mode": {
    "name": "ipython",
    "version": 2
   },
   "file_extension": ".py",
   "mimetype": "text/x-python",
   "name": "python",
   "nbconvert_exporter": "python",
   "pygments_lexer": "ipython2",
   "version": "2.7.6"
  }
 },
 "nbformat": 4,
 "nbformat_minor": 0
}