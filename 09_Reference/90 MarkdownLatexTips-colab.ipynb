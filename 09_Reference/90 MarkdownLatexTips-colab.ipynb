{
 "cells": [
  {
   "cell_type": "markdown",
   "metadata": {
    "colab_type": "text",
    "id": "view-in-github"
   },
   "source": [
    "<a href=\"https://colab.research.google.com/github/blee8/MyNotebook/blob/master/SumNote_0814_%EC%82%AC%EB%B3%B8.ipynb\" target=\"_parent\"><img src=\"https://colab.research.google.com/assets/colab-badge.svg\" alt=\"Open In Colab\"/></a>"
   ]
  },
  {
   "cell_type": "markdown",
   "metadata": {},
   "source": [
    "이 노트북을 주피터 노트북 뷰어(nbviewer.jupyter.org)로 보거나 구글 코랩(colab.research.google.com)에서 실행할 수 있습니다.\n",
    "\n",
    "<table class=\"tfo-notebook-buttons\" align=\"left\">\n",
    "  <td>\n",
    "    <a target=\"_blank\" href=\"https://nbviewer.jupyter.org/github/blee8/MyNotebook\"><img src=\"https://jupyter.org/assets/main-logo.svg\" width=\"28\" />주피터 노트북 뷰어로 보기</a>\n",
    "  </td>\n",
    "  <td>\n",
    "    <a target=\"_blank\" href=\"https://colab.research.google.com/github/blee8/MyNotebook\"><img src=\"https://www.tensorflow.org/images/colab_logo_32px.png\" />구글 코랩(Colab)에서 실행하기</a>\n",
    "  </td>\n",
    "</table>\n",
    "\n",
    "\n",
    "\n",
    "#  <center>Tip Summary</center> \n",
    "### <div align=\"center\"> 2020.08.14\n",
    "\n",
    "\n",
    "\n",
    "# 1. LaTex Tips\n",
    "- ### LaTeX Math Symbols - A glossary [Latex Math](https://www.latex-tutorial.com/symbols/math-symbols/)\n",
    "- ### Sharelatex-Korean [ShareLatex](https://www.sharelatex.com/learn/Korean)\n",
    "\n",
    "- ### Latex fot jupyter notebooks [Latex](http://bebi103.caltech.edu.s3-website-us-east-1.amazonaws.com/2015/tutorials/t0c_intro_to_latex.html)\n",
    "\n",
    "\n",
    "\n",
    "- ### Math Expression\n",
    "\n",
    "\\begin{align}\n",
    "\\mathbf{a} \\cdot \\mathbf{b} = \\sum_{i=1}^n a_i b_i.\n",
    "\\end{align}\n",
    "\n",
    "\\begin{aligned}\n",
    "\\frac{n!}{k!(n-k)!} = \\binom{n}{k}\n",
    "\\end{aligned}\n",
    "\n",
    "\n",
    "\\begin{aligned}\n",
    "    \\sqrt{3x-1}+(1+x)^2    \\\\\n",
    "    \\frac{n!}{k!(n-k)!} = \\binom{n}{k}\n",
    "\\end{aligned}\n",
    "\n",
    "\n",
    "In the statement $\\hat{y}$ example\n",
    "\n",
    "\n",
    "\\begin{align}\n",
    "&&a_1 &= \\beta_0 \\\\\n",
    "&&b_1 &= \\beta_1 \\\\\n",
    "c_1 &= \\beta_2 \\\\\n",
    "d_1 &= \\beta_3\n",
    "\\end{align}\n",
    "\n",
    "\n",
    "\n",
    "# 2. MarkDown Tips\n",
    "\n",
    "\n",
    "- ### Markdown Tips [Markdown](https://devyurim.github.io/development%20environment/github%20blog/2018/01/01/blog-3.html)\n",
    "\n",
    "- ### Tips [Tips](https://help.smash.gg/en/articles/1987102-customizing-text-with-markdown)\n",
    "<br><br>\n",
    "\n",
    "\n",
    "\n",
    "# This is H1        \n",
    "## This is H2\n",
    "### This is H3\n",
    "#### This is H4\n",
    "##### This is H5\n",
    "###### This is H6\n",
    "\n",
    "\n",
    "##### <center>Example text</center>\n",
    "\n",
    "<center>Centered text</center>\n",
    "<div align=\"center\">\n",
    "  my text here.\n",
    "</div>\n",
    "\n",
    "\n",
    "**This text is bold.**\n",
    "\n",
    "*This text is in italics.* _This text is also in italics._\n",
    "\n",
    "~~This text has a strike-through applied.~~\n",
    "\n",
    "~~**What if something is really important gets crossed out?**~~\n",
    "\n",
    "_**It's pretty easy to ~~apply~~ multiple styles.**_\n",
    "\n",
    "<br>\n",
    "\n",
    "## Lists and Bullets\n",
    "\n",
    "To make a list, simply add an asterisk before each line item! For numbered lists, you can precede text with numbers instead. To nest your lists, put four spaces at the beginning of each new line of the list.\n",
    "\n",
    ">### shopping list pt 1\n",
    ">>\n",
    "* allen wrenches\n",
    "* gerbil feeders\n",
    "* toilet seats\n",
    "***\n",
    ">### shopping list pt 2\n",
    "1. Walkie-talkies\n",
    "- copper wires safety goggles\n",
    "- radial tires\n",
    "***\n",
    ">### shopping list pt 3\n",
    "* Picture hangers\n",
    "\t* paper cutters\n",
    "\t\t* waffle irons\n",
    "\n",
    "\n",
    "## code\n",
    "```\n",
    "6XQS8-KLKEH-FTB\n",
    "STCBW-2V6V6-9D4\n",
    "```\n",
    "\n",
    "\n",
    "<br>\n",
    "<br/>\n",
    "\n",
    "\n",
    "## Handling Images"
   ]
  },
  {
   "cell_type": "code",
   "execution_count": null,
   "metadata": {
    "colab": {},
    "colab_type": "code",
    "id": "A0PIrvRcENNr",
    "outputId": "424df6a9-8ee9-47bd-d346-71a24a1395d0",
    "scrolled": true
   },
   "outputs": [
    {
     "data": {
      "image/jpeg": "[encoded data removed]",
      "text/plain": [
       "<IPython.core.display.Image object>"
      ]
     },
     "execution_count": 1,
     "metadata": {
      "image/jpeg": {
       "width": 700
      },
      "tags": []
     },
     "output_type": "execute_result"
    }
   ],
   "source": [
    "from IPython.display import Image\n",
    "%matplotlib inline\n",
    "\n",
    "Image(filename='img/100.jpg', width=700)"
   ]
  },
  {
   "cell_type": "markdown",
   "metadata": {
    "colab_type": "text",
    "id": "mHHWibRUENNv"
   },
   "source": [
    "![dog figure](https://github.com/blee8/python-machine-learning-book-3rd-edition/blob/master/ch15/images/15_01.png?raw=1) {: width=\"100\" height=\"100\"}"
   ]
  },
  {
   "cell_type": "markdown",
   "metadata": {
    "colab_type": "text",
    "id": "4g7RB2U2HPQ0",
    "pycharm": {
     "name": "#%% md\n"
    }
   },
   "source": [
    "![dog figure](https://github.com/blee8/python-machine-learning-book-3rd-edition/blob/master/ch15/images/15_01.png?raw=1=100x100)\n"
   ]
  }
 ],
 "metadata": {
  "colab": {
   "include_colab_link": true,
   "name": "SumNote_0814.ipynb의 사본의 사본",
   "provenance": []
  },
  "kernelspec": {
   "display_name": "Python 3",
   "language": "python",
   "name": "python3"
  },
  "language_info": {
   "codemirror_mode": {
    "name": "ipython",
    "version": 3
   },
   "file_extension": ".py",
   "mimetype": "text/x-python",
   "name": "python",
   "nbconvert_exporter": "python",
   "pygments_lexer": "ipython3",
   "version": "3.8.3"
  }
 },
 "nbformat": 4,
 "nbformat_minor": 4
}