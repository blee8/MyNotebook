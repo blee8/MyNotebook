{
 "cells": [
  {
   "cell_type": "markdown",
   "metadata": {
    "collapsed": true,
    "pycharm": {
     "name": "#%% md\n"
    }
   },
   "source": [
    "---\n",
    "theme: gaia\n",
    "_class: lead\n",
    "paginate: true\n",
    "backgroundColor: #fff\n",
    "backgroundImage: url('https://marp.app/assets/hero-background.jpg')\n",
    "marp: true\n",
    "---\n",
    "\n",
    "![bg left:40% 80%](https://raw.githubusercontent.com/marp-team/marp/master/marp.png)\n",
    "\n",
    "# **Marp**\n",
    "\n",
    "Markdown Presentation Ecosystem\n",
    "\n",
    "https://marp.app/\n",
    "\n",
    "---\n",
    "\n",
    "# How to write slides\n",
    "\n",
    "Split pages by horizontal ruler (`---`). It's very simple! :satisfied:\n",
    "\n",
    "```markdown\n",
    "# Slide 1\n",
    "\n",
    "foobar\n",
    "\n",
    "---\n",
    "\n",
    "# Slide 2\n",
    "\n",
    "foobar\n",
    "```\n"
   ]
  }
 ],
 "metadata": {
  "kernelspec": {
   "display_name": "Python 3",
   "language": "python",
   "name": "python3"
  },
  "language_info": {
   "codemirror_mode": {
    "name": "ipython",
    "version": 2
   },
   "file_extension": ".py",
   "mimetype": "text/x-python",
   "name": "python",
   "nbconvert_exporter": "python",
   "pygments_lexer": "ipython2",
   "version": "2.7.6"
  }
 },
 "nbformat": 4,
 "nbformat_minor": 0
}