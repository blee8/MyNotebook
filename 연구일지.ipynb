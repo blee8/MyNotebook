{
 "cells": [
  {
   "cell_type": "markdown",
   "metadata": {
    "collapsed": true,
    "pycharm": {
     "name": "#%% md\n"
    }
   },
   "source": [
    "# study diary\n",
    "\n",
    "| 날짜 | Description | tag | fn.ipynb |\n",
    "| :-: | :----------- | ----------- | :--- |\n",
    "| 09/26; 9/28 | *Deep learning with Python(Chollet)* chap2, 3 원본, **번역본**; Keras; <br> classify handwritten digits; MNIST| keras; neural network; deep learning  | .\\chollet\\chp2_mnist_0926\n",
    "| 09/30 | *Hand on ML, Géron*; MNIST; chp 2 | classification; plot MNIST digits| .\\Hands on\\03_clssification|\n",
    "| 10/02 | - *Deep learning with Python(Chollet)* chap2.2 <br> - Data representations, structures | tensor operation | chp2.2 data represent.ipynb |\n",
    "| 10/00 |  - *application to geotech eng* <br> -*tensor*  | geotech; RNN; time series; | ?? |\n",
    "| 12/09 | Start to handling pile data | pile capacity, ANN and others  | ??|\n",
    "| 12/10 | pile data regression trial | Int to ML(Muller) linear regression 방법을 모두 따라함| 깃 reposotory of the book|\n",
    "| 12/10 | pile data regression | mynotebook 모두 실행| 91_pile capacity regression.ipynb|\n",
    "| 01/?? | make pile data | capacity, settlement, FHWA load test data  pile data |.\\data\\ *.csv|\n",
    "| 02/01 | try to handling data and make pipeline, fine tune model  | sklearn, linear regression, ensemble | .\\00_Procedures\\..|\n",
    "| 02/03 | GradientBoosting 이후  | sklearn, linear regression, ensemble | .\\00_Procedures\\07_ensemble.ipynb|\n",
    "\n"
   ]
  }
 ],
 "metadata": {
  "kernelspec": {
   "display_name": "Python 3",
   "language": "python",
   "name": "python3"
  },
  "language_info": {
   "codemirror_mode": {
    "name": "ipython",
    "version": 2
   },
   "file_extension": ".py",
   "mimetype": "text/x-python",
   "name": "python",
   "nbconvert_exporter": "python",
   "pygments_lexer": "ipython2",
   "version": "2.7.6"
  }
 },
 "nbformat": 4,
 "nbformat_minor": 0
}