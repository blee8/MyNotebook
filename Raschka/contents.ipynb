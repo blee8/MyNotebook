{
 "cells": [
  {
   "cell_type": "markdown",
   "metadata": {
    "collapsed": true,
    "pycharm": {
     "name": "#%% md\n"
    }
   },
   "source": [
    "# STAT 453: Introduction to Deep Learning and Generative Models\n",
    "\n",
    "**Course Website: http://pages.stat.wisc.edu/~sraschka/teaching/stat453-ss2020/** (Spring 2020)\n",
    "\n",
    "## Topics Summary (Planned)\n",
    "\n",
    "Below is a list of the topics I am planning to cover. Note that while these topics are numerated by lectures, note that some lectures are longer or shorter than others. Also, we may skip over certain topics in favor of others if time is a concern. While this section provides an overview of potential topics to be covered, the actual topics will be listed in the course [calendar](http://pages.stat.wisc.edu/~sraschka/teaching/stat453-ss2020/#calendar) at the bottom of the course website.\n",
    "\n",
    "\n",
    "\n",
    "**Part 1: Introduction**\n",
    "- [L01: Course overview, introduction to deep learning](L01-intro)\n",
    "- [L02: The brief history of deep learning](L02-dl-history)\n",
    "- **[L03: Single-layer neural networks: The perceptron algorithm](L03-perceptron)**\n",
    "\n",
    "**Part 2: Mathematical and computational foundations**\n",
    "- [L04: Linear algebra and calculus for deep learning](L04-linalg)\n",
    "- **[L05: Parameter optimization with gradient descent](L05-grad-descent)**\n",
    "- [L06: Automatic differentiation & PyTorch](L06-pytorch)\n",
    "- [L06.5: Cloud Computing](L06-pytorch) [ [Recording](https://www.youtube.com/watch?v=9eH1SAs8K3o&t) ]\n",
    "\n",
    "\n",
    "**Part 3: Introduction to neural networks**\n",
    "- [L07: Multinomial logistic regression](L07-logistic)\n",
    "- **[L08: Multilayer perceptrons](L08-mlp)**\n",
    "- **[L09: Regularization](L09-regularization)** [ [Recording](https://www.youtube.com/watch?v=KwaxQKiLkFY) ]\n",
    "- **[L10: Input normalization and weight initialization](L10_norm-and-init)** [ [Recording Part 1/2](https://www.youtube.com/watch?v=QQD9Y2FiotQ) ]  [ [Recording Part 2/2](https://www.youtube.com/watch?v=H_hrdUUrjho) ]\n",
    "- **[L11: Learning rates and advanced optimization algorithms](L11-optim)** [ [Recording](https://www.youtube.com/watch?v=MyWwxEHC5zE) ]\n",
    "\n",
    "**Part 4: Deep learning for computer vision and language modeling**\n",
    "- **[L12: Introduction to convolutional neural networks 1](L12-cnns)** [ [Recording](https://www.youtube.com/watch?v=7ftuaShIzhc) ]\n",
    "- **[L13: Introduction to convolutional neural networks 2](L13-cnns-part2)** [ [Recording 1/2](https://www.youtube.com/watch?v=mZmyp0JjH6s) ] [ [Recording 2/2](https://www.youtube.com/watch?v=ji05GxulVuY) ]\n",
    "- **[L 14: Introduction to recurrent neural networks 1](L14-rnns)** [ [Recording](https://www.youtube.com/watch?v=tFWex9e-sg8) ]\n",
    "- ~~Introduction to recurrent neural networks 2~~\n",
    "\n",
    "**Part 5: Deep generative models**\n",
    "- [L15: Autoencoders](https://github.com/rasbt/stat453-deep-learning-ss20/tree/master/L15-autoencoder) [ [Recording](https://youtu.be/iddlDHXDxc0) ]\n",
    "- ~~Autoregressive models~~\n",
    "- ~~Variational autoencoders~~\n",
    "- ~~Normalizing Flow Models~~\n",
    "- [L16: Generative adversarial networks 1](https://github.com/rasbt/stat453-deep-learning-ss20/tree/master/L16-gan) [ [Recording](https://youtu.be/aka29GqbsEM) ]\n",
    "- ~~Generative adversarial networks 2~~\n",
    "- ~~Evaluating generative models~~\n",
    "\n",
    "**Part 6: Class projects and final exam**\n",
    "- Student project presentations 1 [ [Recording](https://www.youtube.com/watch?v=e_I0q3mmfw4) ]\n",
    "- Student project presentations 2\n",
    "- Student project presentations 3\n",
    "- Final exam\n",
    "- Final report (online submission)\n",
    "***"
   ]
  },
  {
   "cell_type": "markdown",
   "source": [
    "# STAT 479: Machine Learning\n",
    "\n",
    "**Course Website: https://github.com/blee8/stat479-machine-learning-fs19.git**\n",
    "\n",
    "(Fall 2019) by Sebastian Raschka at University Wisconsin-Madison\n",
    "\n",
    "## Topics Summary (Planned)\n",
    "\n",
    "**Part I: Introduction**\n",
    "\n",
    "- [Lecture 1: What is Machine Learning? An Overview.](./01_overview/)\n",
    "- [Lecture 2: Intro to Supervised Learning: KNN](./02_knn)\n",
    "\n",
    "**Part II: Computational Foundations**\n",
    "\n",
    "- [Lecture 3: Using Python, Anaconda, IPython, Jupyter Notebooks](./03_python)\n",
    "- [Lecture 4: Scientific Computing with NumPy, SciPy, and Matplotlib](./04_sci-python)\n",
    "- [Lecture 5: Data Preprocessing and Machine Learning with Scikit-Learn](./05_preprocessing-and-sklearn)\n",
    "\n",
    "**Part III: Tree-Based Methods**\n",
    "\n",
    "- [Lecture 6: Decision Trees](./06_trees)\n",
    "- [Lecture 7: Ensemble Methods](./07_ensembles)\n",
    "\n",
    "**Part IV: Evaluation**\n",
    "\n",
    "- [Lecture 8: Model Evaluation 1: Introduction to Overfitting and Underfitting](./08_model-eval-1)\n",
    "- [Lecture 9: Model Evaluation 2: Uncertainty Estimates and Resampling](./09_eval2-ci)\n",
    "- [Lecture 10: Model Evaluation 3: Model Selection and Cross-Validation](./10_eval3-cv)\n",
    "- [Lecture 11: Model Evaluation 4: Algorithm Selection and Statistical Tests](./11_eval4-algo)\n",
    "- [Lecture 12: Model Evaluation 5: Performance Metrics](./12_eval5-metrics)\n",
    "\n",
    "**Part V: Dimensionality Reduction**\n",
    "\n",
    "- [Lecture 13: Feature Selection](./13_feat-sele)\n",
    "- [Lecture 14: Feature Extraction](./14_feat-extract)\n",
    "\n",
    "\n",
    "\n"
   ],
   "metadata": {
    "collapsed": false,
    "pycharm": {
     "name": "#%% md\n"
    }
   }
  }
 ],
 "metadata": {
  "kernelspec": {
   "display_name": "Python 3",
   "language": "python",
   "name": "python3"
  },
  "language_info": {
   "codemirror_mode": {
    "name": "ipython",
    "version": 2
   },
   "file_extension": ".py",
   "mimetype": "text/x-python",
   "name": "python",
   "nbconvert_exporter": "python",
   "pygments_lexer": "ipython2",
   "version": "2.7.6"
  }
 },
 "nbformat": 4,
 "nbformat_minor": 0
}