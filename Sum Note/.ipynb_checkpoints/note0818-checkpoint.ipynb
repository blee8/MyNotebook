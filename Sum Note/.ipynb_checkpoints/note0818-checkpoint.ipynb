{
 "cells": [
  {
   "cell_type": "markdown",
   "metadata": {
    "pycharm": {
     "name": "#%% md\n"
    }
   },
   "source": [
    "---\n",
    "##  <center>Core Summary</center>\n",
    "### Percetron, Adaline algorithm\n",
    "#### <div align=\"center\"> 2020. 08. 18\n",
    "\n",
    "---\n",
    "\n",
    "### Linear Model\n",
    "\n",
    "$$\\mathrm{price} = w_{\\mathrm{area}} \\cdot \\mathrm{area} + w_{\\mathrm{age}} \\cdot \\mathrm{age} + b$$\n",
    "\n",
    "-  ***features*** (area and age) vs. ***target*** (price)\n",
    "- $w_{\\mathrm{area}}$ and $w_{\\mathrm{age}}$ = ***weights***\n",
    " \n",
    "- $b$ =  ***bias*** *(offsets ot intercept)*\n",
    "---\n",
    "\n",
    "   For given $d$ features, prediction $\\hat{y}$ as\n",
    "\n",
    "$$\\hat{y} = w_1  x_1 + ... + w_d  x_d + b$$\n",
    "\n",
    "Collecting all features into a vector $\\mathbf{x} \\in \\mathbb{R}^d$\n",
    "and all weights into a vector $\\mathbf{w} \\in \\mathbb{R}^d$,\n",
    "we can express our model compactly using a dot product:\n",
    "\n",
    "$$\\hat{y} = \\mathbf{w}^\\top \\mathbf{x} + b$$\n",
    "\n",
    "the vector $\\mathbf{x}$ corresponds to *features* of a single data ***instance***\n",
    "\n",
    "---\n",
    "For the *design matrix* $\\mathbf{X} \\in \\mathbb{R}^{n \\times d}$\n",
    "= *features* of our entire dataset of **$n$** examples(instances),\n",
    "the predictions $\\hat{\\mathbf{y}} \\in \\mathbb{R}^n$\n",
    "<br>\n",
    "$${\\hat{\\mathbf{y}}} = \\mathbf{X} \\mathbf{w} + b$$\n",
    "<br>(*broadcasting* during the summation)\n",
    "\n",
    "\n",
    ">Given features of a training dataset $\\mathbf{X}$\n",
    "and corresponding (known) ***labels*** $\\mathbf{y}$,\n",
    "the goal of linear regression is to find\n",
    "the weight vector $\\mathbf{w}$ and the bias term $b$\n",
    "that given features of a new data instance\n",
    "sampled from the same distribution as $\\mathbf{X}$,\n",
    "the new data instance's label will (in expectation) be predicted with the lowest error.\n",
    "\n",
    "@book{zhang2020dive,\n",
    "    title={Dive into Deep Learning},\n",
    "    author={Aston Zhang and Zachary C. Lipton and Mu Li and Alexander J. Smola},\n",
    "    note={\\url{https://d2l.ai}},\n",
    "    year={2020}\n",
    "}\n",
    "\n",
    "[Diveinto DL](https://github.com/d2l-ai/d2l-en/blob/master/README.md#dive-into-deep-learning-d2lai)\n",
    "***"
   ]
  },
  {
   "cell_type": "markdown",
   "metadata": {
    "pycharm": {
     "name": "#%% md\n"
    }
   },
   "source": [
    "## Loss function\n",
    "\n",
    "![Fit data with a linear model.](http://d2l.ai/_images/fit_linreg.svg)\n",
    ":label:`fig_fit_linreg`\n",
    "\n",
    "$$L(\\mathbf{w}, b) =\\frac{1}{n}\\sum_{i=1}^n l^{(i)}(\\mathbf{w}, b) =\\frac{1}{n} \\sum_{i=1}^n \\frac{1}{2}\\left(\\mathbf{w}^\\top \\mathbf{x}^{(i)} + b - y^{(i)}\\right)^2.$$\n",
    "\n",
    "By training the model, find\n",
    "\n",
    "$$\\mathbf{w}^*, b^* = \\operatorname*{argmin}_{\\mathbf{w}, b}\\  L(\\mathbf{w}, b).$$\n",
    "\n",
    "***\n",
    "## Analytic Solution\n",
    "Taking the derivative of the loss with respect to $\\mathbf{w}$\n",
    "and setting it equal to $0$ yields the analytic solution:\n",
    "\n",
    "$$\\mathbf{w}^* = (\\mathbf X^\\top \\mathbf X)^{-1}\\mathbf X^\\top \\mathbf{y}.$$\n",
    "\n",
    "For simple problems only!\n",
    "\n",
    "## Grient descent\n",
    " - *gradient descent*  : iteratively reducing the error by updating the parameters in the direction that incrementally lowers the loss function\n",
    " - *stochastic gradient descent* : sampling a random minibatch of examples every time we need to compute the update a variant\n",
    "\n",
    " $$(\\mathbf{w},b) \\leftarrow (\\mathbf{w},b) - \\frac{\\eta}{|\\mathcal{B}|} \\sum_{i \\in \\mathcal{B}} \\partial_{(\\mathbf{w},b)} l^{(i)}(\\mathbf{w},b).$$\n",
    "\n",
    "    - randomly sample a minibatch $\\mathcal{B}$\n",
    "    - a predetermined step size, *learning rate*  $\\eta > 0$\n",
    "\n",
    "using vector notation,\n",
    "\n",
    "$\n",
    "\\begin{aligned}\n",
    "\\mathbf{w} &\\leftarrow \\mathbf{w} -   \\frac{\\eta}{|\\mathcal{B}|} \\sum_{i \\in \\mathcal{B}} \\partial_{\\mathbf{w}} l^{(i)}(\\mathbf{w}, b) && =\n",
    "\\mathbf{w} - \\frac{\\eta}{|\\mathcal{B}|} \\sum_{i \\in \\mathcal{B}} \\mathbf{x}^{(i)} \\left(\\mathbf{w}^\\top \\mathbf{x}^{(i)} + b - y^{(i)}\\right),\\\\\n",
    "b &\\leftarrow b -  \\frac{\\eta}{|\\mathcal{B}|} \\sum_{i \\in \\mathcal{B}} \\partial_b l^{(i)}(\\mathbf{w}, b)  && =\n",
    "b - \\frac{\\eta}{|\\mathcal{B}|} \\sum_{i \\in \\mathcal{B}} \\left(\\mathbf{w}^\\top \\mathbf{x}^{(i)} + b - y^{(i)}\\right).\n",
    "\\end{aligned}\n",
    "$\n",
    "\n",
    "- *hyper-parameters*\n",
    "- *Hyperparameter tuning*\n",
    "-  *generalization*\n",
    "\n",
    "- *prediction* and *inference* : Estimating targets given features\n",
    "***\n",
    "### Vectorization for Speed\n",
    "___\n",
    "## The Normal Distribution and Squared Loss\n",
    "\n",
    "\n",
    "a normal distribution with mean $\\mu$ and variance $\\sigma^2$\n",
    "is given as follows:\n",
    "\n",
    "$$p(z) = \\frac{1}{\\sqrt{2 \\pi \\sigma^2}} \\exp\\left(-\\frac{1}{2 \\sigma^2} (z - \\mu)^2\\right).$$\n"
   ]
  },
  {
   "cell_type": "code",
   "execution_count": 1,
   "metadata": {
    "pycharm": {
     "name": "#%%\n"
    }
   },
   "outputs": [],
   "source": [
    "# from Hands on ML\n",
    "# Python ≥3.5 is required\n",
    "import sys\n",
    "assert sys.version_info >= (3, 5)\n",
    "\n",
    "# Scikit-Learn ≥0.20 is required\n",
    "import sklearn\n",
    "assert sklearn.__version__ >= \"0.20\"\n",
    "\n",
    "# Common imports\n",
    "import numpy as np\n",
    "import os\n",
    "\n",
    "# to make this notebook's output stable across runs\n",
    "np.random.seed(42)\n",
    "\n",
    "# To plot pretty figures\n",
    "%matplotlib inline\n",
    "import matplotlib as mpl\n",
    "import matplotlib.pyplot as plt\n",
    "mpl.rc('axes', labelsize=14)\n",
    "mpl.rc('xtick', labelsize=12)\n",
    "mpl.rc('ytick', labelsize=12)\n",
    "\n",
    "# Where to save the figures\n",
    "PROJECT_ROOT_DIR = \".\"\n",
    "CHAPTER_ID = \"note0818\"\n",
    "IMAGES_PATH = os.path.join(PROJECT_ROOT_DIR, \"images\", CHAPTER_ID)\n",
    "os.makedirs(IMAGES_PATH, exist_ok=True)\n",
    "\n",
    "def save_fig(fig_id, tight_layout=True, fig_extension=\"png\", resolution=300):\n",
    "    path = os.path.join(IMAGES_PATH, fig_id + \".\" + fig_extension)\n",
    "    print(\"Saving figure\", fig_id)\n",
    "    if tight_layout:\n",
    "        plt.tight_layout()\n",
    "    plt.savefig(path, format=fig_extension, dpi=resolution)\n",
    "\n",
    "# Ignore useless warnings (see SciPy issue #5998)\n",
    "import warnings\n",
    "warnings.filterwarnings(action=\"ignore\", message=\"^internal gelsd\")"
   ]
  },
  {
   "cell_type": "code",
   "execution_count": 2,
   "metadata": {
    "pycharm": {
     "name": "#%%\n"
    }
   },
   "outputs": [],
   "source": [
    "def normal(z, mu, sigma):\n",
    "    p = 1 / np.sqrt(2 * np.pi * sigma**2)\n",
    "    return p * np.exp(- 0.5 / sigma**2 * (z - mu)**2)\n"
   ]
  },
  {
   "cell_type": "code",
   "execution_count": 4,
   "metadata": {
    "pycharm": {
     "name": "#%%\n"
    }
   },
   "outputs": [
    {
     "data": {
      "text/plain": [
       "Text(0, 0.5, 'p(z)')"
      ]
     },
     "execution_count": 4,
     "metadata": {},
     "output_type": "execute_result"
    },
    {
     "data": {
      "image/png": "[encoded data removed]",
      "text/plain": [
       "<Figure size 432x288 with 1 Axes>"
      ]
     },
     "metadata": {
      "needs_background": "light"
     },
     "output_type": "display_data"
    }
   ],
   "source": [
    "# Using numpy again for visualizations.\n",
    "x = np.arange(-7, 7, 0.01)\n",
    "parameters = [(0, 1), (0, 2), (3, 1)]\n",
    "y = [normal(x, mu, sigma) for mu, sigma in parameters]\n",
    "# Mean and variance pairs\n",
    "plt.plot(x,y[0][0:])\n",
    "plt.plot(x,y[1][0:])\n",
    "plt.plot(x,y[2][0:])\n",
    "plt.xlabel(\"z\", fontsize=14)\n",
    "plt.ylabel(\"p(z)\", fontsize=14)\n",
    "#         xlabel='z', ylabel='p(z)', figsize=(4.5, 2.5))\n",
    "#         legend=['mean %d, var %d' % (mu, sigma) for mu, sigma in parameters])"
   ]
  },
  {
   "cell_type": "markdown",
   "metadata": {
    "pycharm": {
     "name": "#%% md\n"
    }
   },
   "source": [
    "### Tips - Use Figure template !\n",
    ">make class or function for repeated figure format <br>\n",
    ">can use dl.mxnet class from d2l <br>\n",
    ">check other possibilities\n",
    "---"
   ]
  },
  {
   "cell_type": "markdown",
   "metadata": {
    "pycharm": {
     "name": "#%% md\n"
    }
   },
   "source": [
    "## The maximum likelihood principle\n",
    "\n",
    "$$y = \\mathbf{w}^\\top \\mathbf{x} + b + \\epsilon \\text{ where } \\epsilon \\sim \\mathcal{N}(0, \\sigma^2).$$\n",
    "\n",
    "Thus, we can now write out the *likelihood*\n",
    "of seeing a particular $y$ for a given $\\mathbf{x}$ via\n",
    "\n",
    "$$p(y|\\mathbf{x}) = \\frac{1}{\\sqrt{2 \\pi \\sigma^2}} \\exp\\left(-\\frac{1}{2 \\sigma^2} (y - \\mathbf{w}^\\top \\mathbf{x} - b)^2\\right).$$\n",
    "\n",
    "Now, according to the *maximum likelihood principle*,\n",
    "the best values of $b$ and $\\mathbf{w}$ are those\n",
    "that maximize the *likelihood* of the entire dataset:\n",
    "\n",
    "$$P(Y\\mid X) = \\prod_{i=1}^{n} p(y^{(i)}|\\mathbf{x}^{(i)}).$$\n",
    "\n",
    "### *Maximum Likelihood Estimators* (MLE)\n",
    "- product of many exponential functions, might look difficult\n",
    "- optimizations are more often expressed as minimization rather than maximization\n",
    "\n",
    "$$-\\log p(\\mathbf y|\\mathbf X) = \\sum_{i=1}^n \\frac{1}{2} \\log(2 \\pi \\sigma^2) + \\frac{1}{2 \\sigma^2} \\left(y^{(i)} - \\mathbf{w}^\\top \\mathbf{x}^{(i)} - b\\right)^2.$$\n",
    "\n",
    "- $\\sigma$ is some fixed constant, the solution does not depend on $\\sigma$ $\\rightarrow$ minimizing squared error is equivalent to maximum likelihood estimation of a linear model under the assumption of additive Gaussian noise\n",
    "---"
   ]
  },
  {
   "cell_type": "markdown",
   "metadata": {
    "pycharm": {
     "name": "#%% md\n"
    }
   },
   "source": [
    "### neural networks\n",
    "\n",
    "![Linear regression is a single-layer neural network. ](http://d2l.ai/_images/singleneuron.svg)\n",
    ":label:`fig_single_neuron`\n",
    "\n",
    "---\n",
    "### Linear Regression Implementation from Scratch and concise implementation\n",
    "\n",
    "- *Scratch* : implement the entire method from scratch,\n",
    "    - the data pipeline\n",
    "    - the model\n",
    "    - the loss function, e.g. Gluon implementation of squared loss (`L2Loss`)\n",
    "    - the gradient descent optimizer, e.g., stochastic gradient descent(SGD)\n",
    "        - autograd\n",
    "- *Consise*\n",
    "    - Gluon data processing, loss function\n",
    "    - MXNet initializer\n",
    "---\n",
    "### Softmax Resgression\n",
    "- apply to classification problems\n",
    "- Softmax operation\n",
    "    - interpret the outputs as probabilities\n",
    "    - optimize parameters to produce probabilities that maximize the likelihood of the observed data\n",
    "    - to generate predictions, set a threshold, choosing the label with the maximum predicted probabilities\n",
    "- ***softmax function*** by R. Duncan Luce(1959) : $\\mathrm{softmax}(\\mathbf{o})$\n",
    "    - logit $\\mathbf{o}$\n",
    "    - [logit, sigmoid, softmax](https://s3-ap-northeast-2.amazonaws.com/opentutorials-user-file/module/3653/9840.png)\n",
    "    - transform logits to nonnegative(exponentiate)\n",
    "    - the model remains differentiable,\n",
    "    - sum to $1$, divide by their sum (ensuring that they sum to $1$)\n",
    "\n",
    "$\\hat{\\mathbf{y}} = \\mathrm{softmax}(\\mathbf{o})$\n",
    " $\\quad \\text{where}$ $\\hat{y}_i = \\frac{\\exp(o_i)}{\\sum_j \\exp(o_j)}$\n",
    "---"
   ]
  },
  {
   "cell_type": "markdown",
   "metadata": {
    "pycharm": {
     "name": "#%% md\n"
    }
   },
   "source": [
    "### Loss Function\n",
    "- we need a loss function to measure the quality of our predicted probabilities\n",
    "- rely on maximum likelihood estimation\n",
    "\n",
    "### *log-likelyhood*\n",
    "$\n",
    "P(Y \\mid X) = \\prod_{i=1}^n P(y^{(i)} \\mid x^{(i)}) $ <\n",
    "\n",
    "and thus,\n",
    "\n",
    "\\begin{align}\n",
    "-\\log P(Y \\mid X) &= \\sum_{i=1}^n -\\log P(y^{(i)} \\mid x^{(i)})=\\sum_{i=1}^nl(y^{(i)},y^{(i)})\\\\\n",
    "\\end{align}\n",
    "\n",
    "the loss function $l$ for any pai of label $y$ and model prediction $\\hat{y}$ over $q$ classes(***cross-entropy loss***)\n",
    "\n",
    "\\begin{align}\n",
    "l(y, \\hat{y}) = -\\log P(y \\mid x) &= - \\sum_{j=1}^q y_j \\log \\hat{y}_j\n",
    "\\end{align}\n",
    "\n",
    "### *softmax and derivatives*\n",
    "\n",
    "\\begin{align}\n",
    "l(y, \\hat{y})  &= -\\sum_{j=1}^q y_j \\log \\hat{y}_j = -\\sum_{j=1}^q y_j \\log \\frac{\\exp(o_j)}{\\sum_{k=1}^q \\exp(o_k)}\\\\\n",
    "&= \\sum_{j=1}^q y_j \\log \\sum_{k=1}^q \\exp(o_k) - \\sum_{j=1}^q y_j o_j\\\\\n",
    "&= \\log \\sum_{k=1}^q \\exp(o_k) - \\sum_{j=1}^q y_j o_j \\\\\n",
    "\\partial_{o_j} l(y, \\hat{y}) &= \\frac{\\exp(o_j)}{\\sum_{k=1}^q \\exp(o_k)} - y_j = \\mathrm{softmax}(\\mathbf{o})_j - y_j = P(y_j \\mid x) - y_j.\n",
    "\\end{align}\n",
    "\n",
    "### *cross-entropy loss*\n",
    "---\n",
    "## Information Theory\n",
    "- Entropy\n",
    "- Surprisal\n",
    "- Cross-Entropy\n",
    "\n",
    "- check jupyter lab "
   ]
  },
  {
   "cell_type": "code",
   "execution_count": null,
   "metadata": {
    "collapsed": false,
    "jupyter": {
     "outputs_hidden": false
    },
    "pycharm": {
     "name": "#%%\n"
    }
   },
   "outputs": [],
   "source": []
  },
  {
   "cell_type": "code",
   "execution_count": null,
   "metadata": {},
   "outputs": [],
   "source": []
  }
 ],
 "metadata": {
  "kernelspec": {
   "display_name": "Python 3",
   "language": "python",
   "name": "python3"
  },
  "language_info": {
   "codemirror_mode": {
    "name": "ipython",
    "version": 3
   },
   "file_extension": ".py",
   "mimetype": "text/x-python",
   "name": "python",
   "nbconvert_exporter": "python",
   "pygments_lexer": "ipython3",
   "version": "3.8.3"
  }
 },
 "nbformat": 4,
 "nbformat_minor": 4
}
