{
 "cells": [
  {
   "cell_type": "markdown",
   "metadata": {
    "collapsed": true,
    "pycharm": {
     "name": "#%% md\n"
    }
   },
   "source": [
    "---\n",
    "#### <div align=\"right\">2020. 08. 18\n",
    "# Core Summary\n",
    "### Multilayer Perceptrons\n",
    "1. Activation fuction\n",
    "    - ReLU Function\n",
    "    - Sigmoid function\n",
    "    - Tanh function\n",
    "- Summary\n",
    "---"
   ]
  },
  {
   "cell_type": "markdown",
   "source": [
    "Activation function :\n",
    " decide whether a neuron should be activated or not by calculating the weighted sum and further adding bias with it.\n",
    "\n",
    "![[Perceptron]](/img/02_09.png)"
   ],
   "metadata": {
    "collapsed": false,
    "pycharm": {
     "name": "#%% md\n"
    }
   }
  },
  {
   "cell_type": "code",
   "execution_count": null,
   "outputs": [],
   "source": [],
   "metadata": {
    "collapsed": false,
    "pycharm": {
     "name": "#%%\n"
    }
   }
  }
 ],
 "metadata": {
  "kernelspec": {
   "display_name": "Python 3",
   "language": "python",
   "name": "python3"
  },
  "language_info": {
   "codemirror_mode": {
    "name": "ipython",
    "version": 2
   },
   "file_extension": ".py",
   "mimetype": "text/x-python",
   "name": "python",
   "nbconvert_exporter": "python",
   "pygments_lexer": "ipython2",
   "version": "2.7.6"
  }
 },
 "nbformat": 4,
 "nbformat_minor": 0
}