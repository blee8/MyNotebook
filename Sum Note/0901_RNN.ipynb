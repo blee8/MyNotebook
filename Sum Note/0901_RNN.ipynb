{
 "cells": [
  {
   "cell_type": "markdown",
   "source": [
    "***Part 4: Deep learning for computer vision and language modeling***\n",
    "\n",
    "- L12: Introduction to convolutional neural networks 1 (record) (https://www.youtube.com/watch?v=7ftuaShIzhc)\n",
    "- L13: Introduction to convolutional neural networks 2 (record) (https://www.youtube.com/watch?v=mZmyp0JjH6s) (https://www.youtube.com/watch?v=ji05GxulVuY)\n",
    "- L14: Introduction to recurrent neural networks 1 (record) (https://www.youtube.com/watch?v=tFWex9e-sg8)\n",
    "\n",
    "\n",
    "slides : (C:\\Users\\user\\Documents\\GitHub\\stat453-deep-learning-ss20\\L14-rnns)"
   ],
   "metadata": {
    "collapsed": false
   }
  },
  {
   "cell_type": "code",
   "execution_count": null,
   "outputs": [],
   "source": [],
   "metadata": {
    "collapsed": false,
    "pycharm": {
     "name": "#%%\n"
    }
   }
  }
 ],
 "metadata": {
  "kernelspec": {
   "display_name": "Python 3",
   "language": "python",
   "name": "python3"
  },
  "language_info": {
   "codemirror_mode": {
    "name": "ipython",
    "version": 2
   },
   "file_extension": ".py",
   "mimetype": "text/x-python",
   "name": "python",
   "nbconvert_exporter": "python",
   "pygments_lexer": "ipython2",
   "version": "2.7.6"
  }
 },
 "nbformat": 4,
 "nbformat_minor": 0
}