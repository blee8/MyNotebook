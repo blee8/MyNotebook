{
 "cells": [
  {
   "cell_type": "markdown",
   "metadata": {
    "id": "2Pmxv2ioyCRw"
   },
   "source": [
    "# 시계열 예측 - clogging\n"
   ]
  },
  {
   "cell_type": "code",
   "execution_count": 18,
   "metadata": {
    "execution": {
     "iopub.execute_input": "2020-11-12T06:10:44.134678Z",
     "iopub.status.busy": "2020-11-12T06:10:44.133975Z",
     "iopub.status.idle": "2020-11-12T06:10:50.647608Z",
     "shell.execute_reply": "2020-11-12T06:10:50.647006Z"
    },
    "id": "7rZnJaGTWQw0"
   },
   "outputs": [],
   "source": [
    "import os\n",
    "import datetime\n",
    "\n",
    "import IPython\n",
    "import IPython.display\n",
    "import matplotlib as mpl\n",
    "import matplotlib.pyplot as plt\n",
    "import numpy as np\n",
    "import pandas as pd\n",
    "import seaborn as sns\n",
    "import tensorflow as tf\n",
    "\n",
    "mpl.rcParams['figure.figsize'] = (8, 6)\n",
    "mpl.rcParams['axes.grid'] = False"
   ]
  },
  {
   "cell_type": "markdown",
   "metadata": {
    "id": "TokBlnUhWFw9"
   },
   "source": [
    "## clogging data"
   ]
  },
  {
   "cell_type": "markdown",
   "source": [
    "```\n",
    "zip_path = tf.keras.utils.get_file(\n",
    "    origin='https://storage.googleapis.com/tensorflow/tf-keras-datasets/jena_climate_2009_2016.csv.zip',\n",
    "    fname='jena_climate_2009_2016.csv.zip',\n",
    "    extract=True)\n",
    "csv_path, _ = os.path.splitext(zip_path)\n",
    "```"
   ],
   "metadata": {
    "collapsed": false,
    "pycharm": {
     "name": "#%% md\n"
    }
   }
  },
  {
   "cell_type": "code",
   "execution_count": 19,
   "outputs": [
    {
     "data": {
      "text/plain": "       IR  FlowHt  Base  MixS75  MixS50  MixS25\n0  1.0000  0.0000     1       0       0       0\n1  0.9995  0.1798     1       0       0       0\n2  0.9985  0.5389     1       0       0       0\n3  0.9970  1.0757     1       0       0       0\n4  0.9950  1.7884     1       0       0       0",
      "text/html": "<div>\n<style scoped>\n    .dataframe tbody tr th:only-of-type {\n        vertical-align: middle;\n    }\n\n    .dataframe tbody tr th {\n        vertical-align: top;\n    }\n\n    .dataframe thead th {\n        text-align: right;\n    }\n</style>\n<table border=\"1\" class=\"dataframe\">\n  <thead>\n    <tr style=\"text-align: right;\">\n      <th></th>\n      <th>IR</th>\n      <th>FlowHt</th>\n      <th>Base</th>\n      <th>MixS75</th>\n      <th>MixS50</th>\n      <th>MixS25</th>\n    </tr>\n  </thead>\n  <tbody>\n    <tr>\n      <th>0</th>\n      <td>1.0000</td>\n      <td>0.0000</td>\n      <td>1</td>\n      <td>0</td>\n      <td>0</td>\n      <td>0</td>\n    </tr>\n    <tr>\n      <th>1</th>\n      <td>0.9995</td>\n      <td>0.1798</td>\n      <td>1</td>\n      <td>0</td>\n      <td>0</td>\n      <td>0</td>\n    </tr>\n    <tr>\n      <th>2</th>\n      <td>0.9985</td>\n      <td>0.5389</td>\n      <td>1</td>\n      <td>0</td>\n      <td>0</td>\n      <td>0</td>\n    </tr>\n    <tr>\n      <th>3</th>\n      <td>0.9970</td>\n      <td>1.0757</td>\n      <td>1</td>\n      <td>0</td>\n      <td>0</td>\n      <td>0</td>\n    </tr>\n    <tr>\n      <th>4</th>\n      <td>0.9950</td>\n      <td>1.7884</td>\n      <td>1</td>\n      <td>0</td>\n      <td>0</td>\n      <td>0</td>\n    </tr>\n  </tbody>\n</table>\n</div>"
     },
     "metadata": {},
     "output_type": "display_data"
    }
   ],
   "source": [
    "import os\n",
    "import mglearn\n",
    "\n",
    "df = pd.read_csv(\n",
    "    os.path.join(mglearn.datasets.DATA_PATH, \"constant_trial.csv\") )\n",
    "\n",
    "# 예제를 위해 몇개의 열만 선택합니다\n",
    "#df = df[['IR', 'FlowHt', 'Const', 'Var', 'Base', 'MixS75','MixS50','MixS25']]\n",
    "df = df[['IR', 'FlowHt', 'Base', 'MixS75','MixS50','MixS25']]\n",
    "display(df.head())\n"
   ],
   "metadata": {
    "collapsed": false,
    "pycharm": {
     "name": "#%%\n"
    }
   }
  },
  {
   "cell_type": "markdown",
   "source": [
    "```\n",
    "from sklearn.preprocessing import LabelEncoder, OneHotEncoder\n",
    "Oneencoder = OneHotEncoder(categorical_features=[0])\n",
    "#df[:,4] = encoder.fit_transform(df[:,4])\n",
    "\n",
    "df[:,4] = Oneencoder.fit_transform(df[:,4])\n",
    "```"
   ],
   "metadata": {
    "collapsed": false,
    "pycharm": {
     "name": "#%% md\n"
    }
   }
  },
  {
   "cell_type": "code",
   "execution_count": 20,
   "outputs": [],
   "source": [
    "# 검사 및 정리하기\n",
    "\n",
    "### 데이터 분할\n",
    "\n",
    "column_indices = {name: i for i, name in enumerate(df.columns)}\n",
    "\n",
    "n = len(df)\n",
    "#train_df = df[0:int(n*0.7)]\n",
    "train_df = df[0:int(n*0.5)].copy()\n",
    "test_df = df[int(n*0.5):int(n*0.75)].copy()\n",
    "val_df = df[int(n*0.75):].copy()\n",
    "\n",
    "num_features = df.shape[1]\n",
    "num_features\n",
    "\n",
    "\n",
    "train_df.describe()\n",
    "\n",
    "train_mean = train_df.mean()\n",
    "train_std = train_df.std()"
   ],
   "metadata": {
    "collapsed": false,
    "pycharm": {
     "name": "#%%\n"
    }
   }
  },
  {
   "cell_type": "code",
   "source": [
    "# ## 데이터 정규화\n",
    "\n",
    "train_mean = train_df.mean()\n",
    "train_std = train_df.std()\n",
    "\n",
    "train_df.iloc[:,:2] = (train_df.iloc[:,:2] - train_mean.iloc[:2]) / train_std.iloc[:2]\n",
    "val_df.iloc[:,:2]  = (val_df.iloc[:,:2]  - train_mean[:2]) / train_std[:2]\n",
    "test_df.iloc[:,:2]  = (test_df.iloc[:,:2]  - train_mean[:2]) / train_std[:2]\n",
    "\n",
    "train_df.describe()\n",
    "val_df.describe()\n"
   ],
   "metadata": {
    "collapsed": false,
    "pycharm": {
     "name": "#%%\n"
    }
   },
   "execution_count": 21,
   "outputs": [
    {
     "data": {
      "text/plain": "                 IR     FlowHt  Base  MixS75  MixS50  MixS25\ncount  5.800000e+01  58.000000  58.0    58.0    58.0    58.0\nmean  -4.134624e-16  -0.853230   0.0     0.0     0.0     1.0\nstd    1.004376e+00   0.067829   0.0     0.0     0.0     0.0\nmin   -2.169563e+00  -1.030756   0.0     0.0     0.0     1.0\n25%   -7.442049e-01  -0.882278   0.0     0.0     0.0     1.0\n50%    2.780219e-01  -0.840215   0.0     0.0     0.0     1.0\n75%    8.971169e-01  -0.806375   0.0     0.0     0.0     1.0\nmax    1.113080e+00  -0.754539   0.0     0.0     0.0     1.0",
      "text/html": "<div>\n<style scoped>\n    .dataframe tbody tr th:only-of-type {\n        vertical-align: middle;\n    }\n\n    .dataframe tbody tr th {\n        vertical-align: top;\n    }\n\n    .dataframe thead th {\n        text-align: right;\n    }\n</style>\n<table border=\"1\" class=\"dataframe\">\n  <thead>\n    <tr style=\"text-align: right;\">\n      <th></th>\n      <th>IR</th>\n      <th>FlowHt</th>\n      <th>Base</th>\n      <th>MixS75</th>\n      <th>MixS50</th>\n      <th>MixS25</th>\n    </tr>\n  </thead>\n  <tbody>\n    <tr>\n      <th>count</th>\n      <td>5.800000e+01</td>\n      <td>58.000000</td>\n      <td>58.0</td>\n      <td>58.0</td>\n      <td>58.0</td>\n      <td>58.0</td>\n    </tr>\n    <tr>\n      <th>mean</th>\n      <td>-4.134624e-16</td>\n      <td>-0.853230</td>\n      <td>0.0</td>\n      <td>0.0</td>\n      <td>0.0</td>\n      <td>1.0</td>\n    </tr>\n    <tr>\n      <th>std</th>\n      <td>1.004376e+00</td>\n      <td>0.067829</td>\n      <td>0.0</td>\n      <td>0.0</td>\n      <td>0.0</td>\n      <td>0.0</td>\n    </tr>\n    <tr>\n      <th>min</th>\n      <td>-2.169563e+00</td>\n      <td>-1.030756</td>\n      <td>0.0</td>\n      <td>0.0</td>\n      <td>0.0</td>\n      <td>1.0</td>\n    </tr>\n    <tr>\n      <th>25%</th>\n      <td>-7.442049e-01</td>\n      <td>-0.882278</td>\n      <td>0.0</td>\n      <td>0.0</td>\n      <td>0.0</td>\n      <td>1.0</td>\n    </tr>\n    <tr>\n      <th>50%</th>\n      <td>2.780219e-01</td>\n      <td>-0.840215</td>\n      <td>0.0</td>\n      <td>0.0</td>\n      <td>0.0</td>\n      <td>1.0</td>\n    </tr>\n    <tr>\n      <th>75%</th>\n      <td>8.971169e-01</td>\n      <td>-0.806375</td>\n      <td>0.0</td>\n      <td>0.0</td>\n      <td>0.0</td>\n      <td>1.0</td>\n    </tr>\n    <tr>\n      <th>max</th>\n      <td>1.113080e+00</td>\n      <td>-0.754539</td>\n      <td>0.0</td>\n      <td>0.0</td>\n      <td>0.0</td>\n      <td>1.0</td>\n    </tr>\n  </tbody>\n</table>\n</div>"
     },
     "execution_count": 21,
     "metadata": {},
     "output_type": "execute_result"
    }
   ]
  },
  {
   "cell_type": "code",
   "execution_count": 22,
   "outputs": [
    {
     "data": {
      "text/plain": "<Figure size 864x432 with 1 Axes>",
      "image/png": "[encoded data removed]"
     },
     "metadata": {
      "needs_background": "light"
     },
     "output_type": "display_data"
    }
   ],
   "source": [
    "train_mean = train_df.mean()\n",
    "train_std = train_df.std()\n",
    "#df_std = (df - train_mean) / train_std\n",
    "df_mean = df.mean()\n",
    "df_std = df.std()\n",
    "df_std_s = (df - train_mean) / train_std\n",
    "df_std_m = df_std_s.melt(var_name='Column', value_name='Normalized')\n",
    "plt.figure(figsize=(12, 6))\n",
    "ax = sns.violinplot(x='Column', y='Normalized', data=df_std_m)\n",
    "_ = ax.set_xticklabels(df.keys(), rotation=90)\n"
   ],
   "metadata": {
    "collapsed": false,
    "pycharm": {
     "name": "#%%\n"
    }
   }
  },
  {
   "cell_type": "markdown",
   "source": [
    "### remove nan after standard normalization\n",
    "```\n",
    "#drop feature including NaN\n",
    "df1 = df_std_s.dropna(axis = 1)\n",
    "df1.info()\n",
    "\n",
    "corr_matrix = df1.corr()\n",
    "corr_matrix[\"FlowHt\"].sort_values(ascending=False)\n",
    "```"
   ],
   "metadata": {
    "collapsed": false,
    "pycharm": {
     "name": "#%% md\n"
    }
   }
  },
  {
   "cell_type": "code",
   "execution_count": 23,
   "outputs": [],
   "source": [
    "df_pop = df.copy()\n",
    "IR =  df_pop.pop('IR')"
   ],
   "metadata": {
    "collapsed": false,
    "pycharm": {
     "name": "#%%\n"
    }
   }
  },
  {
   "cell_type": "code",
   "execution_count": 24,
   "outputs": [
    {
     "data": {
      "text/plain": "(1.041325, 0.0)"
     },
     "execution_count": 24,
     "metadata": {},
     "output_type": "execute_result"
    },
    {
     "data": {
      "text/plain": "<Figure size 576x432 with 1 Axes>",
      "image/png": "[encoded data removed]"
     },
     "metadata": {
      "needs_background": "light"
     },
     "output_type": "display_data"
    }
   ],
   "source": [
    "plot_cols = ['FlowHt']\n",
    "plot_features = df[plot_cols]\n",
    "plot_features.index = IR\n",
    "_ = plot_features.plot( linestyle = 'None', marker = '.', subplots=True)\n",
    "plt.xlim([plt.xlim()[1], 0])"
   ],
   "metadata": {
    "collapsed": false,
    "pycharm": {
     "name": "#%%\n"
    }
   }
  },
  {
   "cell_type": "code",
   "execution_count": 25,
   "outputs": [
    {
     "data": {
      "text/plain": "(1.041325, 0.0)"
     },
     "execution_count": 25,
     "metadata": {},
     "output_type": "execute_result"
    },
    {
     "data": {
      "text/plain": "<Figure size 576x432 with 1 Axes>",
      "image/png": "[encoded data removed]"
     },
     "metadata": {
      "needs_background": "light"
     },
     "output_type": "display_data"
    }
   ],
   "source": [
    "plt.plot(df.iloc[0:58,0], df.iloc[0:58,1], 'g-'\n",
    "         , df.iloc[58:116,0], df.iloc[58:116,1],'r--'\n",
    "         ,df.iloc[116:174,0], df.iloc[116:174,1],'b-'\n",
    "         ,df.iloc[174:232,0], df.iloc[174:232,1], 'm-')\n",
    "plt.xlabel('norm IR')\n",
    "plt.ylabel('Flow Height [m]')\n",
    "#plt.axis('equal')\n",
    "#plt.axis('square')\n",
    "plt.xlim([plt.xlim()[1], 0])\n",
    "#plt.ylim([0,plt.ylim()[1]])\n",
    "#_ = plt.plot([-100, 100], [-100, 100])"
   ],
   "metadata": {
    "collapsed": false,
    "pycharm": {
     "name": "#%%\n"
    }
   }
  },
  {
   "cell_type": "code",
   "execution_count": 26,
   "outputs": [
    {
     "data": {
      "text/plain": "<matplotlib.legend.Legend at 0x21911d41fd0>"
     },
     "execution_count": 26,
     "metadata": {},
     "output_type": "execute_result"
    },
    {
     "data": {
      "text/plain": "<Figure size 576x432 with 1 Axes>",
      "image/png": "[encoded data removed]"
     },
     "metadata": {
      "needs_background": "light"
     },
     "output_type": "display_data"
    }
   ],
   "source": [
    "plt.plot(train_df['IR'], train_df['FlowHt'], 'g.', label='train')\n",
    "plt.plot(         val_df['IR'], val_df['FlowHt'], 'r.', label='val')\n",
    "plt.plot(          test_df['IR'], test_df['FlowHt'], 'k.', label='test')\n",
    "plt.xlabel('norm IR')\n",
    "plt.ylabel('norm Flow Height [m]')\n",
    "plt.xlim([plt.xlim()[1], plt.xlim()[0]])\n",
    "plt.ylim([plt.ylim()[0], plt.ylim()[1]])\n",
    "plt.legend(loc='best')\n"
   ],
   "metadata": {
    "collapsed": false,
    "pycharm": {
     "name": "#%%\n"
    }
   }
  },
  {
   "cell_type": "code",
   "execution_count": 27,
   "outputs": [
    {
     "data": {
      "text/plain": "<Figure size 576x432 with 1 Axes>",
      "image/png": "[encoded data removed]"
     },
     "metadata": {
      "needs_background": "light"
     },
     "output_type": "display_data"
    }
   ],
   "source": [
    "ax = val_df.plot(kind=\"scatter\", x=\"IR\", y=\"FlowHt\")\n",
    "\n",
    "ax.invert_xaxis()"
   ],
   "metadata": {
    "collapsed": false,
    "pycharm": {
     "name": "#%%\n"
    }
   }
  },
  {
   "cell_type": "markdown",
   "metadata": {
    "id": "ZBBmdxZ2HgfJ"
   },
   "source": [
    "## 데이터 창 작업\n",
    "### WindowGrerator Class"
   ]
  },
  {
   "cell_type": "code",
   "execution_count": 28,
   "metadata": {
    "execution": {
     "iopub.execute_input": "2020-11-12T06:11:02.653701Z",
     "iopub.status.busy": "2020-11-12T06:11:02.652951Z",
     "iopub.status.idle": "2020-11-12T06:11:02.655124Z",
     "shell.execute_reply": "2020-11-12T06:11:02.655538Z"
    },
    "id": "Kem30j8QHxyW"
   },
   "outputs": [],
   "source": [
    "class WindowGenerator():\n",
    "  def __init__(self, input_width, label_width, shift,\n",
    "               train_df=train_df, val_df=val_df, test_df=test_df,\n",
    "               label_columns=None):\n",
    "    # Store the raw data.\n",
    "    self.train_df = train_df\n",
    "    self.val_df = val_df\n",
    "    self.test_df = test_df\n",
    "\n",
    "    # Work out the label column indices.\n",
    "    self.label_columns = label_columns\n",
    "    if label_columns is not None:\n",
    "      self.label_columns_indices = {name: i for i, name in\n",
    "                                    enumerate(label_columns)}\n",
    "    self.column_indices = {name: i for i, name in\n",
    "                           enumerate(train_df.columns)}\n",
    "\n",
    "    # Work out the window parameters.\n",
    "    self.input_width = input_width\n",
    "    self.label_width = label_width\n",
    "    self.shift = shift\n",
    "\n",
    "    self.total_window_size = input_width + shift\n",
    "\n",
    "    self.input_slice = slice(0, input_width)\n",
    "    self.input_indices = np.arange(self.total_window_size)[self.input_slice]\n",
    "\n",
    "    self.label_start = self.total_window_size - self.label_width\n",
    "    self.labels_slice = slice(self.label_start, None)\n",
    "    self.label_indices = np.arange(self.total_window_size)[self.labels_slice]\n",
    "\n",
    "  def __repr__(self):\n",
    "    return '\\n'.join([\n",
    "        f'Total window size: {self.total_window_size}',\n",
    "        f'Input indices: {self.input_indices}',\n",
    "        f'Label indices: {self.label_indices}',\n",
    "        f'Label column name(s): {self.label_columns}'\n",
    "    ])\n",
    "\n",
    "\n",
    "def split_window(self, features):\n",
    "  inputs = features[:, self.input_slice, :]\n",
    "  labels = features[:, self.labels_slice, :]\n",
    "\n",
    "  if self.label_columns is not None:\n",
    "    labels = tf.stack(\n",
    "        [labels[:, :, self.column_indices[name]] for name in self.label_columns],\n",
    "        axis=-1)\n",
    "  # Slicing doesn't preserve static shape information, so set the shapes\n",
    "  # manually. This way the `tf.data.Datasets` are easier to inspect.\n",
    "  inputs.set_shape([None, self.input_width, None])\n",
    "  labels.set_shape([None, self.label_width, None])\n",
    "  return inputs, labels\n",
    "\n",
    "WindowGenerator.split_window = split_window\n",
    "\n",
    "\n",
    "def make_dataset(self, data):\n",
    "  data = np.array(data, dtype=np.float32)\n",
    "  ds = tf.keras.preprocessing.timeseries_dataset_from_array(\n",
    "      data=data,\n",
    "      targets=None,\n",
    "      sequence_length=self.total_window_size,\n",
    "      sequence_stride=1,\n",
    "      shuffle=False, #default\n",
    "#      shuffle=True, #default\n",
    "      batch_size=16,)\n",
    "  ds = ds.map(self.split_window)\n",
    "  return ds\n",
    "\n",
    "WindowGenerator.make_dataset = make_dataset\n",
    "\n",
    "def time(self, data) :\n",
    "    data = np.array(data, dtype=np.float32)\n",
    "    ds_lab = tf.keras.preprocessing.timeseries_dataset_from_array(\n",
    "      data=data,\n",
    "      targets=None,\n",
    "      sequence_length=self.total_window_size,\n",
    "      sequence_stride=1,\n",
    "      shuffle=False, #default\n",
    "#      shuffle=True, #default\n",
    "      batch_size=16,)\n",
    "#\n",
    "#    for batch in ds:\n",
    "#        labels_1 = batch[:, self.labels_slice, :]\n",
    "#        labels_t = tf.stack( [labels_1[:, :, 0:2]])\n",
    "#    labels_t = labels_t[0,:,:,:]\n",
    "    ds_lab = ds_lab.map(self.split_window_lab)\n",
    "\n",
    "    return ds_lab\n",
    "\n",
    "WindowGenerator.time = time\n",
    "\n",
    "def split_window_lab(self, features):\n",
    "#  inputs_t = features[:, self.input_slice, :]\n",
    "  labels_t = features[:, self.labels_slice, :]\n",
    "\n",
    "  lab = tf.identity(labels_t)\n",
    "  lab = tf.stack([lab[:, :, 0:2]])\n",
    "  lab = lab[0,:,:,:]\n",
    "\n",
    "#  if self.label_columns is not None:\n",
    "#    labels_t = tf.stack(\n",
    "#        [labels_t[:, :, self.column_indices[name]] for name in self.label_columns],\n",
    "#        axis=-1)\n",
    "\n",
    "  # Slicing doesn't preserve static shape information, so set the shapes\n",
    "  # manually. This way the `tf.data.Datasets` are easier to inspect.\n",
    "#  inputs_t.set_shape([None, self.input_width, None])\n",
    "#  labels_t.set_shape([None, self.label_width, None])\n",
    "  lab.set_shape([None, self.label_width, None])\n",
    "\n",
    "#  return inputs_t,labels_t, lab\n",
    "  return lab\n",
    "\n",
    "WindowGenerator.split_window_lab = split_window_lab\n",
    "\n",
    "\n",
    "@property\n",
    "def train(self):\n",
    "  return self.make_dataset(self.train_df)\n",
    "#  return self.make_dataset(self.train_df_s)\n",
    "\n",
    "@property\n",
    "def val(self):\n",
    "  return self.make_dataset(self.val_df)\n",
    "#  return self.make_dataset(self.val_df_s)\n",
    "\n",
    "@property\n",
    "def test(self):\n",
    "  return self.make_dataset(self.test_df)\n",
    "#  return self.make_dataset(self.test_df_s)\n",
    "\n",
    "@property\n",
    "def example(self):\n",
    "  \"\"\"Get and cache an example batch of `inputs, labels` for plotting.\"\"\"\n",
    "  result = getattr(self, '_example', None)\n",
    "  if result is None:\n",
    "    # No example batch was found, so get one from the `.train` dataset\n",
    "    result = next(iter(self.train))\n",
    "    # And cache it for next time\n",
    "    self._example = result\n",
    "  return result\n",
    "\n",
    "\n",
    "WindowGenerator.train = train\n",
    "WindowGenerator.val = val\n",
    "WindowGenerator.test = test\n",
    "WindowGenerator.example = example\n",
    "\n",
    "@property\n",
    "def train_time (self):\n",
    "    return self.time(self.train_df)\n",
    "@property\n",
    "def val_time (self):\n",
    "    return self.time(self.val_df)\n",
    "@property\n",
    "def test_time (self):\n",
    "    return self.time(self.test_df)\n",
    "\n",
    "\n",
    "WindowGenerator.train_time = train_time\n",
    "WindowGenerator.val_time = val_time\n",
    "WindowGenerator.test_time = test_time"
   ]
  },
  {
   "cell_type": "code",
   "execution_count": 29,
   "outputs": [],
   "source": [
    "wide_window = WindowGenerator(\n",
    "    input_width=8, label_width=8, shift=1,\n",
    "    label_columns=['FlowHt'])\n",
    "\n",
    "wide_window\n",
    "#print(wide_window)\n",
    "\n",
    "\n",
    "dataset_test = wide_window.train\n",
    "for batch in dataset_test :\n",
    "    inputs, targets = batch\n",
    "timeset = wide_window.train_time\n",
    "for batch in timeset :\n",
    "    lab = batch"
   ],
   "metadata": {
    "collapsed": false,
    "pycharm": {
     "name": "#%%\n"
    }
   }
  },
  {
   "cell_type": "markdown",
   "source": [
    "### plot : original, one batch example, time indeces plot"
   ],
   "metadata": {
    "collapsed": false,
    "pycharm": {
     "name": "#%% md\n"
    }
   }
  },
  {
   "cell_type": "code",
   "execution_count": 30,
   "outputs": [
    {
     "name": "stdout",
     "output_type": "stream",
     "text": [
      "0\n",
      "Inputs shape (batch, time, features): (16, 8, 6)\n",
      "Labels shape (batch, time, features): (16, 8, 1)\n",
      "1\n",
      "Inputs shape (batch, time, features): (16, 8, 6)\n",
      "Labels shape (batch, time, features): (16, 8, 1)\n"
     ]
    }
   ],
   "source": [
    "n=0\n",
    "for example_inputs, example_labels in wide_window.train.take(2):\n",
    "#for example_inputs, example_labels in wide_window.train:\n",
    "  print(n)\n",
    "  print(f'Inputs shape (batch, time, features): {example_inputs.shape}')\n",
    "  print(f'Labels shape (batch, time, features): {example_labels.shape}')\n",
    "#  print(f'Inputs shape (batch, time, features): {example_inputs[31][23][18]}')\n",
    "#  print(f'Inputs shape (batch, time, features): {example_inputs[0][0:2][:]}')\n",
    "#  print(f'Inputs shape (batch, time, features): {example_inputs}')\n",
    "  n+=1"
   ],
   "metadata": {
    "collapsed": false,
    "pycharm": {
     "name": "#%%\n"
    }
   }
  },
  {
   "cell_type": "code",
   "execution_count": 31,
   "outputs": [
    {
     "data": {
      "text/plain": "<Figure size 864x576 with 3 Axes>",
      "image/png": "[encoded data removed]"
     },
     "metadata": {
      "needs_background": "light"
     },
     "output_type": "display_data"
    }
   ],
   "source": [
    "def plot(self, model=None, plot_col='FlowHt', max_subplots=3):\n",
    "  inputs, labels = self.example\n",
    "  plt.figure(figsize=(12, 8))\n",
    "  plot_col_index = self.column_indices[plot_col]\n",
    "  max_n = min(max_subplots, len(inputs))\n",
    "  for n in range(max_n):\n",
    "#  for n in range(3, 32):\n",
    "    plt.subplot(3, 1, n+1)\n",
    "    plt.ylabel(f'{plot_col} [normed]')\n",
    "    plt.plot(self.input_indices, inputs[n, :, plot_col_index],\n",
    "             label='Inputs', marker='.', zorder=-10)\n",
    "\n",
    "    if self.label_columns:\n",
    "      label_col_index = self.label_columns_indices.get(plot_col, None)\n",
    "    else:\n",
    "      label_col_index = plot_col_index\n",
    "\n",
    "    if label_col_index is None:\n",
    "      continue\n",
    "\n",
    "    plt.scatter(self.label_indices, labels[n, :, label_col_index],\n",
    "                edgecolors='k', label='Labels', c='#2ca02c', s=64)\n",
    "    if model is not None:\n",
    "      predictions = model(inputs)\n",
    "      plt.scatter(self.label_indices, predictions[n, :, label_col_index],\n",
    "                  marker='X', edgecolors='k', label='Predictions',\n",
    "                  c='#ff7f0e', s=64)\n",
    "\n",
    "    if n == 0:\n",
    "      plt.legend()\n",
    "\n",
    "  plt.xlabel('IR')\n",
    "\n",
    "WindowGenerator.plot = plot\n",
    "\n",
    "wide_window.plot()"
   ],
   "metadata": {
    "collapsed": false,
    "pycharm": {
     "name": "#%%\n"
    }
   }
  },
  {
   "cell_type": "code",
   "execution_count": 32,
   "outputs": [
    {
     "data": {
      "text/plain": "True"
     },
     "execution_count": 32,
     "metadata": {},
     "output_type": "execute_result"
    }
   ],
   "source": [
    "tf.executing_eagerly()"
   ],
   "metadata": {
    "collapsed": false,
    "pycharm": {
     "name": "#%%\n"
    }
   }
  },
  {
   "cell_type": "code",
   "execution_count": 33,
   "outputs": [
    {
     "data": {
      "text/plain": "<Figure size 720x144 with 1 Axes>",
      "image/png": "[encoded data removed]"
     },
     "metadata": {
      "needs_background": "light"
     },
     "output_type": "display_data"
    }
   ],
   "source": [
    "ax = val_df.plot(kind=\"scatter\", x=\"IR\", y=\"FlowHt\", figsize=(10,2))\n",
    "\n",
    "ax.invert_xaxis()"
   ],
   "metadata": {
    "collapsed": false,
    "pycharm": {
     "name": "#%%\n"
    }
   }
  },
  {
   "cell_type": "markdown",
   "source": [
    "## plot_4"
   ],
   "metadata": {
    "collapsed": false,
    "pycharm": {
     "name": "#%% md\n"
    }
   }
  },
  {
   "cell_type": "code",
   "execution_count": 47,
   "outputs": [
    {
     "name": "stdout",
     "output_type": "stream",
     "text": [
      "0 tf.Tensor(\n",
      "[[[ 1.1110945  -1.0252376 ]\n",
      "  [ 1.1071228  -1.0142165 ]\n",
      "  [ 1.101165   -0.9977417 ]\n",
      "  [ 1.0932217  -0.9758684 ]\n",
      "  [ 1.0832922  -0.9486825 ]\n",
      "  [ 1.071377   -0.9162792 ]\n",
      "  [ 1.0574759  -0.8787874 ]\n",
      "  [ 1.041589   -0.836339  ]]\n",
      "\n",
      " [[ 1.1071228  -1.0142165 ]\n",
      "  [ 1.101165   -0.9977417 ]\n",
      "  [ 1.0932217  -0.9758684 ]\n",
      "  [ 1.0832922  -0.9486825 ]\n",
      "  [ 1.071377   -0.9162792 ]\n",
      "  [ 1.0574759  -0.8787874 ]\n",
      "  [ 1.041589   -0.836339  ]\n",
      "  [ 1.0237162  -0.7890998 ]]\n",
      "\n",
      " [[ 1.101165   -0.9977417 ]\n",
      "  [ 1.0932217  -0.9758684 ]\n",
      "  [ 1.0832922  -0.9486825 ]\n",
      "  [ 1.071377   -0.9162792 ]\n",
      "  [ 1.0574759  -0.8787874 ]\n",
      "  [ 1.041589   -0.836339  ]\n",
      "  [ 1.0237162  -0.7890998 ]\n",
      "  [ 1.0038575  -0.7372447 ]]\n",
      "\n",
      " [[ 1.0932217  -0.9758684 ]\n",
      "  [ 1.0832922  -0.9486825 ]\n",
      "  [ 1.071377   -0.9162792 ]\n",
      "  [ 1.0574759  -0.8787874 ]\n",
      "  [ 1.041589   -0.836339  ]\n",
      "  [ 1.0237162  -0.7890998 ]\n",
      "  [ 1.0038575  -0.7372447 ]\n",
      "  [ 0.98201287 -0.680964  ]]\n",
      "\n",
      " [[ 1.0832922  -0.9486825 ]\n",
      "  [ 1.071377   -0.9162792 ]\n",
      "  [ 1.0574759  -0.8787874 ]\n",
      "  [ 1.041589   -0.836339  ]\n",
      "  [ 1.0237162  -0.7890998 ]\n",
      "  [ 1.0038575  -0.7372447 ]\n",
      "  [ 0.98201287 -0.680964  ]\n",
      "  [ 0.95818245 -0.6204756 ]]\n",
      "\n",
      " [[ 1.071377   -0.9162792 ]\n",
      "  [ 1.0574759  -0.8787874 ]\n",
      "  [ 1.041589   -0.836339  ]\n",
      "  [ 1.0237162  -0.7890998 ]\n",
      "  [ 1.0038575  -0.7372447 ]\n",
      "  [ 0.98201287 -0.680964  ]\n",
      "  [ 0.95818245 -0.6204756 ]\n",
      "  [ 0.93236613 -0.5560066 ]]\n",
      "\n",
      " [[ 1.0574759  -0.8787874 ]\n",
      "  [ 1.041589   -0.836339  ]\n",
      "  [ 1.0237162  -0.7890998 ]\n",
      "  [ 1.0038575  -0.7372447 ]\n",
      "  [ 0.98201287 -0.680964  ]\n",
      "  [ 0.95818245 -0.6204756 ]\n",
      "  [ 0.93236613 -0.5560066 ]\n",
      "  [ 0.90456396 -0.4877964 ]]\n",
      "\n",
      " [[ 1.041589   -0.836339  ]\n",
      "  [ 1.0237162  -0.7890998 ]\n",
      "  [ 1.0038575  -0.7372447 ]\n",
      "  [ 0.98201287 -0.680964  ]\n",
      "  [ 0.95818245 -0.6204756 ]\n",
      "  [ 0.93236613 -0.5560066 ]\n",
      "  [ 0.90456396 -0.4877964 ]\n",
      "  [ 0.8747759  -0.41610587]]\n",
      "\n",
      " [[ 1.0237162  -0.7890998 ]\n",
      "  [ 1.0038575  -0.7372447 ]\n",
      "  [ 0.98201287 -0.680964  ]\n",
      "  [ 0.95818245 -0.6204756 ]\n",
      "  [ 0.93236613 -0.5560066 ]\n",
      "  [ 0.90456396 -0.4877964 ]\n",
      "  [ 0.8747759  -0.41610587]\n",
      "  [ 0.84300196 -0.34120506]]\n",
      "\n",
      " [[ 1.0038575  -0.7372447 ]\n",
      "  [ 0.98201287 -0.680964  ]\n",
      "  [ 0.95818245 -0.6204756 ]\n",
      "  [ 0.93236613 -0.5560066 ]\n",
      "  [ 0.90456396 -0.4877964 ]\n",
      "  [ 0.8747759  -0.41610587]\n",
      "  [ 0.84300196 -0.34120506]\n",
      "  [ 0.8092422  -0.26337945]]\n",
      "\n",
      " [[ 0.98201287 -0.680964  ]\n",
      "  [ 0.95818245 -0.6204756 ]\n",
      "  [ 0.93236613 -0.5560066 ]\n",
      "  [ 0.90456396 -0.4877964 ]\n",
      "  [ 0.8747759  -0.41610587]\n",
      "  [ 0.84300196 -0.34120506]\n",
      "  [ 0.8092422  -0.26337945]\n",
      "  [ 0.7734965  -0.18292671]]\n",
      "\n",
      " [[ 0.95818245 -0.6204756 ]\n",
      "  [ 0.93236613 -0.5560066 ]\n",
      "  [ 0.90456396 -0.4877964 ]\n",
      "  [ 0.8747759  -0.41610587]\n",
      "  [ 0.84300196 -0.34120506]\n",
      "  [ 0.8092422  -0.26337945]\n",
      "  [ 0.7734965  -0.18292671]\n",
      "  [ 0.735765   -0.10015067]]\n",
      "\n",
      " [[ 0.93236613 -0.5560066 ]\n",
      "  [ 0.90456396 -0.4877964 ]\n",
      "  [ 0.8747759  -0.41610587]\n",
      "  [ 0.84300196 -0.34120506]\n",
      "  [ 0.8092422  -0.26337945]\n",
      "  [ 0.7734965  -0.18292671]\n",
      "  [ 0.735765   -0.10015067]\n",
      "  [ 0.69604754 -0.01537054]]\n",
      "\n",
      " [[ 0.90456396 -0.4877964 ]\n",
      "  [ 0.8747759  -0.41610587]\n",
      "  [ 0.84300196 -0.34120506]\n",
      "  [ 0.8092422  -0.26337945]\n",
      "  [ 0.7734965  -0.18292671]\n",
      "  [ 0.735765   -0.10015067]\n",
      "  [ 0.69604754 -0.01537054]\n",
      "  [ 0.65434426  0.07109146]]\n",
      "\n",
      " [[ 0.8747759  -0.41610587]\n",
      "  [ 0.84300196 -0.34120506]\n",
      "  [ 0.8092422  -0.26337945]\n",
      "  [ 0.7734965  -0.18292671]\n",
      "  [ 0.735765   -0.10015067]\n",
      "  [ 0.69604754 -0.01537054]\n",
      "  [ 0.65434426  0.07109146]\n",
      "  [ 0.6106551   0.15890384]]\n",
      "\n",
      " [[ 0.84300196 -0.34120506]\n",
      "  [ 0.8092422  -0.26337945]\n",
      "  [ 0.7734965  -0.18292671]\n",
      "  [ 0.735765   -0.10015067]\n",
      "  [ 0.69604754 -0.01537054]\n",
      "  [ 0.65434426  0.07109146]\n",
      "  [ 0.6106551   0.15890384]\n",
      "  [ 0.5649801   0.24772902]]], shape=(16, 8, 2), dtype=float32)\n",
      "1 tf.Tensor(\n",
      "[[[ 8.09242189e-01 -2.63379455e-01]\n",
      "  [ 7.73496509e-01 -1.82926714e-01]\n",
      "  [ 7.35764980e-01 -1.00150675e-01]\n",
      "  [ 6.96047544e-01 -1.53705385e-02]\n",
      "  [ 6.54344261e-01  7.10914582e-02]\n",
      "  [ 6.10655129e-01  1.58903837e-01]\n",
      "  [ 5.64980090e-01  2.47729018e-01]\n",
      "  [ 5.17319202e-01  3.37226331e-01]]\n",
      "\n",
      " [[ 7.73496509e-01 -1.82926714e-01]\n",
      "  [ 7.35764980e-01 -1.00150675e-01]\n",
      "  [ 6.96047544e-01 -1.53705385e-02]\n",
      "  [ 6.54344261e-01  7.10914582e-02]\n",
      "  [ 6.10655129e-01  1.58903837e-01]\n",
      "  [ 5.64980090e-01  2.47729018e-01]\n",
      "  [ 5.17319202e-01  3.37226331e-01]\n",
      "  [ 4.67672467e-01  4.27055091e-01]]\n",
      "\n",
      " [[ 7.35764980e-01 -1.00150675e-01]\n",
      "  [ 6.96047544e-01 -1.53705385e-02]\n",
      "  [ 6.54344261e-01  7.10914582e-02]\n",
      "  [ 6.10655129e-01  1.58903837e-01]\n",
      "  [ 5.64980090e-01  2.47729018e-01]\n",
      "  [ 5.17319202e-01  3.37226331e-01]\n",
      "  [ 4.67672467e-01  4.27055091e-01]\n",
      "  [ 4.16039854e-01  5.16865432e-01]]\n",
      "\n",
      " [[ 6.96047544e-01 -1.53705385e-02]\n",
      "  [ 6.54344261e-01  7.10914582e-02]\n",
      "  [ 6.10655129e-01  1.58903837e-01]\n",
      "  [ 5.64980090e-01  2.47729018e-01]\n",
      "  [ 5.17319202e-01  3.37226331e-01]\n",
      "  [ 4.67672467e-01  4.27055091e-01]\n",
      "  [ 4.16039854e-01  5.16865432e-01]\n",
      "  [ 3.62421334e-01  6.06316745e-01]]\n",
      "\n",
      " [[ 6.54344261e-01  7.10914582e-02]\n",
      "  [ 6.10655129e-01  1.58903837e-01]\n",
      "  [ 5.64980090e-01  2.47729018e-01]\n",
      "  [ 5.17319202e-01  3.37226331e-01]\n",
      "  [ 4.67672467e-01  4.27055091e-01]\n",
      "  [ 4.16039854e-01  5.16865432e-01]\n",
      "  [ 3.62421334e-01  6.06316745e-01]\n",
      "  [ 3.06816965e-01  6.95065200e-01]]\n",
      "\n",
      " [[ 6.10655129e-01  1.58903837e-01]\n",
      "  [ 5.64980090e-01  2.47729018e-01]\n",
      "  [ 5.17319202e-01  3.37226331e-01]\n",
      "  [ 4.67672467e-01  4.27055091e-01]\n",
      "  [ 4.16039854e-01  5.16865432e-01]\n",
      "  [ 3.62421334e-01  6.06316745e-01]\n",
      "  [ 3.06816965e-01  6.95065200e-01]\n",
      "  [ 2.49226734e-01  7.82776296e-01]]\n",
      "\n",
      " [[ 5.64980090e-01  2.47729018e-01]\n",
      "  [ 5.17319202e-01  3.37226331e-01]\n",
      "  [ 4.67672467e-01  4.27055091e-01]\n",
      "  [ 4.16039854e-01  5.16865432e-01]\n",
      "  [ 3.62421334e-01  6.06316745e-01]\n",
      "  [ 3.06816965e-01  6.95065200e-01]\n",
      "  [ 2.49226734e-01  7.82776296e-01]\n",
      "  [ 1.89650625e-01  8.69118571e-01]]\n",
      "\n",
      " [[ 5.17319202e-01  3.37226331e-01]\n",
      "  [ 4.67672467e-01  4.27055091e-01]\n",
      "  [ 4.16039854e-01  5.16865432e-01]\n",
      "  [ 3.62421334e-01  6.06316745e-01]\n",
      "  [ 3.06816965e-01  6.95065200e-01]\n",
      "  [ 2.49226734e-01  7.82776296e-01]\n",
      "  [ 1.89650625e-01  8.69118571e-01]\n",
      "  [ 1.28088638e-01  9.53763664e-01]]\n",
      "\n",
      " [[ 4.67672467e-01  4.27055091e-01]\n",
      "  [ 4.16039854e-01  5.16865432e-01]\n",
      "  [ 3.62421334e-01  6.06316745e-01]\n",
      "  [ 3.06816965e-01  6.95065200e-01]\n",
      "  [ 2.49226734e-01  7.82776296e-01]\n",
      "  [ 1.89650625e-01  8.69118571e-01]\n",
      "  [ 1.28088638e-01  9.53763664e-01]\n",
      "  [ 6.45407885e-02  1.03639853e+00]]\n",
      "\n",
      " [[ 4.16039854e-01  5.16865432e-01]\n",
      "  [ 3.62421334e-01  6.06316745e-01]\n",
      "  [ 3.06816965e-01  6.95065200e-01]\n",
      "  [ 2.49226734e-01  7.82776296e-01]\n",
      "  [ 1.89650625e-01  8.69118571e-01]\n",
      "  [ 1.28088638e-01  9.53763664e-01]\n",
      "  [ 6.45407885e-02  1.03639853e+00]\n",
      "  [-9.92935151e-04  1.11672235e+00]]\n",
      "\n",
      " [[ 3.62421334e-01  6.06316745e-01]\n",
      "  [ 3.06816965e-01  6.95065200e-01]\n",
      "  [ 2.49226734e-01  7.82776296e-01]\n",
      "  [ 1.89650625e-01  8.69118571e-01]\n",
      "  [ 1.28088638e-01  9.53763664e-01]\n",
      "  [ 6.45407885e-02  1.03639853e+00]\n",
      "  [-9.92935151e-04  1.11672235e+00]\n",
      "  [-6.85125291e-02  1.19444668e+00]]\n",
      "\n",
      " [[ 3.06816965e-01  6.95065200e-01]\n",
      "  [ 2.49226734e-01  7.82776296e-01]\n",
      "  [ 1.89650625e-01  8.69118571e-01]\n",
      "  [ 1.28088638e-01  9.53763664e-01]\n",
      "  [ 6.45407885e-02  1.03639853e+00]\n",
      "  [-9.92935151e-04  1.11672235e+00]\n",
      "  [-6.85125291e-02  1.19444668e+00]\n",
      "  [-1.38017997e-01  1.26929533e+00]]\n",
      "\n",
      " [[ 2.49226734e-01  7.82776296e-01]\n",
      "  [ 1.89650625e-01  8.69118571e-01]\n",
      "  [ 1.28088638e-01  9.53763664e-01]\n",
      "  [ 6.45407885e-02  1.03639853e+00]\n",
      "  [-9.92935151e-04  1.11672235e+00]\n",
      "  [-6.85125291e-02  1.19444668e+00]\n",
      "  [-1.38017997e-01  1.26929533e+00]\n",
      "  [-2.09509328e-01  1.34101653e+00]]\n",
      "\n",
      " [[ 1.89650625e-01  8.69118571e-01]\n",
      "  [ 1.28088638e-01  9.53763664e-01]\n",
      "  [ 6.45407885e-02  1.03639853e+00]\n",
      "  [-9.92935151e-04  1.11672235e+00]\n",
      "  [-6.85125291e-02  1.19444668e+00]\n",
      "  [-1.38017997e-01  1.26929533e+00]\n",
      "  [-2.09509328e-01  1.34101653e+00]\n",
      "  [-2.82986522e-01  1.40937412e+00]]\n",
      "\n",
      " [[ 1.28088638e-01  9.53763664e-01]\n",
      "  [ 6.45407885e-02  1.03639853e+00]\n",
      "  [-9.92935151e-04  1.11672235e+00]\n",
      "  [-6.85125291e-02  1.19444668e+00]\n",
      "  [-1.38017997e-01  1.26929533e+00]\n",
      "  [-2.09509328e-01  1.34101653e+00]\n",
      "  [-2.82986522e-01  1.40937412e+00]\n",
      "  [-3.58449608e-01  1.47415614e+00]]\n",
      "\n",
      " [[ 6.45407885e-02  1.03639853e+00]\n",
      "  [-9.92935151e-04  1.11672235e+00]\n",
      "  [-6.85125291e-02  1.19444668e+00]\n",
      "  [-1.38017997e-01  1.26929533e+00]\n",
      "  [-2.09509328e-01  1.34101653e+00]\n",
      "  [-2.82986522e-01  1.40937412e+00]\n",
      "  [-3.58449608e-01  1.47415614e+00]\n",
      "  [-4.35898542e-01  1.53517544e+00]]], shape=(16, 8, 2), dtype=float32)\n",
      "2 tf.Tensor(\n",
      "[[[-9.9293515e-04  1.1167223e+00]\n",
      "  [-6.8512529e-02  1.1944467e+00]\n",
      "  [-1.3801800e-01  1.2692953e+00]\n",
      "  [-2.0950933e-01  1.3410165e+00]\n",
      "  [-2.8298652e-01  1.4093741e+00]\n",
      "  [-3.5844961e-01  1.4741561e+00]\n",
      "  [-4.3589854e-01  1.5351754e+00]\n",
      "  [-5.1533335e-01  1.5922756e+00]]\n",
      "\n",
      " [[-6.8512529e-02  1.1944467e+00]\n",
      "  [-1.3801800e-01  1.2692953e+00]\n",
      "  [-2.0950933e-01  1.3410165e+00]\n",
      "  [-2.8298652e-01  1.4093741e+00]\n",
      "  [-3.5844961e-01  1.4741561e+00]\n",
      "  [-4.3589854e-01  1.5351754e+00]\n",
      "  [-5.1533335e-01  1.5922756e+00]\n",
      "  [-5.9675401e-01  1.6453246e+00]]\n",
      "\n",
      " [[-1.3801800e-01  1.2692953e+00]\n",
      "  [-2.0950933e-01  1.3410165e+00]\n",
      "  [-2.8298652e-01  1.4093741e+00]\n",
      "  [-3.5844961e-01  1.4741561e+00]\n",
      "  [-4.3589854e-01  1.5351754e+00]\n",
      "  [-5.1533335e-01  1.5922756e+00]\n",
      "  [-5.9675401e-01  1.6453246e+00]\n",
      "  [-6.8016058e-01  1.6942303e+00]]\n",
      "\n",
      " [[-2.0950933e-01  1.3410165e+00]\n",
      "  [-2.8298652e-01  1.4093741e+00]\n",
      "  [-3.5844961e-01  1.4741561e+00]\n",
      "  [-4.3589854e-01  1.5351754e+00]\n",
      "  [-5.1533335e-01  1.5922756e+00]\n",
      "  [-5.9675401e-01  1.6453246e+00]\n",
      "  [-6.8016058e-01  1.6942303e+00]\n",
      "  [-7.6555300e-01  1.7389283e+00]]\n",
      "\n",
      " [[-2.8298652e-01  1.4093741e+00]\n",
      "  [-3.5844961e-01  1.4741561e+00]\n",
      "  [-4.3589854e-01  1.5351754e+00]\n",
      "  [-5.1533335e-01  1.5922756e+00]\n",
      "  [-5.9675401e-01  1.6453246e+00]\n",
      "  [-6.8016058e-01  1.6942303e+00]\n",
      "  [-7.6555300e-01  1.7389283e+00]\n",
      "  [-8.5293132e-01  1.7793971e+00]]\n",
      "\n",
      " [[-3.5844961e-01  1.4741561e+00]\n",
      "  [-4.3589854e-01  1.5351754e+00]\n",
      "  [-5.1533335e-01  1.5922756e+00]\n",
      "  [-5.9675401e-01  1.6453246e+00]\n",
      "  [-6.8016058e-01  1.6942303e+00]\n",
      "  [-7.6555300e-01  1.7389283e+00]\n",
      "  [-8.5293132e-01  1.7793971e+00]\n",
      "  [-9.4229549e-01  1.8156583e+00]]\n",
      "\n",
      " [[-4.3589854e-01  1.5351754e+00]\n",
      "  [-5.1533335e-01  1.5922756e+00]\n",
      "  [-5.9675401e-01  1.6453246e+00]\n",
      "  [-6.8016058e-01  1.6942303e+00]\n",
      "  [-7.6555300e-01  1.7389283e+00]\n",
      "  [-8.5293132e-01  1.7793971e+00]\n",
      "  [-9.4229549e-01  1.8156583e+00]\n",
      "  [-1.0336455e+00  1.8477700e+00]]\n",
      "\n",
      " [[-5.1533335e-01  1.5922756e+00]\n",
      "  [-5.9675401e-01  1.6453246e+00]\n",
      "  [-6.8016058e-01  1.6942303e+00]\n",
      "  [-7.6555300e-01  1.7389283e+00]\n",
      "  [-8.5293132e-01  1.7793971e+00]\n",
      "  [-9.4229549e-01  1.8156583e+00]\n",
      "  [-1.0336455e+00  1.8477700e+00]\n",
      "  [-1.1269814e+00  1.8758428e+00]]\n",
      "\n",
      " [[-5.9675401e-01  1.6453246e+00]\n",
      "  [-6.8016058e-01  1.6942303e+00]\n",
      "  [-7.6555300e-01  1.7389283e+00]\n",
      "  [-8.5293132e-01  1.7793971e+00]\n",
      "  [-9.4229549e-01  1.8156583e+00]\n",
      "  [-1.0336455e+00  1.8477700e+00]\n",
      "  [-1.1269814e+00  1.8758428e+00]\n",
      "  [-1.2223032e+00  1.9000334e+00]]\n",
      "\n",
      " [[-6.8016058e-01  1.6942303e+00]\n",
      "  [-7.6555300e-01  1.7389283e+00]\n",
      "  [-8.5293132e-01  1.7793971e+00]\n",
      "  [-9.4229549e-01  1.8156583e+00]\n",
      "  [-1.0336455e+00  1.8477700e+00]\n",
      "  [-1.1269814e+00  1.8758428e+00]\n",
      "  [-1.2223032e+00  1.9000334e+00]\n",
      "  [-1.3196108e+00  1.9205562e+00]]\n",
      "\n",
      " [[-7.6555300e-01  1.7389283e+00]\n",
      "  [-8.5293132e-01  1.7793971e+00]\n",
      "  [-9.4229549e-01  1.8156583e+00]\n",
      "  [-1.0336455e+00  1.8477700e+00]\n",
      "  [-1.1269814e+00  1.8758428e+00]\n",
      "  [-1.2223032e+00  1.9000334e+00]\n",
      "  [-1.3196108e+00  1.9205562e+00]\n",
      "  [-1.4189044e+00  1.9376786e+00]]\n",
      "\n",
      " [[-8.5293132e-01  1.7793971e+00]\n",
      "  [-9.4229549e-01  1.8156583e+00]\n",
      "  [-1.0336455e+00  1.8477700e+00]\n",
      "  [-1.1269814e+00  1.8758428e+00]\n",
      "  [-1.2223032e+00  1.9000334e+00]\n",
      "  [-1.3196108e+00  1.9205562e+00]\n",
      "  [-1.4189044e+00  1.9376786e+00]\n",
      "  [-1.5201838e+00  1.9517226e+00]]\n",
      "\n",
      " [[-9.4229549e-01  1.8156583e+00]\n",
      "  [-1.0336455e+00  1.8477700e+00]\n",
      "  [-1.1269814e+00  1.8758428e+00]\n",
      "  [-1.2223032e+00  1.9000334e+00]\n",
      "  [-1.3196108e+00  1.9205562e+00]\n",
      "  [-1.4189044e+00  1.9376786e+00]\n",
      "  [-1.5201838e+00  1.9517226e+00]\n",
      "  [-1.6234490e+00  1.9630814e+00]]\n",
      "\n",
      " [[-1.0336455e+00  1.8477700e+00]\n",
      "  [-1.1269814e+00  1.8758428e+00]\n",
      "  [-1.2223032e+00  1.9000334e+00]\n",
      "  [-1.3196108e+00  1.9205562e+00]\n",
      "  [-1.4189044e+00  1.9376786e+00]\n",
      "  [-1.5201838e+00  1.9517226e+00]\n",
      "  [-1.6234490e+00  1.9630814e+00]\n",
      "  [-1.7287002e+00  1.9722087e+00]]\n",
      "\n",
      " [[-1.1269814e+00  1.8758428e+00]\n",
      "  [-1.2223032e+00  1.9000334e+00]\n",
      "  [-1.3196108e+00  1.9205562e+00]\n",
      "  [-1.4189044e+00  1.9376786e+00]\n",
      "  [-1.5201838e+00  1.9517226e+00]\n",
      "  [-1.6234490e+00  1.9630814e+00]\n",
      "  [-1.7287002e+00  1.9722087e+00]\n",
      "  [-1.8359371e+00  1.9796267e+00]]\n",
      "\n",
      " [[-1.2223032e+00  1.9000334e+00]\n",
      "  [-1.3196108e+00  1.9205562e+00]\n",
      "  [-1.4189044e+00  1.9376786e+00]\n",
      "  [-1.5201838e+00  1.9517226e+00]\n",
      "  [-1.6234490e+00  1.9630814e+00]\n",
      "  [-1.7287002e+00  1.9722087e+00]\n",
      "  [-1.8359371e+00  1.9796267e+00]\n",
      "  [-1.9451600e+00  1.9859337e+00]]], shape=(16, 8, 2), dtype=float32)\n",
      "3 tf.Tensor(\n",
      "[[[-1.3196108   1.9205562 ]\n",
      "  [-1.4189044   1.9376786 ]\n",
      "  [-1.5201838   1.9517226 ]\n",
      "  [-1.623449    1.9630814 ]\n",
      "  [-1.7287002   1.9722087 ]\n",
      "  [-1.8359371   1.9796267 ]\n",
      "  [-1.94516     1.9859337 ]\n",
      "  [-2.0563688   1.9917986 ]]\n",
      "\n",
      " [[-1.4189044   1.9376786 ]\n",
      "  [-1.5201838   1.9517226 ]\n",
      "  [-1.623449    1.9630814 ]\n",
      "  [-1.7287002   1.9722087 ]\n",
      "  [-1.8359371   1.9796267 ]\n",
      "  [-1.94516     1.9859337 ]\n",
      "  [-2.0563688   1.9917986 ]\n",
      "  [-2.1695633   1.9979706 ]]\n",
      "\n",
      " [[-1.5201838   1.9517226 ]\n",
      "  [-1.623449    1.9630814 ]\n",
      "  [-1.7287002   1.9722087 ]\n",
      "  [-1.8359371   1.9796267 ]\n",
      "  [-1.94516     1.9859337 ]\n",
      "  [-2.0563688   1.9917986 ]\n",
      "  [-2.1695633   1.9979706 ]\n",
      "  [ 1.1130804  -1.0307558 ]]\n",
      "\n",
      " [[-1.623449    1.9630814 ]\n",
      "  [-1.7287002   1.9722087 ]\n",
      "  [-1.8359371   1.9796267 ]\n",
      "  [-1.94516     1.9859337 ]\n",
      "  [-2.0563688   1.9917986 ]\n",
      "  [-2.1695633   1.9979706 ]\n",
      "  [ 1.1130804  -1.0307558 ]\n",
      "  [ 1.1110945  -0.9444717 ]]\n",
      "\n",
      " [[-1.7287002   1.9722087 ]\n",
      "  [-1.8359371   1.9796267 ]\n",
      "  [-1.94516     1.9859337 ]\n",
      "  [-2.0563688   1.9917986 ]\n",
      "  [-2.1695633   1.9979706 ]\n",
      "  [ 1.1130804  -1.0307558 ]\n",
      "  [ 1.1110945  -0.9444717 ]\n",
      "  [ 1.1071228  -0.9014157 ]]\n",
      "\n",
      " [[-1.8359371   1.9796267 ]\n",
      "  [-1.94516     1.9859337 ]\n",
      "  [-2.0563688   1.9917986 ]\n",
      "  [-2.1695633   1.9979706 ]\n",
      "  [ 1.1130804  -1.0307558 ]\n",
      "  [ 1.1110945  -0.9444717 ]\n",
      "  [ 1.1071228  -0.9014157 ]\n",
      "  [ 1.101165   -0.84903884]]\n",
      "\n",
      " [[-1.94516     1.9859337 ]\n",
      "  [-2.0563688   1.9917986 ]\n",
      "  [-2.1695633   1.9979706 ]\n",
      "  [ 1.1130804  -1.0307558 ]\n",
      "  [ 1.1110945  -0.9444717 ]\n",
      "  [ 1.1071228  -0.9014157 ]\n",
      "  [ 1.101165   -0.84903884]\n",
      "  [ 1.0932217  -0.83971804]]\n",
      "\n",
      " [[-2.0563688   1.9917986 ]\n",
      "  [-2.1695633   1.9979706 ]\n",
      "  [ 1.1130804  -1.0307558 ]\n",
      "  [ 1.1110945  -0.9444717 ]\n",
      "  [ 1.1071228  -0.9014157 ]\n",
      "  [ 1.101165   -0.84903884]\n",
      "  [ 1.0932217  -0.83971804]\n",
      "  [ 1.0832922  -0.83040035]]\n",
      "\n",
      " [[-2.1695633   1.9979706 ]\n",
      "  [ 1.1130804  -1.0307558 ]\n",
      "  [ 1.1110945  -0.9444717 ]\n",
      "  [ 1.1071228  -0.9014157 ]\n",
      "  [ 1.101165   -0.84903884]\n",
      "  [ 1.0932217  -0.83971804]\n",
      "  [ 1.0832922  -0.83040035]\n",
      "  [ 1.071377   -0.82107955]]\n",
      "\n",
      " [[ 1.1130804  -1.0307558 ]\n",
      "  [ 1.1110945  -0.9444717 ]\n",
      "  [ 1.1071228  -0.9014157 ]\n",
      "  [ 1.101165   -0.84903884]\n",
      "  [ 1.0932217  -0.83971804]\n",
      "  [ 1.0832922  -0.83040035]\n",
      "  [ 1.071377   -0.82107955]\n",
      "  [ 1.0574759  -0.81176186]]\n",
      "\n",
      " [[ 1.1110945  -0.9444717 ]\n",
      "  [ 1.1071228  -0.9014157 ]\n",
      "  [ 1.101165   -0.84903884]\n",
      "  [ 1.0932217  -0.83971804]\n",
      "  [ 1.0832922  -0.83040035]\n",
      "  [ 1.071377   -0.82107955]\n",
      "  [ 1.0574759  -0.81176186]\n",
      "  [ 1.041589   -0.80244106]]\n",
      "\n",
      " [[ 1.1071228  -0.9014157 ]\n",
      "  [ 1.101165   -0.84903884]\n",
      "  [ 1.0932217  -0.83971804]\n",
      "  [ 1.0832922  -0.83040035]\n",
      "  [ 1.071377   -0.82107955]\n",
      "  [ 1.0574759  -0.81176186]\n",
      "  [ 1.041589   -0.80244106]\n",
      "  [ 1.0237162  -0.79312336]]\n",
      "\n",
      " [[ 1.101165   -0.84903884]\n",
      "  [ 1.0932217  -0.83971804]\n",
      "  [ 1.0832922  -0.83040035]\n",
      "  [ 1.071377   -0.82107955]\n",
      "  [ 1.0574759  -0.81176186]\n",
      "  [ 1.041589   -0.80244106]\n",
      "  [ 1.0237162  -0.79312336]\n",
      "  [ 1.0038575  -0.78380257]]\n",
      "\n",
      " [[ 1.0932217  -0.83971804]\n",
      "  [ 1.0832922  -0.83040035]\n",
      "  [ 1.071377   -0.82107955]\n",
      "  [ 1.0574759  -0.81176186]\n",
      "  [ 1.041589   -0.80244106]\n",
      "  [ 1.0237162  -0.79312336]\n",
      "  [ 1.0038575  -0.78380257]\n",
      "  [ 0.98201287 -0.7610147 ]]\n",
      "\n",
      " [[ 1.0832922  -0.83040035]\n",
      "  [ 1.071377   -0.82107955]\n",
      "  [ 1.0574759  -0.81176186]\n",
      "  [ 1.041589   -0.80244106]\n",
      "  [ 1.0237162  -0.79312336]\n",
      "  [ 1.0038575  -0.78380257]\n",
      "  [ 0.98201287 -0.7610147 ]\n",
      "  [ 0.95818245 -0.74754757]]\n",
      "\n",
      " [[ 1.071377   -0.82107955]\n",
      "  [ 1.0574759  -0.81176186]\n",
      "  [ 1.041589   -0.80244106]\n",
      "  [ 1.0237162  -0.79312336]\n",
      "  [ 1.0038575  -0.78380257]\n",
      "  [ 0.98201287 -0.7610147 ]\n",
      "  [ 0.95818245 -0.74754757]\n",
      "  [ 0.93236613 -0.7340774 ]]], shape=(16, 8, 2), dtype=float32)\n",
      "4 tf.Tensor(\n",
      "[[[ 1.0574759  -0.81176186]\n",
      "  [ 1.041589   -0.80244106]\n",
      "  [ 1.0237162  -0.79312336]\n",
      "  [ 1.0038575  -0.78380257]\n",
      "  [ 0.98201287 -0.7610147 ]\n",
      "  [ 0.95818245 -0.74754757]\n",
      "  [ 0.93236613 -0.7340774 ]\n",
      "  [ 0.90456396 -0.7206103 ]]\n",
      "\n",
      " [[ 1.041589   -0.80244106]\n",
      "  [ 1.0237162  -0.79312336]\n",
      "  [ 1.0038575  -0.78380257]\n",
      "  [ 0.98201287 -0.7610147 ]\n",
      "  [ 0.95818245 -0.74754757]\n",
      "  [ 0.93236613 -0.7340774 ]\n",
      "  [ 0.90456396 -0.7206103 ]\n",
      "  [ 0.8747759  -0.70714015]]\n",
      "\n",
      " [[ 1.0237162  -0.79312336]\n",
      "  [ 1.0038575  -0.78380257]\n",
      "  [ 0.98201287 -0.7610147 ]\n",
      "  [ 0.95818245 -0.74754757]\n",
      "  [ 0.93236613 -0.7340774 ]\n",
      "  [ 0.90456396 -0.7206103 ]\n",
      "  [ 0.8747759  -0.70714015]\n",
      "  [ 0.84300196 -0.6848341 ]]\n",
      "\n",
      " [[ 1.0038575  -0.78380257]\n",
      "  [ 0.98201287 -0.7610147 ]\n",
      "  [ 0.95818245 -0.74754757]\n",
      "  [ 0.93236613 -0.7340774 ]\n",
      "  [ 0.90456396 -0.7206103 ]\n",
      "  [ 0.8747759  -0.70714015]\n",
      "  [ 0.84300196 -0.6848341 ]\n",
      "  [ 0.8092422  -0.6759952 ]]\n",
      "\n",
      " [[ 0.98201287 -0.7610147 ]\n",
      "  [ 0.95818245 -0.74754757]\n",
      "  [ 0.93236613 -0.7340774 ]\n",
      "  [ 0.90456396 -0.7206103 ]\n",
      "  [ 0.8747759  -0.70714015]\n",
      "  [ 0.84300196 -0.6848341 ]\n",
      "  [ 0.8092422  -0.6759952 ]\n",
      "  [ 0.7734965  -0.6671562 ]]\n",
      "\n",
      " [[ 0.95818245 -0.74754757]\n",
      "  [ 0.93236613 -0.7340774 ]\n",
      "  [ 0.90456396 -0.7206103 ]\n",
      "  [ 0.8747759  -0.70714015]\n",
      "  [ 0.84300196 -0.6848341 ]\n",
      "  [ 0.8092422  -0.6759952 ]\n",
      "  [ 0.7734965  -0.6671562 ]\n",
      "  [ 0.735765   -0.65831727]]\n",
      "\n",
      " [[ 0.93236613 -0.7340774 ]\n",
      "  [ 0.90456396 -0.7206103 ]\n",
      "  [ 0.8747759  -0.70714015]\n",
      "  [ 0.84300196 -0.6848341 ]\n",
      "  [ 0.8092422  -0.6759952 ]\n",
      "  [ 0.7734965  -0.6671562 ]\n",
      "  [ 0.735765   -0.65831727]\n",
      "  [ 0.69604754 -0.6494814 ]]\n",
      "\n",
      " [[ 0.90456396 -0.7206103 ]\n",
      "  [ 0.8747759  -0.70714015]\n",
      "  [ 0.84300196 -0.6848341 ]\n",
      "  [ 0.8092422  -0.6759952 ]\n",
      "  [ 0.7734965  -0.6671562 ]\n",
      "  [ 0.735765   -0.65831727]\n",
      "  [ 0.69604754 -0.6494814 ]\n",
      "  [ 0.65434426 -0.64064246]]\n",
      "\n",
      " [[ 0.8747759  -0.70714015]\n",
      "  [ 0.84300196 -0.6848341 ]\n",
      "  [ 0.8092422  -0.6759952 ]\n",
      "  [ 0.7734965  -0.6671562 ]\n",
      "  [ 0.735765   -0.65831727]\n",
      "  [ 0.69604754 -0.6494814 ]\n",
      "  [ 0.65434426 -0.64064246]\n",
      "  [ 0.6106551  -0.6318036 ]]\n",
      "\n",
      " [[ 0.84300196 -0.6848341 ]\n",
      "  [ 0.8092422  -0.6759952 ]\n",
      "  [ 0.7734965  -0.6671562 ]\n",
      "  [ 0.735765   -0.65831727]\n",
      "  [ 0.69604754 -0.6494814 ]\n",
      "  [ 0.65434426 -0.64064246]\n",
      "  [ 0.6106551  -0.6318036 ]\n",
      "  [ 0.5649801  -0.6229646 ]]\n",
      "\n",
      " [[ 0.8092422  -0.6759952 ]\n",
      "  [ 0.7734965  -0.6671562 ]\n",
      "  [ 0.735765   -0.65831727]\n",
      "  [ 0.69604754 -0.6494814 ]\n",
      "  [ 0.65434426 -0.64064246]\n",
      "  [ 0.6106551  -0.6318036 ]\n",
      "  [ 0.5649801  -0.6229646 ]\n",
      "  [ 0.5173192  -0.61412567]]\n",
      "\n",
      " [[ 0.7734965  -0.6671562 ]\n",
      "  [ 0.735765   -0.65831727]\n",
      "  [ 0.69604754 -0.6494814 ]\n",
      "  [ 0.65434426 -0.64064246]\n",
      "  [ 0.6106551  -0.6318036 ]\n",
      "  [ 0.5649801  -0.6229646 ]\n",
      "  [ 0.5173192  -0.61412567]\n",
      "  [ 0.46767247 -0.6052867 ]]\n",
      "\n",
      " [[ 0.735765   -0.65831727]\n",
      "  [ 0.69604754 -0.6494814 ]\n",
      "  [ 0.65434426 -0.64064246]\n",
      "  [ 0.6106551  -0.6318036 ]\n",
      "  [ 0.5649801  -0.6229646 ]\n",
      "  [ 0.5173192  -0.61412567]\n",
      "  [ 0.46767247 -0.6052867 ]\n",
      "  [ 0.41603985 -0.59645087]]\n",
      "\n",
      " [[ 0.69604754 -0.6494814 ]\n",
      "  [ 0.65434426 -0.64064246]\n",
      "  [ 0.6106551  -0.6318036 ]\n",
      "  [ 0.5649801  -0.6229646 ]\n",
      "  [ 0.5173192  -0.61412567]\n",
      "  [ 0.46767247 -0.6052867 ]\n",
      "  [ 0.41603985 -0.59645087]\n",
      "  [ 0.36242133 -0.5876119 ]]\n",
      "\n",
      " [[ 0.65434426 -0.64064246]\n",
      "  [ 0.6106551  -0.6318036 ]\n",
      "  [ 0.5649801  -0.6229646 ]\n",
      "  [ 0.5173192  -0.61412567]\n",
      "  [ 0.46767247 -0.6052867 ]\n",
      "  [ 0.41603985 -0.59645087]\n",
      "  [ 0.36242133 -0.5876119 ]\n",
      "  [ 0.30681697 -0.578773  ]]\n",
      "\n",
      " [[ 0.6106551  -0.6318036 ]\n",
      "  [ 0.5649801  -0.6229646 ]\n",
      "  [ 0.5173192  -0.61412567]\n",
      "  [ 0.46767247 -0.6052867 ]\n",
      "  [ 0.41603985 -0.59645087]\n",
      "  [ 0.36242133 -0.5876119 ]\n",
      "  [ 0.30681697 -0.578773  ]\n",
      "  [ 0.24922673 -0.56993407]]], shape=(16, 8, 2), dtype=float32)\n",
      "5 tf.Tensor(\n",
      "[[[ 0.5649801  -0.6229646 ]\n",
      "  [ 0.5173192  -0.61412567]\n",
      "  [ 0.46767247 -0.6052867 ]\n",
      "  [ 0.41603985 -0.59645087]\n",
      "  [ 0.36242133 -0.5876119 ]\n",
      "  [ 0.30681697 -0.578773  ]\n",
      "  [ 0.24922673 -0.56993407]\n",
      "  [ 0.18965062 -0.55674624]]\n",
      "\n",
      " [[ 0.5173192  -0.61412567]\n",
      "  [ 0.46767247 -0.6052867 ]\n",
      "  [ 0.41603985 -0.59645087]\n",
      "  [ 0.36242133 -0.5876119 ]\n",
      "  [ 0.30681697 -0.578773  ]\n",
      "  [ 0.24922673 -0.56993407]\n",
      "  [ 0.18965062 -0.55674624]\n",
      "  [ 0.12808864 -0.5524004 ]]\n",
      "\n",
      " [[ 0.46767247 -0.6052867 ]\n",
      "  [ 0.41603985 -0.59645087]\n",
      "  [ 0.36242133 -0.5876119 ]\n",
      "  [ 0.30681697 -0.578773  ]\n",
      "  [ 0.24922673 -0.56993407]\n",
      "  [ 0.18965062 -0.55674624]\n",
      "  [ 0.12808864 -0.5524004 ]\n",
      "  [ 0.06454079 -0.54805154]]\n",
      "\n",
      " [[ 0.41603985 -0.59645087]\n",
      "  [ 0.36242133 -0.5876119 ]\n",
      "  [ 0.30681697 -0.578773  ]\n",
      "  [ 0.24922673 -0.56993407]\n",
      "  [ 0.18965062 -0.55674624]\n",
      "  [ 0.12808864 -0.5524004 ]\n",
      "  [ 0.06454079 -0.54805154]\n",
      "  [-0.00099294 -0.54370266]]\n",
      "\n",
      " [[ 0.36242133 -0.5876119 ]\n",
      "  [ 0.30681697 -0.578773  ]\n",
      "  [ 0.24922673 -0.56993407]\n",
      "  [ 0.18965062 -0.55674624]\n",
      "  [ 0.12808864 -0.5524004 ]\n",
      "  [ 0.06454079 -0.54805154]\n",
      "  [-0.00099294 -0.54370266]\n",
      "  [-0.06851253 -0.5393538 ]]\n",
      "\n",
      " [[ 0.30681697 -0.578773  ]\n",
      "  [ 0.24922673 -0.56993407]\n",
      "  [ 0.18965062 -0.55674624]\n",
      "  [ 0.12808864 -0.5524004 ]\n",
      "  [ 0.06454079 -0.54805154]\n",
      "  [-0.00099294 -0.54370266]\n",
      "  [-0.06851253 -0.5393538 ]\n",
      "  [-0.138018   -0.5350049 ]]\n",
      "\n",
      " [[ 0.24922673 -0.56993407]\n",
      "  [ 0.18965062 -0.55674624]\n",
      "  [ 0.12808864 -0.5524004 ]\n",
      "  [ 0.06454079 -0.54805154]\n",
      "  [-0.00099294 -0.54370266]\n",
      "  [-0.06851253 -0.5393538 ]\n",
      "  [-0.138018   -0.5350049 ]\n",
      "  [-0.20950933 -0.53065604]]\n",
      "\n",
      " [[ 0.18965062 -0.55674624]\n",
      "  [ 0.12808864 -0.5524004 ]\n",
      "  [ 0.06454079 -0.54805154]\n",
      "  [-0.00099294 -0.54370266]\n",
      "  [-0.06851253 -0.5393538 ]\n",
      "  [-0.138018   -0.5350049 ]\n",
      "  [-0.20950933 -0.53065604]\n",
      "  [-0.28298652 -0.5263102 ]]\n",
      "\n",
      " [[ 0.12808864 -0.5524004 ]\n",
      "  [ 0.06454079 -0.54805154]\n",
      "  [-0.00099294 -0.54370266]\n",
      "  [-0.06851253 -0.5393538 ]\n",
      "  [-0.138018   -0.5350049 ]\n",
      "  [-0.20950933 -0.53065604]\n",
      "  [-0.28298652 -0.5263102 ]\n",
      "  [-0.3584496  -0.52196133]]\n",
      "\n",
      " [[ 0.06454079 -0.54805154]\n",
      "  [-0.00099294 -0.54370266]\n",
      "  [-0.06851253 -0.5393538 ]\n",
      "  [-0.138018   -0.5350049 ]\n",
      "  [-0.20950933 -0.53065604]\n",
      "  [-0.28298652 -0.5263102 ]\n",
      "  [-0.3584496  -0.52196133]\n",
      "  [-0.43589854 -0.51761246]]\n",
      "\n",
      " [[-0.00099294 -0.54370266]\n",
      "  [-0.06851253 -0.5393538 ]\n",
      "  [-0.138018   -0.5350049 ]\n",
      "  [-0.20950933 -0.53065604]\n",
      "  [-0.28298652 -0.5263102 ]\n",
      "  [-0.3584496  -0.52196133]\n",
      "  [-0.43589854 -0.51761246]\n",
      "  [-0.51533335 -0.5132636 ]]\n",
      "\n",
      " [[-0.06851253 -0.5393538 ]\n",
      "  [-0.138018   -0.5350049 ]\n",
      "  [-0.20950933 -0.53065604]\n",
      "  [-0.28298652 -0.5263102 ]\n",
      "  [-0.3584496  -0.52196133]\n",
      "  [-0.43589854 -0.51761246]\n",
      "  [-0.51533335 -0.5132636 ]\n",
      "  [-0.596754   -0.5089147 ]]\n",
      "\n",
      " [[-0.138018   -0.5350049 ]\n",
      "  [-0.20950933 -0.53065604]\n",
      "  [-0.28298652 -0.5263102 ]\n",
      "  [-0.3584496  -0.52196133]\n",
      "  [-0.43589854 -0.51761246]\n",
      "  [-0.51533335 -0.5132636 ]\n",
      "  [-0.596754   -0.5089147 ]\n",
      "  [-0.6801606  -0.50456583]]\n",
      "\n",
      " [[-0.20950933 -0.53065604]\n",
      "  [-0.28298652 -0.5263102 ]\n",
      "  [-0.3584496  -0.52196133]\n",
      "  [-0.43589854 -0.51761246]\n",
      "  [-0.51533335 -0.5132636 ]\n",
      "  [-0.596754   -0.5089147 ]\n",
      "  [-0.6801606  -0.50456583]\n",
      "  [-0.765553   -0.50022   ]]\n",
      "\n",
      " [[-0.28298652 -0.5263102 ]\n",
      "  [-0.3584496  -0.52196133]\n",
      "  [-0.43589854 -0.51761246]\n",
      "  [-0.51533335 -0.5132636 ]\n",
      "  [-0.596754   -0.5089147 ]\n",
      "  [-0.6801606  -0.50456583]\n",
      "  [-0.765553   -0.50022   ]\n",
      "  [-0.8529313  -0.49587113]]\n",
      "\n",
      " [[-0.3584496  -0.52196133]\n",
      "  [-0.43589854 -0.51761246]\n",
      "  [-0.51533335 -0.5132636 ]\n",
      "  [-0.596754   -0.5089147 ]\n",
      "  [-0.6801606  -0.50456583]\n",
      "  [-0.765553   -0.50022   ]\n",
      "  [-0.8529313  -0.49587113]\n",
      "  [-0.9422955  -0.49152225]]], shape=(16, 8, 2), dtype=float32)\n",
      "6 tf.Tensor(\n",
      "[[[-0.43589854 -0.51761246]\n",
      "  [-0.51533335 -0.5132636 ]\n",
      "  [-0.596754   -0.5089147 ]\n",
      "  [-0.6801606  -0.50456583]\n",
      "  [-0.765553   -0.50022   ]\n",
      "  [-0.8529313  -0.49587113]\n",
      "  [-0.9422955  -0.49152225]\n",
      "  [-1.0336455  -0.48717338]]\n",
      "\n",
      " [[-0.51533335 -0.5132636 ]\n",
      "  [-0.596754   -0.5089147 ]\n",
      "  [-0.6801606  -0.50456583]\n",
      "  [-0.765553   -0.50022   ]\n",
      "  [-0.8529313  -0.49587113]\n",
      "  [-0.9422955  -0.49152225]\n",
      "  [-1.0336455  -0.48717338]\n",
      "  [-1.1269814  -0.47931653]]\n",
      "\n",
      " [[-0.596754   -0.5089147 ]\n",
      "  [-0.6801606  -0.50456583]\n",
      "  [-0.765553   -0.50022   ]\n",
      "  [-0.8529313  -0.49587113]\n",
      "  [-0.9422955  -0.49152225]\n",
      "  [-1.0336455  -0.48717338]\n",
      "  [-1.1269814  -0.47931653]\n",
      "  [-1.2223032  -0.4758086 ]]\n",
      "\n",
      " [[-0.6801606  -0.50456583]\n",
      "  [-0.765553   -0.50022   ]\n",
      "  [-0.8529313  -0.49587113]\n",
      "  [-0.9422955  -0.49152225]\n",
      "  [-1.0336455  -0.48717338]\n",
      "  [-1.1269814  -0.47931653]\n",
      "  [-1.2223032  -0.4758086 ]\n",
      "  [-1.3196108  -0.47229755]]\n",
      "\n",
      " [[-0.765553   -0.50022   ]\n",
      "  [-0.8529313  -0.49587113]\n",
      "  [-0.9422955  -0.49152225]\n",
      "  [-1.0336455  -0.48717338]\n",
      "  [-1.1269814  -0.47931653]\n",
      "  [-1.2223032  -0.4758086 ]\n",
      "  [-1.3196108  -0.47229755]\n",
      "  [-1.4189044  -0.4687896 ]]\n",
      "\n",
      " [[-0.8529313  -0.49587113]\n",
      "  [-0.9422955  -0.49152225]\n",
      "  [-1.0336455  -0.48717338]\n",
      "  [-1.1269814  -0.47931653]\n",
      "  [-1.2223032  -0.4758086 ]\n",
      "  [-1.3196108  -0.47229755]\n",
      "  [-1.4189044  -0.4687896 ]\n",
      "  [-1.5201838  -0.46528167]]\n",
      "\n",
      " [[-0.9422955  -0.49152225]\n",
      "  [-1.0336455  -0.48717338]\n",
      "  [-1.1269814  -0.47931653]\n",
      "  [-1.2223032  -0.4758086 ]\n",
      "  [-1.3196108  -0.47229755]\n",
      "  [-1.4189044  -0.4687896 ]\n",
      "  [-1.5201838  -0.46528167]\n",
      "  [-1.623449   -0.4617737 ]]\n",
      "\n",
      " [[-1.0336455  -0.48717338]\n",
      "  [-1.1269814  -0.47931653]\n",
      "  [-1.2223032  -0.4758086 ]\n",
      "  [-1.3196108  -0.47229755]\n",
      "  [-1.4189044  -0.4687896 ]\n",
      "  [-1.5201838  -0.46528167]\n",
      "  [-1.623449   -0.4617737 ]\n",
      "  [-1.7287002  -0.45826268]]\n",
      "\n",
      " [[-1.1269814  -0.47931653]\n",
      "  [-1.2223032  -0.4758086 ]\n",
      "  [-1.3196108  -0.47229755]\n",
      "  [-1.4189044  -0.4687896 ]\n",
      "  [-1.5201838  -0.46528167]\n",
      "  [-1.623449   -0.4617737 ]\n",
      "  [-1.7287002  -0.45826268]\n",
      "  [-1.8359371  -0.4547547 ]]\n",
      "\n",
      " [[-1.2223032  -0.4758086 ]\n",
      "  [-1.3196108  -0.47229755]\n",
      "  [-1.4189044  -0.4687896 ]\n",
      "  [-1.5201838  -0.46528167]\n",
      "  [-1.623449   -0.4617737 ]\n",
      "  [-1.7287002  -0.45826268]\n",
      "  [-1.8359371  -0.4547547 ]\n",
      "  [-1.94516    -0.45124677]]\n",
      "\n",
      " [[-1.3196108  -0.47229755]\n",
      "  [-1.4189044  -0.4687896 ]\n",
      "  [-1.5201838  -0.46528167]\n",
      "  [-1.623449   -0.4617737 ]\n",
      "  [-1.7287002  -0.45826268]\n",
      "  [-1.8359371  -0.4547547 ]\n",
      "  [-1.94516    -0.45124677]\n",
      "  [-2.0563688  -0.4476314 ]]\n",
      "\n",
      " [[-1.4189044  -0.4687896 ]\n",
      "  [-1.5201838  -0.46528167]\n",
      "  [-1.623449   -0.4617737 ]\n",
      "  [-1.7287002  -0.45826268]\n",
      "  [-1.8359371  -0.4547547 ]\n",
      "  [-1.94516    -0.45124677]\n",
      "  [-2.0563688  -0.4476314 ]\n",
      "  [-2.1695633  -0.4476314 ]]], shape=(12, 8, 2), dtype=float32)\n"
     ]
    }
   ],
   "source": [
    "labset = wide_window.train_time\n",
    "\n",
    "\n",
    "for i, batch in enumerate(labset) :\n",
    "   print(i, batch)"
   ],
   "metadata": {
    "collapsed": false,
    "pycharm": {
     "name": "#%%\n"
    }
   }
  },
  {
   "cell_type": "code",
   "execution_count": 35,
   "outputs": [
    {
     "data": {
      "text/plain": "[2, 4, 6]"
     },
     "execution_count": 35,
     "metadata": {},
     "output_type": "execute_result"
    }
   ],
   "source": [
    "dataset = tf.data.Dataset.from_tensor_slices([1, 2, 3])\n",
    "dataset = dataset.map(lambda x: x*2)\n",
    "list(dataset.as_numpy_iterator())"
   ],
   "metadata": {
    "collapsed": false,
    "pycharm": {
     "name": "#%%\n"
    }
   }
  },
  {
   "cell_type": "code",
   "execution_count": null,
   "outputs": [],
   "source": [
    "def plot_train_batch(self, model=None, plot_col='FlowHt', max_subplots=40):\n",
    "  font = { 'family': 'serif', 'color' : 'black', 'weight': 'normal', 'size'  :  10}\n",
    "\n",
    "  dataset = self.train\n",
    "  labset = self.train_time\n",
    "  for i, batch in dataset :\n",
    "        input, labels = batch\n",
    "        lab = labset.take(i)\n",
    "\n",
    "  for\n",
    "  nrows = len(inputs)\n",
    "          fvsize = nrows * 1.2\n",
    "          plot_col_index = self.column_indices[plot_col]\n",
    "          max_n = min(max_subplots, len(inputs))\n",
    "          fig, ax = plt.subplots(nrows, ncols=1, figsize = (12,fvsize), tight_layout = True)\n",
    "\n",
    "  for n in range(max_n):\n",
    "#    plt.plot(self.input_indices, inputs[n, :, plot_col_index],\n",
    "    ax[n].plot(inputs[n, :, 0], inputs[n, :, plot_col_index],\n",
    "             label='Inputs', marker='.', zorder=-10)\n",
    "    ax[n].text(0.9,0.1, \"n = {}\".format(n), fontdict =font, ha=\"center\", transform=ax[n].transAxes)\n",
    "\n",
    "    if self.label_columns:\n",
    "      label_col_index = self.label_columns_indices.get(plot_col, None)\n",
    "    else:\n",
    "      label_col_index = plot_col_index\n",
    "\n",
    "    if label_col_index is None:\n",
    "      continue\n",
    "  #  ax[n].scatter(self.label_indices, labels[n, :, label_col_index],\n",
    "    ax[n].scatter(lab[n,:, 0], labels[n, :, label_col_index],\n",
    "                edgecolors='k', label='Labels', c='#2ca02c', s=64)\n",
    "\n",
    "    if n == 0:\n",
    "      ax[n].legend()\n",
    "\n",
    "    ax[n].set_ylabel(f'{plot_col} [normed]')\n",
    "    ax[n].set_ylim([-1.5, 0.1])\n",
    "    ax[n].set_xlim([-2.2, 1.12])\n",
    "    ax[n].invert_xaxis()\n",
    "\n",
    "  ax[n].set_xlabel('IR')\n",
    "\n",
    "WindowGenerator.plot_4 = plot_4\n",
    "#---------------------"
   ],
   "metadata": {
    "collapsed": false,
    "pycharm": {
     "name": "#%%\n"
    }
   }
  },
  {
   "cell_type": "code",
   "execution_count": 45,
   "outputs": [
    {
     "ename": "ValueError",
     "evalue": "too many values to unpack (expected 2)",
     "output_type": "error",
     "traceback": [
      "\u001B[1;31m---------------------------------------------------------------------------\u001B[0m",
      "\u001B[1;31mValueError\u001B[0m                                Traceback (most recent call last)",
      "\u001B[1;32m<ipython-input-45-b2c0b3b74f7c>\u001B[0m in \u001B[0;36m<module>\u001B[1;34m\u001B[0m\n\u001B[0;32m     45\u001B[0m \u001B[0mtimeset\u001B[0m \u001B[1;33m=\u001B[0m \u001B[0mwide_window\u001B[0m\u001B[1;33m.\u001B[0m\u001B[0mtrain_time\u001B[0m\u001B[1;33m\u001B[0m\u001B[1;33m\u001B[0m\u001B[0m\n\u001B[0;32m     46\u001B[0m \u001B[1;33m\u001B[0m\u001B[0m\n\u001B[1;32m---> 47\u001B[1;33m \u001B[1;32mfor\u001B[0m \u001B[0mbatch\u001B[0m\u001B[1;33m,\u001B[0m \u001B[0mbatchlab\u001B[0m \u001B[1;32min\u001B[0m \u001B[0mdataset\u001B[0m\u001B[1;33m,\u001B[0m \u001B[0mtimeset\u001B[0m \u001B[1;33m:\u001B[0m\u001B[1;33m\u001B[0m\u001B[1;33m\u001B[0m\u001B[0m\n\u001B[0m\u001B[0;32m     48\u001B[0m   \u001B[0minputs\u001B[0m\u001B[1;33m,\u001B[0m \u001B[0mtargets\u001B[0m \u001B[1;33m=\u001B[0m \u001B[0mbatch\u001B[0m\u001B[1;33m\u001B[0m\u001B[1;33m\u001B[0m\u001B[0m\n\u001B[0;32m     49\u001B[0m   \u001B[0mlab\u001B[0m \u001B[1;33m=\u001B[0m \u001B[0mbatchlab\u001B[0m\u001B[1;33m\u001B[0m\u001B[1;33m\u001B[0m\u001B[0m\n",
      "\u001B[1;31mValueError\u001B[0m: too many values to unpack (expected 2)"
     ]
    }
   ],
   "source": [
    "from matplotlib import gridspec\n",
    "\n",
    "def plot_4(self, inputs, labels, lab, model=None, plot_col='FlowHt', max_subplots=40):\n",
    "  nrows = len(inputs)\n",
    "  fvsize = nrows * 1.2\n",
    "  plot_col_index = self.column_indices[plot_col]\n",
    "  max_n = min(max_subplots, len(inputs))\n",
    "\n",
    "  fig, ax = plt.subplots(nrows, ncols=1, figsize = (12,fvsize), tight_layout = True)\n",
    "\n",
    "  font = { 'family': 'serif', 'color' : 'black', 'weight': 'normal', 'size'  :  10}\n",
    "\n",
    "  for n in range(max_n):\n",
    "#    plt.plot(self.input_indices, inputs[n, :, plot_col_index],\n",
    "    ax[n].plot(inputs[n, :, 0], inputs[n, :, plot_col_index],\n",
    "             label='Inputs', marker='.', zorder=-10)\n",
    "    ax[n].text(0.9,0.1, \"n = {}\".format(n), fontdict =font, ha=\"center\", transform=ax[n].transAxes)\n",
    "\n",
    "    if self.label_columns:\n",
    "      label_col_index = self.label_columns_indices.get(plot_col, None)\n",
    "    else:\n",
    "      label_col_index = plot_col_index\n",
    "\n",
    "    if label_col_index is None:\n",
    "      continue\n",
    "  #  ax[n].scatter(self.label_indices, labels[n, :, label_col_index],\n",
    "    ax[n].scatter(lab[n,:, 0], labels[n, :, label_col_index],\n",
    "                edgecolors='k', label='Labels', c='#2ca02c', s=64)\n",
    "\n",
    "    if n == 0:\n",
    "      ax[n].legend()\n",
    "\n",
    "    ax[n].set_ylabel(f'{plot_col} [normed]')\n",
    "    ax[n].set_ylim([-1.5, 0.1])\n",
    "    ax[n].set_xlim([-2.2, 1.12])\n",
    "    ax[n].invert_xaxis()\n",
    "\n",
    "  ax[n].set_xlabel('IR')\n",
    "\n",
    "WindowGenerator.plot_4 = plot_4\n",
    "#---------------------\n",
    "dataset = wide_window.test\n",
    "n = 0\n",
    "\n",
    "timeset = wide_window.train_time\n",
    "\n",
    "for batch, batchlab in dataset, timeset :\n",
    "  inputs, targets = batch\n",
    "  lab = batchlab\n",
    "  print(f'Inputs shape (batch, time, features): {inputs.shape}')\n",
    "  print(f'Labels shape (batch, time, features): {targets.shape}')\n",
    "  wide_window.plot_4(inputs, targets, lab)\n",
    "\n",
    "n += 1\n",
    "#  if (n == 6) : break"
   ],
   "metadata": {
    "collapsed": false,
    "pycharm": {
     "name": "#%%\n"
    }
   }
  },
  {
   "cell_type": "markdown",
   "source": [
    "### not good : plot_3\n",
    "```\n",
    "def plot_3(inputs, labels, lab, n1, plot_col='FlowHt', model=None ):\n",
    "  nrows = len(inputs)\n",
    "  fvsize = nrows * 1.2\n",
    "  plt.figure(figsize=(12, fvsize))\n",
    "\n",
    "  for n in range(len(inputs)):\n",
    "    plt.subplot(len(inputs), 1, n+1)\n",
    "    plt.ylabel(f'{plot_col} [normed]')\n",
    "    plt.plot(inputs[n, :, 0], inputs[n,:,1],\n",
    "             label='Inputs', marker='.', zorder=-10)\n",
    "#    plt.scatter(input_indices+1, labels[n],\n",
    "    plt.scatter(lab[n, :, 0], labels[n],\n",
    "                edgecolors='k', label='Labels', c='#2ca02c', s=64)\n",
    "    if model is not None:\n",
    "      predictions = model(inputs)\n",
    "      plt.scatter(lab[n, :, 0], predictions[n],\n",
    "                  marker='X', edgecolors='k', label='Predictions',\n",
    "                  c='#ff7f0e', s=64)\n",
    "    font = {\n",
    "        'family': 'serif',\n",
    "        'color' : 'green',\n",
    "        'weight': 'normal',\n",
    "        'size'  :  12}\n",
    "#   plt.text(0.05, .85,\"number({})\".format(n), fontdict =font, fontsize=10)\n",
    " #   plt.text(1.1, .8,\"n = {}\".format(n), fontdict =font)\n",
    " #   plt.text(0.05, 0.95,n )\n",
    " #   plt.ylim([-1.5, 2.2])\n",
    " #   plt.xlim([0.0, 1.2])\n",
    "    plt.gca().invert_xaxis()\n",
    "  plt.xlabel('IR')\n",
    "\n",
    "  print(f'batch num = {n1+1}')\n",
    "\n",
    "dataset = wide_window.test\n",
    "n = 0\n",
    "for batch in dataset :\n",
    "\n",
    "  inputs, targets, lab = batch\n",
    "#  plot_features = inputs\n",
    "  print(f'Inputs shape (batch, time, features): {inputs.shape}')\n",
    "  print(f'Labels shape (batch, time, features): {targets.shape}')\n",
    "\n",
    "  plot_3(inputs, targets, lab, n)\n",
    "  n += 1\n",
    "#  if (n == 1) : break\n",
    "fig= plt.figure()\n",
    "fig.show()\n",
    "```"
   ],
   "metadata": {
    "collapsed": false,
    "pycharm": {
     "name": "#%% md\n"
    }
   }
  },
  {
   "cell_type": "markdown",
   "source": [
    "plot_cols = ['FlowHt']\n",
    "plot_features = df[plot_cols]\n",
    "plot_features.index = IR\n",
    "_ = plot_features.plot(subplots=True)"
   ],
   "metadata": {
    "collapsed": false,
    "pycharm": {
     "name": "#%% md\n"
    }
   }
  },
  {
   "cell_type": "markdown",
   "metadata": {
    "id": "LyuGuJUgjUK3"
   },
   "source": [
    "## 단일 스텝 모델"
   ]
  },
  {
   "cell_type": "code",
   "execution_count": null,
   "metadata": {
    "execution": {
     "iopub.execute_input": "2020-11-12T06:11:03.585020Z",
     "iopub.status.busy": "2020-11-12T06:11:03.584176Z",
     "iopub.status.idle": "2020-11-12T06:11:03.588535Z",
     "shell.execute_reply": "2020-11-12T06:11:03.588976Z"
    },
    "id": "G5QX1G1JTPCr"
   },
   "outputs": [],
   "source": [
    "single_step_window = WindowGenerator(\n",
    "    input_width=1, label_width=1, shift=1,\n",
    "    label_columns=['FlowHt'])\n",
    "single_step_window"
   ]
  },
  {
   "cell_type": "markdown",
   "metadata": {
    "id": "D1bbPiR3VAm_"
   },
   "source": [
    "### 기준"
   ]
  },
  {
   "cell_type": "code",
   "execution_count": null,
   "metadata": {
    "execution": {
     "iopub.execute_input": "2020-11-12T06:11:03.665981Z",
     "iopub.status.busy": "2020-11-12T06:11:03.665386Z",
     "iopub.status.idle": "2020-11-12T06:11:03.667868Z",
     "shell.execute_reply": "2020-11-12T06:11:03.667396Z"
    },
    "id": "9TybQaIsi3yg"
   },
   "outputs": [],
   "source": [
    "class Baseline(tf.keras.Model):\n",
    "  def __init__(self, label_index=None):\n",
    "    super().__init__()\n",
    "    self.label_index = label_index\n",
    "\n",
    "  def call(self, inputs):\n",
    "    if self.label_index is None:\n",
    "      return inputs\n",
    "    result = inputs[:, :, self.label_index]\n",
    "    return result[:, :, tf.newaxis]\n",
    "\n",
    "baseline = Baseline(label_index=column_indices['FlowHt'])\n",
    "\n",
    "baseline.compile(loss=tf.losses.MeanSquaredError(),\n",
    "                 metrics=[tf.metrics.MeanAbsoluteError()])"
   ]
  },
  {
   "cell_type": "code",
   "execution_count": null,
   "outputs": [],
   "source": [
    "import tensorflow.compat.v2 as tf\n",
    "import tensorflow_datasets as tfds\n",
    "\n",
    "val_performance = {}\n",
    "\n",
    "#dataset_val = single_step_window.val\n",
    "\n",
    "for inputs, labels, lab in single_step_window.val.take(10):\n",
    "\n",
    "#for inputs, labels, lab in tfds.as_numpy(single_step_window.val):\n",
    "\n",
    "#  print(type(inputs), type(labels), label)\n",
    "\n",
    "    val_performance['Baseline'] = baseline.evaluate(inputs, labels)\n",
    "    val_performance['Baseline'] =val_performance['Baseline']  +val_performance['Baseline']\n",
    "\n",
    "keys = 'Baseline'\n",
    "fig, ax = plt.subplots(figsize=(16, 4))\n",
    "for keys in val_performance.keys() :\n",
    "    i = 0\n",
    "    for x in val_performance[keys] :\n",
    "        ax.plot(i, x, 'o')\n",
    "        i += 1"
   ],
   "metadata": {
    "collapsed": false,
    "pycharm": {
     "name": "#%%\n"
    }
   }
  },
  {
   "cell_type": "code",
   "execution_count": null,
   "outputs": [],
   "source": [
    "val_performance = {}\n",
    "performance = {}\n",
    "val_performance['Baseline'] = baseline.evaluate(single_step_window.val, verbose=1)\n",
    "#performance['Baseline'] = baseline.evaluate(single_step_window.test, verbose=0)\n"
   ],
   "metadata": {
    "collapsed": false,
    "pycharm": {
     "name": "#%%\n"
    }
   }
  },
  {
   "cell_type": "code",
   "execution_count": null,
   "metadata": {
    "execution": {
     "iopub.execute_input": "2020-11-12T06:11:05.571752Z",
     "iopub.status.busy": "2020-11-12T06:11:05.570906Z",
     "iopub.status.idle": "2020-11-12T06:11:05.574680Z",
     "shell.execute_reply": "2020-11-12T06:11:05.574002Z"
    },
    "id": "C8jNR5uuJ5Zp"
   },
   "outputs": [],
   "source": [
    "wide_window = WindowGenerator(\n",
    "    input_width=8, label_width=8, shift=1,\n",
    "    label_columns=['FlowHt'])\n",
    "\n",
    "wide_window\n",
    "\n",
    "\n",
    "wide_window.plot(baseline)\n",
    "\n",
    "val_performance['Baseline_wide'] = baseline.evaluate(wide_window.val)\n",
    "performance['Baseline_wide'] = baseline.evaluate(wide_window.test, verbose=0)\n",
    "\n",
    "print(f'val_performance :{val_performance}')\n",
    "print(f'test_performance :{performance}')"
   ]
  },
  {
   "cell_type": "code",
   "execution_count": null,
   "outputs": [],
   "source": [
    "from matplotlib import gridspec\n",
    "\n",
    "def plot_5(self, inputs, labels, IR, n1, model=None, plot_col='FlowHt', max_subplots=40):\n",
    "  nrows = len(inputs)\n",
    "  fvsize = nrows * 3\n",
    "  font = {'family': 'serif','color' : 'black','weight': 'normal',\n",
    "        'size' :  20}\n",
    "  plt.figure(figsize=(12, fvsize))\n",
    "#\n",
    "  plot_col_index = self.column_indices[plot_col]\n",
    "\n",
    "  max_n = min(max_subplots, len(inputs))\n",
    "\n",
    "  fig, ax = plt.subplots(nrows, ncols=1, figsize = (12,fvsize), tight_layout = True)\n",
    "\n",
    "  for n in range(max_n):\n",
    "    input_indices = IR[n+n1*16 : n+n1*16 + self.total_window_size]\n",
    "\n",
    "#    plt.plot(self.input_indices, inputs[n, :, plot_col_index],\n",
    "    ax[n].plot(input_indices[:-1], inputs[n, :, plot_col_index],\n",
    "             label='Inputs', marker='.', zorder=-10)\n",
    "    ax[n].text(0.9,0.1, \"n = {}\".format(n), fontdict =font, ha=\"center\", transform=ax[n].transAxes)\n",
    "\n",
    "#    plt.scatter(input_indices+1, labels[n],\n",
    "    ax[n].scatter(input_indices[1:],  labels[n],\n",
    "                edgecolors='k', label='Labels', c='#2ca02c', s=64)\n",
    "\n",
    "    ax2.scatter(input_indices[1:],  labels[n], marker='x',\n",
    "                edgecolors='k', label='Labels', c='#2ca02c', s=64)\n",
    "\n",
    "    if model is not None:\n",
    "      predictions = model(inputs)\n",
    "      ax[n].scatter(input_indices[1:], predictions[n],\n",
    "                  marker='X', edgecolors='k', label='Predictions',\n",
    "                  c='#ff7f0e', s=64)\n",
    "\n",
    "      #------------------------------------------------\n",
    "      inputs1 = np.array(inputs).copy()\n",
    "#    print(inputs1[:,1, 1])\n",
    "      inputs1[:,1, 1]=0\n",
    "#    print(inputs1[:,1])\n",
    "      predictions = baseline(inputs1)\n",
    "      #plt.scatter(inputs1[n+1,:, 0], predictions[n],\n",
    "      #            marker='x', label='Predictions',\n",
    "      #            c='#ff7f0e', s=64)\n",
    "    #-----------------------------------------------------------------\n",
    "      ax2.scatter(input_indices[1:], predictions[n],\n",
    "                  marker='o', label='Predictions')\n",
    "\n",
    "    if n == 0:\n",
    "      ax[n].legend()\n",
    "\n",
    "    ax[n].set_ylabel(f'{plot_col} [normed]')\n",
    "    ax[n].invert_xaxis()\n",
    "\n",
    "  ax[n].set_xlabel('IR')\n",
    "\n",
    "WindowGenerator.plot_5 = plot_5\n",
    "\n",
    "#------------------------------------------\n",
    "dataset = wide_window.test\n",
    "n = 0\n",
    "\n",
    "fig, ax2 = plt.subplots()\n",
    "\n",
    "\n",
    "\n",
    "for batch in dataset :\n",
    "\n",
    "  inputs, targets = batch\n",
    "  plot_features = inputs\n",
    "  print(f'Inputs shape (batch, time, features): {inputs.shape}')\n",
    "  print(f'Labels shape (batch, time, features): {targets.shape}')\n",
    "\n",
    "\n",
    "  wide_window.plot_5(inputs, targets, IR, n, baseline)\n",
    "  n += 1\n",
    "#  if (n == 4) : break\n",
    "\n",
    "\n",
    "ax2.invert_xaxis()\n",
    "ax2.legend()"
   ],
   "metadata": {
    "collapsed": false,
    "pycharm": {
     "name": "#%%\n"
    }
   }
  },
  {
   "cell_type": "code",
   "execution_count": null,
   "outputs": [],
   "source": [
    "dataset = wide_window.test\n",
    "\n",
    "batch_size = 16\n",
    "n = 0\n",
    "for batch in dataset :\n",
    "    inputs, targets = batch\n",
    "    inputs1 = np.array(inputs).copy()\n",
    "    n2 = len(inputs)\n",
    "#    print(inputs1[:,1, 1])\n",
    "    inputs1[:,1, 1]=0\n",
    "#    print(inputs1[:,1])\n",
    "\n",
    "    predictions = baseline(inputs1)\n",
    "\n",
    "    nrows = len(inputs)\n",
    "\n",
    "    for i in range(nrows-1) :\n",
    "        plt.scatter(inputs1[i,:, 0], predictions[i],\n",
    "                  marker='o', label='Predictions')\n",
    "        plt.scatter(inputs[i, :, 0],  targets[i],\n",
    "                edgecolors='k', label='Labels', c='#2ca02c' )\n",
    "\n",
    " #       plt.legend()\n",
    "    n += 1\n",
    "    if (n == 6) : break\n",
    "plt.gca().invert_xaxis()"
   ],
   "metadata": {
    "collapsed": false,
    "pycharm": {
     "name": "#%%\n"
    }
   }
  },
  {
   "cell_type": "code",
   "execution_count": null,
   "outputs": [],
   "source": [
    "big_window = WindowGenerator(\n",
    "    input_width=57, label_width=57, shift=1,\n",
    "    label_columns=['FlowHt'])\n",
    "\n",
    "big_window"
   ],
   "metadata": {
    "collapsed": false,
    "pycharm": {
     "name": "#%%\n"
    }
   }
  },
  {
   "cell_type": "code",
   "execution_count": null,
   "outputs": [],
   "source": [
    "dataset = big_window.test\n",
    "n = 1\n",
    "for batch in dataset :\n",
    "  inputs, targets = batch\n",
    "  ww = np.size(inputs, 1)\n",
    "  print(f'Inputs shape (batch, time, features): {inputs.shape}')\n",
    "  print(f'Labels shape (batch, time, features): {targets.shape}')\n",
    "  plot_3(inputs, targets, ww, n, model=baseline)\n",
    "  n += 1"
   ],
   "metadata": {
    "collapsed": false,
    "pycharm": {
     "name": "#%%\n"
    }
   }
  },
  {
   "cell_type": "markdown",
   "metadata": {
    "id": "E4aOJScj52Yu"
   },
   "source": [
    "### 선형 모델"
   ]
  },
  {
   "cell_type": "code",
   "execution_count": null,
   "metadata": {
    "execution": {
     "iopub.execute_input": "2020-11-12T06:11:06.096044Z",
     "iopub.status.busy": "2020-11-12T06:11:06.095249Z",
     "iopub.status.idle": "2020-11-12T06:11:06.100719Z",
     "shell.execute_reply": "2020-11-12T06:11:06.100142Z"
    },
    "id": "6341OXuQ5xA9"
   },
   "outputs": [],
   "source": [
    "linear = tf.keras.Sequential([\n",
    "    tf.keras.layers.Dense(units=1)\n",
    "])"
   ]
  },
  {
   "cell_type": "code",
   "execution_count": null,
   "metadata": {
    "execution": {
     "iopub.execute_input": "2020-11-12T06:11:06.109125Z",
     "iopub.status.busy": "2020-11-12T06:11:06.106559Z",
     "iopub.status.idle": "2020-11-12T06:11:06.345598Z",
     "shell.execute_reply": "2020-11-12T06:11:06.345035Z"
    },
    "id": "KwaOM8RucUSn"
   },
   "outputs": [],
   "source": [
    "print('Input shape:', single_step_window.example[0].shape)\n",
    "print('Output shape:', linear(single_step_window.example[0]).shape)"
   ]
  },
  {
   "cell_type": "code",
   "execution_count": null,
   "outputs": [],
   "source": [
    "MAX_EPOCHS =20\n",
    "\n",
    "def compile_and_fit(model, window, patience=2):\n",
    "  early_stopping = tf.keras.callbacks.EarlyStopping(monitor='val_loss',\n",
    "                                                    patience=patience,\n",
    "                                                    mode='min')\n",
    "\n",
    "  model.compile(loss=tf.losses.MeanSquaredError(),\n",
    "                optimizer=tf.optimizers.Adam(),\n",
    "                metrics=[tf.metrics.MeanAbsoluteError()])\n",
    "\n",
    "  history = model.fit(window.train, epochs=MAX_EPOCHS,\n",
    "                      validation_data=window.val)\n",
    "#                      ,callbacks=[early_stopping])\n",
    "  return history"
   ],
   "metadata": {
    "collapsed": false,
    "pycharm": {
     "name": "#%%\n"
    }
   }
  },
  {
   "cell_type": "code",
   "execution_count": null,
   "metadata": {
    "execution": {
     "iopub.execute_input": "2020-11-12T06:11:06.364010Z",
     "iopub.status.busy": "2020-11-12T06:11:06.363291Z",
     "iopub.status.idle": "2020-11-12T06:11:39.511017Z",
     "shell.execute_reply": "2020-11-12T06:11:39.511474Z"
    },
    "id": "9agbz2qB9bLS"
   },
   "outputs": [],
   "source": [
    "hist = compile_and_fit(linear, single_step_window)\n",
    "#IPython.display.clear_output()\n",
    "single_step_window.plot(linear)"
   ]
  },
  {
   "cell_type": "code",
   "execution_count": null,
   "outputs": [],
   "source": [
    "val_performance['Linear'] = linear.evaluate(single_step_window.val)\n",
    "performance['Linear'] = linear.evaluate(single_step_window.test)\n",
    "\n",
    "val_performance['Linear'] = linear.evaluate(single_step_window.train)"
   ],
   "metadata": {
    "collapsed": false,
    "pycharm": {
     "name": "#%%\n"
    }
   }
  },
  {
   "cell_type": "code",
   "execution_count": null,
   "outputs": [],
   "source": [
    "# 5. 모델 학습 과정 표시하기\n",
    "%matplotlib inline\n",
    "import matplotlib.pyplot as plt\n",
    "\n",
    "fig, loss_ax = plt.subplots()\n",
    "\n",
    "acc_ax = loss_ax.twinx()\n",
    "\n",
    "loss_ax.plot(hist.history['loss'], 'y', label='train loss')\n",
    "loss_ax.plot(hist.history['val_loss'], 'r', label='val loss')\n",
    "\n",
    "acc_ax.plot(hist.history['mean_absolute_error'], 'b', label='train MAE')\n",
    "acc_ax.plot(hist.history['val_mean_absolute_error'], 'g', label='val MAE')\n",
    "\n",
    "loss_ax.set_xlabel('epoch')\n",
    "loss_ax.set_ylabel('loss')\n",
    "acc_ax.set_ylabel('mean_absolute_error')\n",
    "\n",
    "#loss_ax.legend(loc='upper left')\n",
    "#acc_ax.legend(loc='lower left')\n",
    "loss_ax.legend(loc='center')\n",
    "acc_ax.legend(loc='lower center')\n",
    "\n",
    "plt.show()"
   ],
   "metadata": {
    "collapsed": false,
    "pycharm": {
     "name": "#%%\n"
    }
   }
  },
  {
   "cell_type": "code",
   "execution_count": null,
   "outputs": [],
   "source": [
    "print('Input shape:', wide_window.example[0].shape)\n",
    "print('Output shape:', linear(wide_window.example[0]).shape)"
   ],
   "metadata": {
    "collapsed": false,
    "pycharm": {
     "name": "#%%\n"
    }
   }
  },
  {
   "cell_type": "code",
   "execution_count": null,
   "metadata": {
    "execution": {
     "iopub.execute_input": "2020-11-12T06:11:39.532832Z",
     "iopub.status.busy": "2020-11-12T06:11:39.532207Z",
     "iopub.status.idle": "2020-11-12T06:11:39.878322Z",
     "shell.execute_reply": "2020-11-12T06:11:39.878773Z"
    },
    "id": "bCC8VVo-OvwV"
   },
   "outputs": [],
   "source": [
    "history = compile_and_fit(linear, wide_window)\n",
    "\n",
    "wide_window.plot(linear)"
   ]
  },
  {
   "cell_type": "code",
   "execution_count": null,
   "outputs": [],
   "source": [
    "dataset = wide_window.train\n",
    "n = 1\n",
    "for batch in dataset :\n",
    "  inputs, targets = batch\n",
    "  ww = np.size(inputs, 1)\n",
    "  print(f'Inputs shape (batch, time, features): {inputs.shape}')\n",
    "  print(f'Labels shape (batch, time, features): {targets.shape}')\n",
    "  plot_3(inputs, targets, ww, n, model=linear)\n",
    "  n += 1"
   ],
   "metadata": {
    "collapsed": false,
    "pycharm": {
     "name": "#%%\n"
    }
   }
  },
  {
   "cell_type": "code",
   "execution_count": null,
   "metadata": {
    "execution": {
     "iopub.execute_input": "2020-11-12T06:11:39.884518Z",
     "iopub.status.busy": "2020-11-12T06:11:39.883886Z",
     "iopub.status.idle": "2020-11-12T06:11:40.058334Z",
     "shell.execute_reply": "2020-11-12T06:11:40.058766Z"
    },
    "id": "d4uCTbsmK8VI"
   },
   "outputs": [],
   "source": [
    "plt.bar(x = range(len(train_df.columns)),\n",
    "        height=linear.layers[0].kernel[:,0].numpy())\n",
    "axis = plt.gca()\n",
    "axis.set_xticks(range(len(train_df.columns)))\n",
    "_ = axis.set_xticklabels(train_df.columns, rotation=90)"
   ]
  },
  {
   "cell_type": "markdown",
   "metadata": {
    "id": "W18e6da1cNbw"
   },
   "source": [
    "### 밀집"
   ]
  },
  {
   "cell_type": "code",
   "execution_count": null,
   "metadata": {
    "execution": {
     "iopub.execute_input": "2020-11-12T06:11:40.067852Z",
     "iopub.status.busy": "2020-11-12T06:11:40.067229Z",
     "iopub.status.idle": "2020-11-12T06:12:23.129623Z",
     "shell.execute_reply": "2020-11-12T06:12:23.128888Z"
    },
    "id": "Z86WkYp7cNAD"
   },
   "outputs": [],
   "source": [
    "dense = tf.keras.Sequential([\n",
    "    tf.keras.layers.Dense(units=64, activation='relu'),\n",
    "    tf.keras.layers.Dense(units=64, activation='relu'),\n",
    "    tf.keras.layers.Dense(units=1)\n",
    "])\n",
    "\n",
    "history = compile_and_fit(dense, wide_window)\n",
    "\n",
    "val_performance['Dense'] = dense.evaluate(wide_window.val)\n",
    "performance['Dense'] = dense.evaluate(wide_window.test)\n",
    "#performance['Dense'] = dense.evaluate(wide_window.test, verbose=0)"
   ]
  },
  {
   "cell_type": "markdown",
   "metadata": {
    "id": "j5dv_whJdswH"
   },
   "source": [
    "### 다중 스텝 밀집"
   ]
  },
  {
   "cell_type": "code",
   "execution_count": null,
   "metadata": {
    "execution": {
     "iopub.execute_input": "2020-11-12T06:12:23.135910Z",
     "iopub.status.busy": "2020-11-12T06:12:23.135144Z",
     "iopub.status.idle": "2020-11-12T06:12:23.138364Z",
     "shell.execute_reply": "2020-11-12T06:12:23.137654Z"
    },
    "id": "lBh0j5djUKY2"
   },
   "outputs": [],
   "source": [
    "CONV_WIDTH = 3\n",
    "conv_window = WindowGenerator(\n",
    "    input_width=CONV_WIDTH,\n",
    "    label_width=1,\n",
    "    shift=1,\n",
    "    label_columns=['FlowHt'])\n",
    "\n",
    "conv_window"
   ]
  },
  {
   "cell_type": "code",
   "execution_count": null,
   "metadata": {
    "execution": {
     "iopub.execute_input": "2020-11-12T06:12:23.141956Z",
     "iopub.status.busy": "2020-11-12T06:12:23.141368Z",
     "iopub.status.idle": "2020-11-12T06:12:23.567267Z",
     "shell.execute_reply": "2020-11-12T06:12:23.567747Z"
    },
    "id": "dCQ5gvs68Xkd"
   },
   "outputs": [],
   "source": [
    "conv_window.plot()\n",
    "plt.title(\"Given 3h as input, predict 1h into the future.\")"
   ]
  },
  {
   "cell_type": "markdown",
   "metadata": {
    "id": "We0HdMxKeqB_"
   },
   "source": [
    "`layers.Flatten`을 모델의 첫 번째 레이어로 추가하여 다중 입력 스텝 창에서 `dense` 모델을 훈련할 수 있습니다."
   ]
  },
  {
   "cell_type": "code",
   "execution_count": null,
   "metadata": {
    "execution": {
     "iopub.execute_input": "2020-11-12T06:12:23.577831Z",
     "iopub.status.busy": "2020-11-12T06:12:23.577134Z",
     "iopub.status.idle": "2020-11-12T06:12:23.582688Z",
     "shell.execute_reply": "2020-11-12T06:12:23.582142Z"
    },
    "id": "oNQnUOkOnC1G"
   },
   "outputs": [],
   "source": [
    "multi_step_dense = tf.keras.Sequential([\n",
    "    # Shape: (time, features) => (time*features)\n",
    "    tf.keras.layers.Flatten(),\n",
    "    tf.keras.layers.Dense(units=16, activation='relu'),\n",
    "    tf.keras.layers.Dense(units=16, activation='relu'),\n",
    "    tf.keras.layers.Dense(units=1),\n",
    "    # Add back the time dimension.\n",
    "    # Shape: (outputs) => (1, outputs)\n",
    "    tf.keras.layers.Reshape([1, -1]),\n",
    "])"
   ]
  },
  {
   "cell_type": "code",
   "execution_count": null,
   "metadata": {
    "execution": {
     "iopub.execute_input": "2020-11-12T06:12:23.588719Z",
     "iopub.status.busy": "2020-11-12T06:12:23.587373Z",
     "iopub.status.idle": "2020-11-12T06:12:23.617721Z",
     "shell.execute_reply": "2020-11-12T06:12:23.617187Z"
    },
    "id": "cayD74luo4Vq"
   },
   "outputs": [],
   "source": [
    "print('Input shape:', conv_window.example[0].shape)\n",
    "print('Output shape:', multi_step_dense(conv_window.example[0]).shape)"
   ]
  },
  {
   "cell_type": "code",
   "execution_count": null,
   "metadata": {
    "execution": {
     "iopub.execute_input": "2020-11-12T06:12:23.626746Z",
     "iopub.status.busy": "2020-11-12T06:12:23.626144Z",
     "iopub.status.idle": "2020-11-12T06:13:06.689558Z",
     "shell.execute_reply": "2020-11-12T06:13:06.690077Z"
    },
    "id": "fu91yEbRo9-J"
   },
   "outputs": [],
   "source": [
    "history = compile_and_fit(multi_step_dense, conv_window)\n",
    "\n",
    "IPython.display.clear_output()\n",
    "val_performance['Multi step dense'] = multi_step_dense.evaluate(conv_window.val)\n",
    "performance['Multi step dense'] = multi_step_dense.evaluate(conv_window.test, verbose=0)"
   ]
  },
  {
   "cell_type": "code",
   "execution_count": null,
   "metadata": {
    "execution": {
     "iopub.execute_input": "2020-11-12T06:13:06.703798Z",
     "iopub.status.busy": "2020-11-12T06:13:06.703064Z",
     "iopub.status.idle": "2020-11-12T06:13:07.073542Z",
     "shell.execute_reply": "2020-11-12T06:13:07.073953Z"
    },
    "id": "tnqdXYT6pkEh"
   },
   "outputs": [],
   "source": [
    "conv_window.plot(multi_step_dense)\n"
   ]
  },
  {
   "cell_type": "markdown",
   "metadata": {
    "id": "gWfrsP8mq8lV"
   },
   "source": [
    "이 접근법의 주된 단점은 결과적인 모델이 정확히 이 형상의 입력 창에서만 실행될 수 있다는 것입니다. "
   ]
  },
  {
   "cell_type": "code",
   "execution_count": null,
   "metadata": {
    "execution": {
     "iopub.execute_input": "2020-11-12T06:13:07.083312Z",
     "iopub.status.busy": "2020-11-12T06:13:07.082319Z",
     "iopub.status.idle": "2020-11-12T06:13:07.102366Z",
     "shell.execute_reply": "2020-11-12T06:13:07.101668Z"
    },
    "id": "j-q6tz5Yq8Jk"
   },
   "outputs": [],
   "source": [
    "print('Input shape:', wide_window.example[0].shape)\n",
    "try:\n",
    "  print('Output shape:', multi_step_dense(wide_window.example[0]).shape)\n",
    "except Exception as e:\n",
    "  print(f'\\n{type(e).__name__}:{e}')"
   ]
  },
  {
   "cell_type": "markdown",
   "metadata": {
    "id": "bvvajm3ip_8V"
   },
   "source": [
    "다음 섹션의 컨볼루셔널 모델은 이 문제를 해결합니다."
   ]
  },
  {
   "cell_type": "markdown",
   "metadata": {
    "id": "CrpU6gwSJome"
   },
   "source": [
    "### 컨볼루션 신경망\n",
    "\n",
    "컨볼루션 레이어(`layers.Conv1D`)도 각 예측에 대한 입력으로 여러 타임스텝을 사용합니다."
   ]
  },
  {
   "cell_type": "markdown",
   "metadata": {
    "id": "cdLBwoaHmsWb"
   },
   "source": [
    "다음은 컨볼루션으로 다시 작성한 `multi_step_dense`와 **동일한** 모델입니다.\n",
    "\n",
    "다음 변경 사항에 주목하세요.\n",
    "\n",
    "- `layers.Flatten`과 첫 번째 `layers.Dense`는 `layers.Conv1D`로 대체됩니다.\n",
    "- 컨볼루션이 출력에서 시간 축을 유지하므로 `layers.Reshape`는 이 더 이상 필요하지 않습니다."
   ]
  },
  {
   "cell_type": "code",
   "execution_count": null,
   "metadata": {
    "execution": {
     "iopub.execute_input": "2020-11-12T06:13:07.112377Z",
     "iopub.status.busy": "2020-11-12T06:13:07.111699Z",
     "iopub.status.idle": "2020-11-12T06:13:07.116644Z",
     "shell.execute_reply": "2020-11-12T06:13:07.116171Z"
    },
    "id": "5azaMBj4ac9t"
   },
   "outputs": [],
   "source": [
    "conv_model = tf.keras.Sequential([\n",
    "    tf.keras.layers.Conv1D(filters=32,\n",
    "                           kernel_size=(CONV_WIDTH,),\n",
    "                           activation='relu'),\n",
    "    tf.keras.layers.Dense(units=32, activation='relu'),\n",
    "    tf.keras.layers.Dense(units=1),\n",
    "])"
   ]
  },
  {
   "cell_type": "markdown",
   "metadata": {
    "id": "ftaH6B5ECRiK"
   },
   "source": [
    "예제 배치에서 실행하여 모델이 예상된 형상으로 출력을 생성하는지 확인합니다."
   ]
  },
  {
   "cell_type": "code",
   "execution_count": null,
   "metadata": {
    "execution": {
     "iopub.execute_input": "2020-11-12T06:13:07.255804Z",
     "iopub.status.busy": "2020-11-12T06:13:07.255015Z",
     "iopub.status.idle": "2020-11-12T06:13:07.300665Z",
     "shell.execute_reply": "2020-11-12T06:13:07.300065Z"
    },
    "id": "5YNgt1-e98lH"
   },
   "outputs": [],
   "source": [
    "print(\"Conv model on `conv_window`\")\n",
    "print('Input shape:', conv_window.example[0].shape)\n",
    "print('Output shape:', conv_model(conv_window.example[0]).shape)"
   ]
  },
  {
   "cell_type": "code",
   "execution_count": null,
   "outputs": [],
   "source": [
    "n=1\n",
    "for example_inputs, example_labels in conv_window.train.take(30): #1534, 6\n",
    "#for example_inputs, example_labels in single_step_window.train.take(3):\n",
    "#for example_inputs, example_labels in wide_window.train.take(2000): #1533 15\n",
    "  print(n)\n",
    "  print(f'Inputs shape (batch, time, features): {example_inputs.shape}')\n",
    "  print(f'Labels shape (batch, time, features): {example_labels.shape}')\n",
    "  n += 1\n"
   ],
   "metadata": {
    "collapsed": false,
    "pycharm": {
     "name": "#%%\n"
    }
   }
  },
  {
   "cell_type": "markdown",
   "metadata": {
    "id": "5m4kC-jGCY3x"
   },
   "source": [
    "`conv_window`에서 훈련하고 평가하면 `multi_step_dense` 모델과 유사한 성능을 제공해야 합니다."
   ]
  },
  {
   "cell_type": "code",
   "execution_count": null,
   "metadata": {
    "execution": {
     "iopub.execute_input": "2020-11-12T06:13:07.310431Z",
     "iopub.status.busy": "2020-11-12T06:13:07.309701Z",
     "iopub.status.idle": "2020-11-12T06:14:53.861352Z",
     "shell.execute_reply": "2020-11-12T06:14:53.861897Z"
    },
    "id": "QDVWdm4paUW7"
   },
   "outputs": [],
   "source": [
    "history = compile_and_fit(conv_model, conv_window)\n",
    "\n",
    "#IPython.display.clear_output()\n",
    "val_performance['Conv'] = conv_model.evaluate(conv_window.val)\n",
    "#performance['Conv'] = conv_model.evaluate(conv_window.test, verbose=0)\n",
    "performance['Conv'] = conv_model.evaluate(conv_window.test)"
   ]
  },
  {
   "cell_type": "markdown",
   "metadata": {
    "id": "sYRipDeXs0Kr"
   },
   "source": [
    "이 `conv_model`과 `multi_step_dense` 모델의 차이점은 `conv_model`은 모든 길이의 입력에서 실행될 수 있다는 것입니다. 컨볼루셔널 레이어는 입력의 슬라이딩 윈도우에 적용됩니다.\n",
    "\n",
    "![Executing a convolutional model on a sequence](https://www.tensorflow.org/tutorials/structured_data/images/wide_conv_window.png)\n",
    "\n",
    "더 넓은 입력에서 실행하면 더 넓은 출력이 생성됩니다."
   ]
  },
  {
   "cell_type": "code",
   "execution_count": null,
   "metadata": {
    "execution": {
     "iopub.execute_input": "2020-11-12T06:14:53.871222Z",
     "iopub.status.busy": "2020-11-12T06:14:53.868949Z",
     "iopub.status.idle": "2020-11-12T06:14:53.910056Z",
     "shell.execute_reply": "2020-11-12T06:14:53.909422Z"
    },
    "id": "hoqccxx9r5jF"
   },
   "outputs": [],
   "source": [
    "print(\"Wide window\")\n",
    "print('Input shape:', wide_window.example[0].shape)\n",
    "print('Labels shape:', wide_window.example[1].shape)\n",
    "print('Output shape:', conv_model(wide_window.example[0]).shape)"
   ]
  },
  {
   "cell_type": "markdown",
   "metadata": {
    "id": "h_WGxtLIHhRF"
   },
   "source": [
    "출력은 입력보다 짧습니다. 훈련 또는 플롯 작업을 수행하려면 레이블과 예상의 길이가 동일해야 합니다. 따라서 레이블과 예측 길이가 일치하도록 몇 개의 추가 입력 타임스텝으로 넓은 창을 생성하는 `WindowGenerator`를 빌드합니다. "
   ]
  },
  {
   "cell_type": "code",
   "execution_count": null,
   "metadata": {
    "execution": {
     "iopub.execute_input": "2020-11-12T06:14:53.916374Z",
     "iopub.status.busy": "2020-11-12T06:14:53.915463Z",
     "iopub.status.idle": "2020-11-12T06:14:53.918614Z",
     "shell.execute_reply": "2020-11-12T06:14:53.919013Z"
    },
    "id": "_VPvJ_VwTc0f"
   },
   "outputs": [],
   "source": [
    "LABEL_WIDTH = 16\n",
    "INPUT_WIDTH = LABEL_WIDTH + (CONV_WIDTH - 1)\n",
    "wide_conv_window = WindowGenerator(\n",
    "    input_width=INPUT_WIDTH,\n",
    "    label_width=LABEL_WIDTH,\n",
    "    shift=1,\n",
    "    label_columns=['FlowHt'])\n",
    "\n",
    "wide_conv_window"
   ]
  },
  {
   "cell_type": "code",
   "execution_count": null,
   "metadata": {
    "execution": {
     "iopub.execute_input": "2020-11-12T06:14:53.923589Z",
     "iopub.status.busy": "2020-11-12T06:14:53.922938Z",
     "iopub.status.idle": "2020-11-12T06:14:54.003110Z",
     "shell.execute_reply": "2020-11-12T06:14:54.003515Z"
    },
    "id": "gtqlWYXeKXej"
   },
   "outputs": [],
   "source": [
    "print(\"Wide conv window\")\n",
    "print('Input shape:', wide_conv_window.example[0].shape)\n",
    "print('Labels shape:', wide_conv_window.example[1].shape)\n",
    "print('Output shape:', conv_model(wide_conv_window.example[0]).shape)"
   ]
  },
  {
   "cell_type": "code",
   "execution_count": null,
   "outputs": [],
   "source": [
    "n=1\n",
    "for example_inputs, example_labels in wide_conv_window.train.take(2000): #1534, 6\n",
    "#for example_inputs, example_labels in single_step_window.train.take(3):\n",
    "#for example_inputs, example_labels in wide_window.train.take(2000): #1533 15\n",
    "  print(n)\n",
    "  print(f'Inputs shape (batch, time, features): {example_inputs.shape}')\n",
    "  print(f'Labels shape (batch, time, features): {example_labels.shape}')\n",
    "  n += 1"
   ],
   "metadata": {
    "collapsed": false,
    "pycharm": {
     "name": "#%%\n"
    }
   }
  },
  {
   "cell_type": "markdown",
   "metadata": {
    "id": "yzxbbS56cSBV"
   },
   "source": [
    "이제 더 넓은 창에 모델의 예측값을 플롯할 수 있습니다. 첫 번째 예측 전 3개의 입력 타임스텝에 주목하세요. 여기서 모든 예측은 이전 3개의 타임스텝에 기초합니다."
   ]
  },
  {
   "cell_type": "code",
   "execution_count": null,
   "metadata": {
    "execution": {
     "iopub.execute_input": "2020-11-12T06:14:54.017815Z",
     "iopub.status.busy": "2020-11-12T06:14:54.016775Z",
     "iopub.status.idle": "2020-11-12T06:14:54.375705Z",
     "shell.execute_reply": "2020-11-12T06:14:54.376149Z"
    },
    "id": "gR7VyL45UuEe"
   },
   "outputs": [],
   "source": [
    "wide_conv_window.plot(conv_model)"
   ]
  },
  {
   "cell_type": "markdown",
   "metadata": {
    "id": "H4crpOcoMlSe"
   },
   "source": [
    "### 순환 신경망\n",
    "\n",
    "Recurrent Neural Network(RNN)는 시계열 데이터에 적합한 신경망 유형입니다. RNN은 시계열을 단계별로 처리하여 타임스텝 사이에서 내부 상태를 유지합니다.\n",
    "\n",
    "자세한 내용은 [텍스트 생성 튜토리얼](https://www.tensorflow.org/tutorials/text/text_generation) 또는 [RNN 가이드](https://www.tensorflow.org/guide/keras/rnn)를 읽어보세요.\n",
    "\n",
    "이 튜토리얼에서는 [Long Short Term Memory](https://www.tensorflow.org/versions/r2.0/api_docs/python/tf/keras/layers/LSTM)(LSTM)이라는 RNN 레이어를 사용합니다."
   ]
  },
  {
   "cell_type": "markdown",
   "metadata": {
    "id": "vfQbHSMb1ATa"
   },
   "source": [
    "모든 keras RNN 레이어에 대한 중요한 생성자 인수는 `return_sequences` 인수입니다. 이 설정은 다음 두 가지 방법 중 하나로 레이어를 구성할 수 있습니다.\n",
    "\n",
    "1. 기본값인 `False`인 경우 레이어는 최종 타임스텝의 출력만 반환하여 단일 예측을 수행하기 전에 모델이 내부 상태를 준비할 시간을 줍니다.\n",
    "\n",
    "![An lstm warming up and making a single prediction](https://www.tensorflow.org/tutorials/structured_data/images/lstm_1_window.png)\n",
    "\n",
    "1. `True`이면 레이어가 각 입력에 대한 출력을 반환합니다. 다음과 같은 경우에 유용합니다.\n",
    "\n",
    "- RNN 레이어 쌓기\n",
    "- 여러 타임스텝에서 동시에 모델 훈련\n",
    "\n",
    "![An lstm making a prediction after every timestep](https://www.tensorflow.org/tutorials/structured_data/images/lstm_many_window.png)"
   ]
  },
  {
   "cell_type": "code",
   "execution_count": null,
   "metadata": {
    "execution": {
     "iopub.execute_input": "2020-11-12T06:14:54.393011Z",
     "iopub.status.busy": "2020-11-12T06:14:54.391958Z",
     "iopub.status.idle": "2020-11-12T06:14:54.397306Z",
     "shell.execute_reply": "2020-11-12T06:14:54.396830Z"
    },
    "id": "DXKLCJy8nWNU"
   },
   "outputs": [],
   "source": [
    "lstm_model = tf.keras.models.Sequential([\n",
    "    # Shape [batch, time, features] => [batch, time, lstm_units]\n",
    "    tf.keras.layers.LSTM(16, return_sequences=True),\n",
    "    # Shape => [batch, time, features]\n",
    "    tf.keras.layers.Dense(units=1)\n",
    "])"
   ]
  },
  {
   "cell_type": "markdown",
   "metadata": {
    "id": "F124B00KZcLC"
   },
   "source": [
    "`return_sequences=True`이면 모델을 한 번에 24시간 분량 데이터에 대해 훈련할 수 있습니다.\n",
    "\n",
    "참고: 이 경우에는 모델 성능의 관점에서 기대할 것이 없습니다. 첫 번째 타임스텝에서 모델이 이전 스텝에 액세스할 수 없으므로 이전에 표시한 단순한 `linear` 및 `dense` 모델보다 더 나을 것이 없기 때문입니다."
   ]
  },
  {
   "cell_type": "code",
   "execution_count": null,
   "metadata": {
    "execution": {
     "iopub.execute_input": "2020-11-12T06:14:54.405415Z",
     "iopub.status.busy": "2020-11-12T06:14:54.402689Z",
     "iopub.status.idle": "2020-11-12T06:14:54.620257Z",
     "shell.execute_reply": "2020-11-12T06:14:54.620655Z"
    },
    "id": "eZEROCQVYV6q"
   },
   "outputs": [],
   "source": [
    "print('Input shape:', wide_window.example[0].shape)\n",
    "print('Output shape:', lstm_model(wide_window.example[0]).shape)"
   ]
  },
  {
   "cell_type": "code",
   "execution_count": null,
   "metadata": {
    "execution": {
     "iopub.execute_input": "2020-11-12T06:14:54.631110Z",
     "iopub.status.busy": "2020-11-12T06:14:54.630002Z",
     "iopub.status.idle": "2020-11-12T06:16:21.358489Z",
     "shell.execute_reply": "2020-11-12T06:16:21.359018Z"
    },
    "id": "uvdWRl1e9WJl"
   },
   "outputs": [],
   "source": [
    "history = compile_and_fit(lstm_model, wide_window)\n",
    "\n",
    "#IPython.display.clear_output()\n",
    "val_performance['LSTM'] = lstm_model.evaluate(wide_window.val)\n",
    "performance['LSTM'] = lstm_model.evaluate(wide_window.test, verbose=0)"
   ]
  },
  {
   "cell_type": "code",
   "execution_count": null,
   "metadata": {
    "execution": {
     "iopub.execute_input": "2020-11-12T06:16:21.373085Z",
     "iopub.status.busy": "2020-11-12T06:16:21.372379Z",
     "iopub.status.idle": "2020-11-12T06:16:21.726964Z",
     "shell.execute_reply": "2020-11-12T06:16:21.727399Z"
    },
    "id": "NwAOWCVgB26e"
   },
   "outputs": [],
   "source": [
    "wide_window.plot(lstm_model)"
   ]
  },
  {
   "cell_type": "code",
   "execution_count": null,
   "outputs": [],
   "source": [
    "dataset = wide_window.train\n",
    "n = 1\n",
    "for batch in dataset :\n",
    "  inputs, targets = batch\n",
    "  ww = np.size(inputs, 1)\n",
    "  print(f'Inputs shape (batch, time, features): {inputs.shape}')\n",
    "  print(f'Labels shape (batch, time, features): {targets.shape}')\n",
    "  plot_3(inputs, targets, ww, n, model=linear)\n",
    "  n += 1"
   ],
   "metadata": {
    "collapsed": false,
    "pycharm": {
     "name": "#%%\n"
    }
   }
  },
  {
   "cell_type": "markdown",
   "metadata": {
    "id": "pYglOCKehi8F"
   },
   "source": [
    "### 성능"
   ]
  },
  {
   "cell_type": "markdown",
   "metadata": {
    "id": "2pCk0_rwhi8H"
   },
   "source": [
    "이 데이터세트를 사용하면 일반적으로 각 모델의 성능이 이전 모델보다 약간 더 좋습니다."
   ]
  },
  {
   "cell_type": "code",
   "execution_count": null,
   "metadata": {
    "execution": {
     "iopub.execute_input": "2020-11-12T06:16:21.751267Z",
     "iopub.status.busy": "2020-11-12T06:16:21.747990Z",
     "iopub.status.idle": "2020-11-12T06:16:21.892120Z",
     "shell.execute_reply": "2020-11-12T06:16:21.891640Z"
    },
    "id": "JjEkt488hi8I"
   },
   "outputs": [],
   "source": [
    "x = np.arange(len(performance))\n",
    "width = 0.3\n",
    "metric_name = 'mean_absolute_error'\n",
    "metric_index = lstm_model.metrics_names.index('mean_absolute_error')\n",
    "val_mae = [v[metric_index] for v in val_performance.values()]\n",
    "test_mae = [v[metric_index] for v in performance.values()]\n",
    "\n",
    "plt.ylabel('mean_absolute_error [FlowHt, normalized]')\n",
    "plt.bar(x - 0.17, val_mae, width, label='Validation')\n",
    "plt.bar(x + 0.17, test_mae, width, label='Test')\n",
    "plt.xticks(ticks=x, labels=performance.keys(),\n",
    "           rotation=45)\n",
    "_ = plt.legend()"
   ]
  },
  {
   "cell_type": "code",
   "execution_count": null,
   "metadata": {
    "execution": {
     "iopub.execute_input": "2020-11-12T06:16:21.896603Z",
     "iopub.status.busy": "2020-11-12T06:16:21.895979Z",
     "iopub.status.idle": "2020-11-12T06:16:21.898000Z",
     "shell.execute_reply": "2020-11-12T06:16:21.898458Z"
    },
    "id": "cBMCpsdphi8L"
   },
   "outputs": [],
   "source": [
    "for name, value in performance.items():\n",
    "  print(f'{name:12s}: {value[1]:0.4f}')"
   ]
  },
  {
   "cell_type": "markdown",
   "metadata": {
    "id": "b5rUJ_2YMWzG"
   },
   "source": [
    "### 다중 출력 모델\n",
    "\n",
    "지금까지 모델은 모두 단일 타임스텝에 대해 단일 출력 특성 `T (degC)`를 예측했습니다.\n",
    "\n",
    "이러한 모든 모델은 간단히 출력 레이어의 단위 수를 변경하고 `labels`에 모든 특성을 포함하도록 훈련 창을 조정하여 여러 특성을 예측하도록 변환할 수 있습니다.\n"
   ]
  },
  {
   "cell_type": "code",
   "execution_count": null,
   "metadata": {
    "execution": {
     "iopub.execute_input": "2020-11-12T06:16:21.903155Z",
     "iopub.status.busy": "2020-11-12T06:16:21.902605Z",
     "iopub.status.idle": "2020-11-12T06:16:21.970508Z",
     "shell.execute_reply": "2020-11-12T06:16:21.969842Z"
    },
    "id": "9Gk0Z91xjOwv"
   },
   "outputs": [],
   "source": [
    "single_step_window = WindowGenerator(\n",
    "    # `WindowGenerator` returns all features as labels if you \n",
    "    # don't set the `label_columns` argument.\n",
    "    input_width=1, label_width=1, shift=1)\n",
    "\n",
    "wide_window = WindowGenerator(\n",
    "    input_width=24, label_width=24, shift=1)\n",
    "\n",
    "for example_inputs, example_labels in wide_window.train.take(1):\n",
    "  print(f'Inputs shape (batch, time, features): {example_inputs.shape}')\n",
    "  print(f'Labels shape (batch, time, features): {example_labels.shape}')"
   ]
  },
  {
   "cell_type": "markdown",
   "metadata": {
    "id": "XmcjHfDskX1N"
   },
   "source": [
    "레이블의 `features` 축은 이제 1이 아닌 입력과 동일한 깊이를 갖습니다."
   ]
  },
  {
   "cell_type": "markdown",
   "metadata": {
    "id": "9k7S5IHNhSNF"
   },
   "source": [
    "#### 기준\n",
    "\n",
    "여기서는 동일한 기준 모델을 사용할 수 있지만 이번에는 특정 `label_index`를 선택하는 대신 모든 특성을 반복합니다."
   ]
  },
  {
   "cell_type": "code",
   "execution_count": null,
   "metadata": {
    "execution": {
     "iopub.execute_input": "2020-11-12T06:16:21.976664Z",
     "iopub.status.busy": "2020-11-12T06:16:21.976037Z",
     "iopub.status.idle": "2020-11-12T06:16:21.993632Z",
     "shell.execute_reply": "2020-11-12T06:16:21.994057Z"
    },
    "id": "sqqB9W-pjr5i"
   },
   "outputs": [],
   "source": [
    "baseline = Baseline()\n",
    "baseline.compile(loss=tf.losses.MeanSquaredError(),\n",
    "                 metrics=[tf.metrics.MeanAbsoluteError()])"
   ]
  },
  {
   "cell_type": "code",
   "execution_count": null,
   "metadata": {
    "execution": {
     "iopub.execute_input": "2020-11-12T06:16:21.998559Z",
     "iopub.status.busy": "2020-11-12T06:16:21.997853Z",
     "iopub.status.idle": "2020-11-12T06:16:23.484358Z",
     "shell.execute_reply": "2020-11-12T06:16:23.484788Z"
    },
    "id": "ltQdgaqQjQWu"
   },
   "outputs": [],
   "source": [
    "val_performance = {}\n",
    "performance = {}\n",
    "val_performance['Baseline'] = baseline.evaluate(wide_window.val)\n",
    "performance['Baseline'] = baseline.evaluate(wide_window.test)"
   ]
  },
  {
   "cell_type": "markdown",
   "metadata": {
    "id": "dfbCrf5q3P6n"
   },
   "source": [
    "#### 밀집"
   ]
  },
  {
   "cell_type": "code",
   "execution_count": null,
   "metadata": {
    "execution": {
     "iopub.execute_input": "2020-11-12T06:16:23.493833Z",
     "iopub.status.busy": "2020-11-12T06:16:23.493137Z",
     "iopub.status.idle": "2020-11-12T06:16:23.497366Z",
     "shell.execute_reply": "2020-11-12T06:16:23.497837Z"
    },
    "id": "NdpzH1dYjdIN"
   },
   "outputs": [],
   "source": [
    "dense = tf.keras.Sequential([\n",
    "    tf.keras.layers.Dense(units=64, activation='relu'),\n",
    "    tf.keras.layers.Dense(units=64, activation='relu'),\n",
    "    tf.keras.layers.Dense(units=num_features)\n",
    "])"
   ]
  },
  {
   "cell_type": "code",
   "execution_count": null,
   "metadata": {
    "execution": {
     "iopub.execute_input": "2020-11-12T06:16:23.507048Z",
     "iopub.status.busy": "2020-11-12T06:16:23.506380Z",
     "iopub.status.idle": "2020-11-12T06:17:20.656455Z",
     "shell.execute_reply": "2020-11-12T06:17:20.656952Z"
    },
    "id": "6uHuU9Cd3PTo"
   },
   "outputs": [],
   "source": [
    "history = compile_and_fit(dense, single_step_window)\n",
    "\n",
    "IPython.display.clear_output()\n",
    "val_performance['Dense'] = dense.evaluate(single_step_window.val)\n",
    "performance['Dense'] = dense.evaluate(single_step_window.test, verbose=0)"
   ]
  },
  {
   "cell_type": "markdown",
   "metadata": {
    "id": "dsc9pur_mHsx"
   },
   "source": [
    "#### RNN\n"
   ]
  },
  {
   "cell_type": "code",
   "execution_count": null,
   "metadata": {
    "execution": {
     "iopub.execute_input": "2020-11-12T06:17:20.669001Z",
     "iopub.status.busy": "2020-11-12T06:17:20.668389Z",
     "iopub.status.idle": "2020-11-12T06:18:55.768241Z",
     "shell.execute_reply": "2020-11-12T06:18:55.767739Z"
    },
    "id": "4QbGLMyomXaz"
   },
   "outputs": [],
   "source": [
    "%%time\n",
    "wide_window = WindowGenerator(\n",
    "    input_width=8, label_width=8, shift=1)\n",
    "\n",
    "lstm_model = tf.keras.models.Sequential([\n",
    "    # Shape [batch, time, features] => [batch, time, lstm_units]\n",
    "    tf.keras.layers.LSTM(16, return_sequences=True),\n",
    "    # Shape => [batch, time, features]\n",
    "    tf.keras.layers.Dense(units=num_features)\n",
    "])\n",
    "\n",
    "history = compile_and_fit(lstm_model, wide_window)\n",
    "\n",
    "IPython.display.clear_output()\n",
    "val_performance['LSTM'] = lstm_model.evaluate( wide_window.val)\n",
    "performance['LSTM'] = lstm_model.evaluate( wide_window.test, verbose=0)\n",
    "\n",
    "print()"
   ]
  },
  {
   "cell_type": "markdown",
   "metadata": {
    "id": "UwhY2f_Nn0_K"
   },
   "source": [
    "<a id=\"residual\"></a>\n",
    "\n",
    "#### 고급: 잔여 연결\n",
    "\n",
    "이전의 `Baseline` 모델은 시퀀스가 타임스텝 사이에서 크게 변하지 않는다는 사실을 이용했습니다. 지금까지 이 튜토리얼에서 훈련한 모든 모델은 무작위로 초기화된 다음, 출력이 이전 타임스텝에서 약간 변경된다는 사실을 학습해야 했습니다.\n",
    "\n",
    "신중한 초기화로 이 문제를 해결할 수 있지만 모델 구조로 빌드하는 것이 더 간단합니다.\n",
    "\n",
    "시계열 분석에서는 다음 값을 예측하는 대신 다음 타임스텝에서 값이 어떻게 달라지는 지를 예측하는 모델을 빌드하는 것이 일반적입니다. 마찬가지로 딥러닝에서 \"잔여 네트워크(Residual networks)\" 또는 \"ResNets\"는 각 레이어가 모델의 누적 결과에 추가되는 아키텍처를 나타냅니다.\n",
    "\n",
    "이것은 변화가 작아야 한다는 사실을 이용하는 방법입니다.\n",
    "\n",
    "![A model with a residual connection](https://www.tensorflow.org/tutorials/structured_data/images/residual.png)\n",
    "\n",
    "기본적으로, `Baseline`과 일치하도록 모델을 초기화합니다. 그러면 이 작업에서 약간 더 나은 성능으로 모델이 더 빨리 수렴하는 데 도움이 됩니다."
   ]
  },
  {
   "cell_type": "markdown",
   "metadata": {
    "id": "yP58A_ORx0kM"
   },
   "source": [
    "이 접근 방식은 이 튜토리얼에서 설명하는 모든 모델과 연계하여 사용할 수 있습니다.\n",
    "\n",
    "여기서는 LSTM 모델에 적용합니다. `tf.initializers.zeros`를 사용하여 초기 예측하는 변경이 작고 잔류 연결을 억제하지 않도록 한다는 점에 주목하세요. `zeros`가 마지막 레이어에서만 사용되기 때문에 여기에서 그래디언트에 대한 대칭성이 깨질 우려는 없습니다."
   ]
  },
  {
   "cell_type": "code",
   "execution_count": null,
   "metadata": {
    "execution": {
     "iopub.execute_input": "2020-11-12T06:18:55.773883Z",
     "iopub.status.busy": "2020-11-12T06:18:55.773258Z",
     "iopub.status.idle": "2020-11-12T06:18:55.775051Z",
     "shell.execute_reply": "2020-11-12T06:18:55.775469Z"
    },
    "id": "7YlfnDQC22TQ"
   },
   "outputs": [],
   "source": [
    "class ResidualWrapper(tf.keras.Model):\n",
    "  def __init__(self, model):\n",
    "    super().__init__()\n",
    "    self.model = model\n",
    "\n",
    "  def call(self, inputs, *args, **kwargs):\n",
    "    delta = self.model(inputs, *args, **kwargs)\n",
    "\n",
    "    # The prediction for each timestep is the input\n",
    "    # from the previous time step plus the delta\n",
    "    # calculated by the model.\n",
    "    return inputs + delta"
   ]
  },
  {
   "cell_type": "code",
   "execution_count": null,
   "metadata": {
    "execution": {
     "iopub.execute_input": "2020-11-12T06:18:55.787611Z",
     "iopub.status.busy": "2020-11-12T06:18:55.787032Z",
     "iopub.status.idle": "2020-11-12T06:19:48.628980Z",
     "shell.execute_reply": "2020-11-12T06:19:48.628388Z"
    },
    "id": "NNeH02pspc9B"
   },
   "outputs": [],
   "source": [
    "%%time\n",
    "residual_lstm = ResidualWrapper(\n",
    "    tf.keras.Sequential([\n",
    "    tf.keras.layers.LSTM(16, return_sequences=True),\n",
    "    tf.keras.layers.Dense(\n",
    "        num_features,\n",
    "        # The predicted deltas should start small\n",
    "        # So initialize the output layer with zeros\n",
    "        kernel_initializer=tf.initializers.zeros)\n",
    "]))\n",
    "\n",
    "history = compile_and_fit(residual_lstm, wide_window)\n",
    "\n",
    "IPython.display.clear_output()\n",
    "val_performance['Residual LSTM'] = residual_lstm.evaluate(wide_window.val)\n",
    "performance['Residual LSTM'] = residual_lstm.evaluate(wide_window.test, verbose=0)\n",
    "print()"
   ]
  },
  {
   "cell_type": "markdown",
   "metadata": {
    "id": "I42Er9Du6co1"
   },
   "source": [
    "#### 성능"
   ]
  },
  {
   "cell_type": "markdown",
   "metadata": {
    "id": "LZxR38P_6pUi"
   },
   "source": [
    "다음은 이러한 다중 출력 모델의 전반적인 성능입니다."
   ]
  },
  {
   "cell_type": "code",
   "execution_count": null,
   "metadata": {
    "execution": {
     "iopub.execute_input": "2020-11-12T06:19:48.648881Z",
     "iopub.status.busy": "2020-11-12T06:19:48.641987Z",
     "iopub.status.idle": "2020-11-12T06:19:48.784523Z",
     "shell.execute_reply": "2020-11-12T06:19:48.783919Z"
    },
    "id": "6XgTK9tnr7rc"
   },
   "outputs": [],
   "source": [
    "x = np.arange(len(performance))\n",
    "width = 0.3\n",
    "\n",
    "metric_name = 'mean_absolute_error'\n",
    "metric_index = lstm_model.metrics_names.index('mean_absolute_error')\n",
    "val_mae = [v[metric_index] for v in val_performance.values()]\n",
    "test_mae = [v[metric_index] for v in performance.values()]\n",
    "\n",
    "plt.bar(x - 0.17, val_mae, width, label='Validation')\n",
    "plt.bar(x + 0.17, test_mae, width, label='Test')\n",
    "plt.xticks(ticks=x, labels=performance.keys(),\n",
    "           rotation=45)\n",
    "plt.ylabel('MAE (average over all outputs)')\n",
    "_ = plt.legend()"
   ]
  },
  {
   "cell_type": "code",
   "execution_count": null,
   "metadata": {
    "execution": {
     "iopub.execute_input": "2020-11-12T06:19:48.788906Z",
     "iopub.status.busy": "2020-11-12T06:19:48.788226Z",
     "iopub.status.idle": "2020-11-12T06:19:48.791204Z",
     "shell.execute_reply": "2020-11-12T06:19:48.790722Z"
    },
    "id": "URz3ajCc6kBj"
   },
   "outputs": [],
   "source": [
    "for name, value in performance.items():\n",
    "  print(f'{name:15s}: {value[1]:0.4f}')"
   ]
  },
  {
   "cell_type": "markdown",
   "metadata": {
    "id": "_Vt2MJhNxwPU"
   },
   "source": [
    "위의 성능은 모든 모델 출력에 대한 평균입니다."
   ]
  },
  {
   "cell_type": "markdown",
   "metadata": {
    "id": "eYokb7Om2YbK"
   },
   "source": [
    "## 다중 스텝 모델\n",
    "\n",
    "이전 섹션의 단일 출력 및 다중 출력 모델은 모두 미래 1시간의 **단일 타임스텝 예측**을 수행했습니다.\n",
    "\n",
    "이 섹션에서는 이러한 모델을 확장하여 **다중 타임스텝 예측**을 수행하는 방법을 살펴봅니다.\n",
    "\n",
    "다중 스텝 예측에서 모델은 일정 범위의 미래 값을 예측하는 방법을 학습해야 합니다. 따라서 한 미래 시점만 예측하는 단일 스텝 모델과 달리 다중 스텝 모델은 미래 값의 시퀀스를 예측합니다.\n",
    "\n",
    "대략적으로 두 가지 접근 방식이 있습니다.\n",
    "\n",
    "1. 전체 시계열이 한 번에 예측되는 싱글샷 예측\n",
    "2. 모델이 단일 스텝 예측만 수행하고 출력이 입력으로 피드백되는 자기 회귀적 예측\n",
    "\n",
    "이 섹션에서는 모든 모델이 **모든 출력 타임스텝에 걸쳐 모든 특성**을 예측합니다.\n"
   ]
  },
  {
   "cell_type": "markdown",
   "metadata": {
    "id": "WFsDAwVt4_rq"
   },
   "source": [
    "다중 스텝 모델의 경우, 훈련 데이터는 다시 시간별 샘플로 구성됩니다. 그러나 여기에서 모델은 과거의 24시간을 고려하여 미래 24시간을 예측하는 방법을 학습합니다.\n",
    "\n",
    "다음은 데이터세트로부터 이러한 조각을 생성하는 `Window` 객체입니다."
   ]
  },
  {
   "cell_type": "code",
   "execution_count": null,
   "metadata": {
    "execution": {
     "iopub.execute_input": "2020-11-12T06:19:48.795910Z",
     "iopub.status.busy": "2020-11-12T06:19:48.795210Z",
     "iopub.status.idle": "2020-11-12T06:19:49.194061Z",
     "shell.execute_reply": "2020-11-12T06:19:49.194481Z"
    },
    "id": "1cFYtsz6XiGw"
   },
   "outputs": [],
   "source": [
    "OUT_STEPS = 16\n",
    "multi_window = WindowGenerator(input_width=16,\n",
    "                               label_width=OUT_STEPS,\n",
    "                               shift=OUT_STEPS)\n",
    "\n",
    "multi_window.plot()\n",
    "multi_window"
   ]
  },
  {
   "cell_type": "markdown",
   "metadata": {
    "id": "5lg8SInh9Jzd"
   },
   "source": [
    "### 기준"
   ]
  },
  {
   "cell_type": "markdown",
   "metadata": {
    "id": "axwpoWYOApJL"
   },
   "source": [
    "이 작업의 간단한 기준은 필요한 출력 타임스텝 수에 대해 마지막 입력 타임스텝을 반복하는 것입니다.\n",
    "\n",
    "![Repeat the last input, for each output step](https://www.tensorflow.org/tutorials/structured_data/images/multistep_last.png)"
   ]
  },
  {
   "cell_type": "code",
   "execution_count": null,
   "metadata": {
    "execution": {
     "iopub.execute_input": "2020-11-12T06:19:49.202982Z",
     "iopub.status.busy": "2020-11-12T06:19:49.202282Z",
     "iopub.status.idle": "2020-11-12T06:19:51.639912Z",
     "shell.execute_reply": "2020-11-12T06:19:51.640366Z"
    },
    "id": "_5iaHSaJ9Rxv"
   },
   "outputs": [],
   "source": [
    "class MultiStepLastBaseline(tf.keras.Model):\n",
    "  def call(self, inputs):\n",
    "    return tf.tile(inputs[:, -1:, :], [1, OUT_STEPS, 1])\n",
    "\n",
    "last_baseline = MultiStepLastBaseline()\n",
    "last_baseline.compile(loss=tf.losses.MeanSquaredError(),\n",
    "                      metrics=[tf.metrics.MeanAbsoluteError()])\n",
    "\n",
    "multi_val_performance = {}\n",
    "multi_performance = {}\n",
    "\n",
    "multi_val_performance['Last'] = last_baseline.evaluate(multi_window.val)\n",
    "multi_performance['Last'] = last_baseline.evaluate(multi_window.val, verbose=0)\n",
    "multi_window.plot(last_baseline)"
   ]
  },
  {
   "cell_type": "markdown",
   "metadata": {
    "id": "AvHZ93ObAfMA"
   },
   "source": [
    "이 작업은 24시간이 주어졌을 때 24시간을 예측하는 것이므로 또 다른 간단한 접근 방법은 내일도 비슷하다는 가정 하에 전날을 반복하는 것입니다.\n",
    "\n",
    "![Repeat the previous day](https://www.tensorflow.org/tutorials/structured_data/images/multistep_repeat.png)"
   ]
  },
  {
   "cell_type": "code",
   "execution_count": null,
   "metadata": {
    "execution": {
     "iopub.execute_input": "2020-11-12T06:19:51.648721Z",
     "iopub.status.busy": "2020-11-12T06:19:51.647655Z",
     "iopub.status.idle": "2020-11-12T06:19:53.458613Z",
     "shell.execute_reply": "2020-11-12T06:19:53.459038Z"
    },
    "id": "L8Y1uMhGwIRs"
   },
   "outputs": [],
   "source": [
    "class RepeatBaseline(tf.keras.Model):\n",
    "  def call(self, inputs):\n",
    "    return inputs\n",
    "\n",
    "repeat_baseline = RepeatBaseline()\n",
    "repeat_baseline.compile(loss=tf.losses.MeanSquaredError(),\n",
    "                        metrics=[tf.metrics.MeanAbsoluteError()])\n",
    "\n",
    "multi_val_performance['Repeat'] = repeat_baseline.evaluate(multi_window.val)\n",
    "multi_performance['Repeat'] = repeat_baseline.evaluate(multi_window.test, verbose=0)\n",
    "multi_window.plot(repeat_baseline)"
   ]
  },
  {
   "cell_type": "markdown",
   "metadata": {
    "id": "tbndS-ct9C2Q"
   },
   "source": [
    "### 싱글샷 모델\n",
    "\n",
    "이 문제에 대한 한 가지 높은 수준의 접근 방법은 모델이 한 번에 전체 시퀀스 예측을 수행하는 \"싱글샷\" 모델을 사용하는 것입니다.\n",
    "\n",
    "이 모델은 `OUT_STEPS*features` 출력 단위를 이용해 `layers.Dense`로 효율적으로 구현할 수 있습니다. 이 모델은 이 출력의 형상을 필요한 `(OUTPUT_STEPS, features)`로 바꾸기만 하면 됩니다."
   ]
  },
  {
   "cell_type": "markdown",
   "metadata": {
    "id": "NCKS4m1VKrDQ"
   },
   "source": [
    "#### 선형\n",
    "\n",
    "마지막 입력 타임스텝을 기반으로 하는 단순한 선형 모델은 기준 모델보다 성능이 더 좋지만 강력하지 못합니다. 이 모델은 선형 프로젝션을 이용해 단일 입력 타임스텝으로부터 `OUTPUT_STEPS` 타임스텝을 예측해야 합니다. 주로 하루 중 시간과 연중 시간을 기반으로 하는 행동의 저차원 조각만 캡처할 수 있습니다.\n",
    "\n",
    "![Predct all timesteps from the last time-step](https://www.tensorflow.org/tutorials/structured_data/images/multistep_dense.png)"
   ]
  },
  {
   "cell_type": "code",
   "execution_count": null,
   "metadata": {
    "execution": {
     "iopub.execute_input": "2020-11-12T06:19:53.468265Z",
     "iopub.status.busy": "2020-11-12T06:19:53.467506Z",
     "iopub.status.idle": "2020-11-12T06:20:37.947202Z",
     "shell.execute_reply": "2020-11-12T06:20:37.947597Z"
    },
    "id": "kfRz_WVhIQcd"
   },
   "outputs": [],
   "source": [
    "multi_linear_model = tf.keras.Sequential([\n",
    "    # Take the last time-step.\n",
    "    # Shape [batch, time, features] => [batch, 1, features]\n",
    "    tf.keras.layers.Lambda(lambda x: x[:, -1:, :]),\n",
    "    # Shape => [batch, 1, out_steps*features]\n",
    "    tf.keras.layers.Dense(OUT_STEPS*num_features,\n",
    "                          kernel_initializer=tf.initializers.zeros),\n",
    "    # Shape => [batch, out_steps, features]\n",
    "    tf.keras.layers.Reshape([OUT_STEPS, num_features])\n",
    "])\n",
    "\n",
    "history = compile_and_fit(multi_linear_model, multi_window)\n",
    "\n",
    "IPython.display.clear_output()\n",
    "multi_val_performance['Linear'] = multi_linear_model.evaluate(multi_window.val)\n",
    "multi_performance['Linear'] = multi_linear_model.evaluate(multi_window.test, verbose=0)\n",
    "multi_window.plot(multi_linear_model)"
   ]
  },
  {
   "cell_type": "code",
   "execution_count": null,
   "outputs": [],
   "source": [
    "XX = [0 ,1 ,2,3,4,5,6,7]\n",
    "XX[-1:]\n",
    "(lambda xy : XX[-1] ) (XX)"
   ],
   "metadata": {
    "collapsed": false,
    "pycharm": {
     "name": "#%%\n"
    }
   }
  },
  {
   "cell_type": "markdown",
   "metadata": {
    "id": "zi2TMHk2IRrh"
   },
   "source": [
    "#### 밀집\n",
    "\n",
    "입력과 출력 사이에 `layers.Dense`를 추가하면 선현 모델이 더 강력해지지만 여전히 단일 입력에 기반합니다."
   ]
  },
  {
   "cell_type": "code",
   "execution_count": null,
   "metadata": {
    "execution": {
     "iopub.execute_input": "2020-11-12T06:20:37.957479Z",
     "iopub.status.busy": "2020-11-12T06:20:37.955859Z",
     "iopub.status.idle": "2020-11-12T06:21:35.163911Z",
     "shell.execute_reply": "2020-11-12T06:21:35.164348Z"
    },
    "id": "jezm-BKaGj91"
   },
   "outputs": [],
   "source": [
    "multi_dense_model = tf.keras.Sequential([\n",
    "    # Take the last time step.\n",
    "    # Shape [batch, time, features] => [batch, 1, features]\n",
    "    tf.keras.layers.Lambda(lambda x: x[:, -1:, :]),\n",
    "    # Shape => [batch, 1, dense_units]\n",
    "    tf.keras.layers.Dense(512, activation='relu'),\n",
    "    # Shape => [batch, out_steps*features]\n",
    "    tf.keras.layers.Dense(OUT_STEPS*num_features,\n",
    "                          kernel_initializer=tf.initializers.zeros),\n",
    "    # Shape => [batch, out_steps, features]\n",
    "    tf.keras.layers.Reshape([OUT_STEPS, num_features])\n",
    "])\n",
    "\n",
    "history = compile_and_fit(multi_dense_model, multi_window)\n",
    "\n",
    "IPython.display.clear_output()\n",
    "multi_val_performance['Dense'] = multi_dense_model.evaluate(multi_window.val)\n",
    "multi_performance['Dense'] = multi_dense_model.evaluate(multi_window.test, verbose=0)\n",
    "multi_window.plot(multi_dense_model)"
   ]
  },
  {
   "cell_type": "markdown",
   "metadata": {
    "id": "icsBAjCzMaMl"
   },
   "source": [
    "#### CNN"
   ]
  },
  {
   "cell_type": "markdown",
   "metadata": {
    "id": "34lCZrWYNBwd"
   },
   "source": [
    "컨볼루션 모델은 고정 너비 기록을 기반으로 예측을 수행하므로 시간에 따라 상황이 어떻게 변하는지 볼 수 있어 밀집 모델보다 성능을 높일 수 있습니다.\n",
    "\n",
    "![A convolutional model sees how things change over time](https://www.tensorflow.org/tutorials/structured_data/images/multistep_conv.png)"
   ]
  },
  {
   "cell_type": "code",
   "execution_count": null,
   "metadata": {
    "execution": {
     "iopub.execute_input": "2020-11-12T06:21:35.177749Z",
     "iopub.status.busy": "2020-11-12T06:21:35.176526Z",
     "iopub.status.idle": "2020-11-12T06:22:20.774608Z",
     "shell.execute_reply": "2020-11-12T06:22:20.775065Z"
    },
    "id": "0xJoIP6PMWMI"
   },
   "outputs": [],
   "source": [
    "CONV_WIDTH = 3\n",
    "multi_conv_model = tf.keras.Sequential([\n",
    "    # Shape [batch, time, features] => [batch, CONV_WIDTH, features]\n",
    "    tf.keras.layers.Lambda(lambda x: x[:, -CONV_WIDTH:, :]),\n",
    "    # Shape => [batch, 1, conv_units]\n",
    "    tf.keras.layers.Conv1D(256, activation='relu', kernel_size=(CONV_WIDTH)),\n",
    "    # Shape => [batch, 1,  out_steps*features]\n",
    "    tf.keras.layers.Dense(OUT_STEPS*num_features,\n",
    "                          kernel_initializer=tf.initializers.zeros),\n",
    "    # Shape => [batch, out_steps, features]\n",
    "    tf.keras.layers.Reshape([OUT_STEPS, num_features])\n",
    "])\n",
    "\n",
    "history = compile_and_fit(multi_conv_model, multi_window)\n",
    "\n",
    "IPython.display.clear_output()\n",
    "\n",
    "multi_val_performance['Conv'] = multi_conv_model.evaluate(multi_window.val)\n",
    "multi_performance['Conv'] = multi_conv_model.evaluate(multi_window.test, verbose=0)\n",
    "multi_window.plot(multi_conv_model)"
   ]
  },
  {
   "cell_type": "markdown",
   "metadata": {
    "id": "weBjeZAFJOP4"
   },
   "source": [
    "#### RNN"
   ]
  },
  {
   "cell_type": "markdown",
   "metadata": {
    "id": "8022xOKxOO92"
   },
   "source": [
    "반복 모델은 모델이 수행하는 예측과 관련이 있는 경우 긴 입력 기록을 사용하는 방법을 학습할 수 있습니다. 여기서 모델은 다음 24시간에 대한 단일 예측을 수행하기 전에 24시간 동안 내부 상태를 축적합니다.\n",
    "\n",
    "이 싱글샷 형식에서 LSTM은 마지막 타임스텝에서만 출력을 생성하면 되므로 `return_sequences=False`를 설정합니다.\n",
    "\n",
    "![The lstm accumulates state over the input window, and makes a single prediction for the next 24h](https://www.tensorflow.org/tutorials/structured_data/images/multistep_lstm.png)\n"
   ]
  },
  {
   "cell_type": "code",
   "execution_count": null,
   "metadata": {
    "execution": {
     "iopub.execute_input": "2020-11-12T06:22:20.787135Z",
     "iopub.status.busy": "2020-11-12T06:22:20.786450Z",
     "iopub.status.idle": "2020-11-12T06:23:25.317858Z",
     "shell.execute_reply": "2020-11-12T06:23:25.318346Z"
    },
    "id": "Bf1ks6RTzF64"
   },
   "outputs": [],
   "source": [
    "multi_lstm_model = tf.keras.Sequential([\n",
    "    # Shape [batch, time, features] => [batch, lstm_units]\n",
    "    # Adding more `lstm_units` just overfits more quickly.\n",
    "    tf.keras.layers.LSTM(32, return_sequences=False),\n",
    "    # Shape => [batch, out_steps*features]\n",
    "    tf.keras.layers.Dense(OUT_STEPS*num_features,\n",
    "                          kernel_initializer=tf.initializers.zeros),\n",
    "    # Shape => [batch, out_steps, features]\n",
    "    tf.keras.layers.Reshape([OUT_STEPS, num_features])\n",
    "])\n",
    "\n",
    "history = compile_and_fit(multi_lstm_model, multi_window)\n",
    "\n",
    "IPython.display.clear_output()\n",
    "\n",
    "multi_val_performance['LSTM'] = multi_lstm_model.evaluate(multi_window.val)\n",
    "multi_performance['LSTM'] = multi_lstm_model.evaluate(multi_window.test, verbose=0)\n",
    "multi_window.plot(multi_lstm_model)"
   ]
  },
  {
   "cell_type": "markdown",
   "metadata": {
    "id": "d5n-1cDW12Vo"
   },
   "source": [
    "### 고급: 자기 회귀 모델\n",
    "\n",
    "위의 모델은 모두 한 번에 전체 출력 시퀀스를 예측합니다.\n",
    "\n",
    "경우에 따라 모델이 이 예측을 여러 타임스텝으로 분해하는 것이 도움이 될 수 있습니다. 그러면 이전의 [RNN(Recurrent Neural Networks)을 이용한 시퀀스 생성](https://arxiv.org/abs/1308.0850)에서와 같이 각 모델의 출력을 각 스텝에서 자체 피드백할 수 있어 이전 예측을 조건부로 예측을 수행할 수 있습니다.\n",
    "\n",
    "이 형태의 모델이 갖는 한 가지 분명한 장점은 다양한 길이의 출력을 생성하도록 설정할 수 있다는 것입니다.\n",
    "\n",
    "이 튜토리얼의 전반부에서 훈련한 단일 스텝 다중 출력 모델 중 하나를 가져와 자기 회귀 피드백 루프에서 실행할 수 있지만 여기서는 이를 수행하도록 명시적으로 훈련된 모델을 빌드하는 데 중점을 둘 것입니다.\n",
    "\n",
    "![Feedback a model's output to its input](https://www.tensorflow.org/tutorials/structured_data/images/multistep_autoregressive.png)\n"
   ]
  },
  {
   "cell_type": "markdown",
   "metadata": {
    "id": "PKRreBbULRXY"
   },
   "source": [
    "#### RNN\n",
    "\n",
    "이 튜토리얼에서는 자기 회귀 RNN 모델만 빌드하지만 이 패턴은 단일 타임스텝을 출력하도록 설계된 모든 모델에 적용할 수 있습니다.\n",
    "\n",
    "이 모델은 단일 스텝 `LSTM` 모델과 기본 형태가 동일하여 `LSTM` 다음에 `LSTM` 출력을 모델 예측으로 변환하는 `layers.Dense`가 이어집니다.\n",
    "\n",
    "`layers.LSTM`은 상태와 시퀀스 결과를 자동으로 관리하는 더 높은 수준의 `layers.RNN`에서 래핑된 `layers.LSTMCell`입니다(자세한 내용은 [Keras RNN](https://www.tensorflow.org/guide/keras/rnn) 참조).\n",
    "\n",
    "이 경우 모델은 각 스텝에 대한 입력을 수동으로 관리해야 하므로 더 낮은 수준의 단일 타임스텝 인터페이스에 대해 `layers.LSTMCell`를 직접 사용합니다."
   ]
  },
  {
   "cell_type": "code",
   "execution_count": null,
   "metadata": {
    "execution": {
     "iopub.execute_input": "2020-11-12T06:23:25.324361Z",
     "iopub.status.busy": "2020-11-12T06:23:25.323778Z",
     "iopub.status.idle": "2020-11-12T06:23:25.325821Z",
     "shell.execute_reply": "2020-11-12T06:23:25.325402Z"
    },
    "id": "s5tz3Nu0R5JG"
   },
   "outputs": [],
   "source": [
    "class FeedBack(tf.keras.Model):\n",
    "  def __init__(self, units, out_steps):\n",
    "    super().__init__()\n",
    "    self.out_steps = out_steps\n",
    "    self.units = units\n",
    "    self.lstm_cell = tf.keras.layers.LSTMCell(units)\n",
    "    # Also wrap the LSTMCell in an RNN to simplify the `warmup` method.\n",
    "    self.lstm_rnn = tf.keras.layers.RNN(self.lstm_cell, return_state=True)\n",
    "    self.dense = tf.keras.layers.Dense(num_features)"
   ]
  },
  {
   "cell_type": "code",
   "execution_count": null,
   "metadata": {
    "execution": {
     "iopub.execute_input": "2020-11-12T06:23:25.331360Z",
     "iopub.status.busy": "2020-11-12T06:23:25.330741Z",
     "iopub.status.idle": "2020-11-12T06:23:25.342338Z",
     "shell.execute_reply": "2020-11-12T06:23:25.341873Z"
    },
    "id": "2OXVM9G1U7xR"
   },
   "outputs": [],
   "source": [
    "feedback_model = FeedBack(units=32, out_steps=OUT_STEPS)"
   ]
  },
  {
   "cell_type": "markdown",
   "metadata": {
    "id": "ph5uFSfTUNho"
   },
   "source": [
    "이 모델에 필요한 첫 번째 메서드는 입력을 기반으로 내부 상태를 초기화하는 `warmup` 메서드입니다. 일단 훈련되면 이 상태는 입력 기록의 관련 부분을 캡처합니다. 이는 앞서 알아본 단일 스텝 `LSTM` 모델과 동일합니다."
   ]
  },
  {
   "cell_type": "code",
   "execution_count": null,
   "metadata": {
    "execution": {
     "iopub.execute_input": "2020-11-12T06:23:25.346690Z",
     "iopub.status.busy": "2020-11-12T06:23:25.346113Z",
     "iopub.status.idle": "2020-11-12T06:23:25.347767Z",
     "shell.execute_reply": "2020-11-12T06:23:25.348185Z"
    },
    "id": "vM2K_LLdRjDZ"
   },
   "outputs": [],
   "source": [
    "def warmup(self, inputs):\n",
    "  # inputs.shape => (batch, time, features)\n",
    "  # x.shape => (batch, lstm_units)\n",
    "  x, *state = self.lstm_rnn(inputs)\n",
    "\n",
    "  # predictions.shape => (batch, features)\n",
    "  prediction = self.dense(x)\n",
    "  return prediction, state\n",
    "\n",
    "FeedBack.warmup = warmup"
   ]
  },
  {
   "cell_type": "markdown",
   "metadata": {
    "id": "6JkaSYaZ9eB7"
   },
   "source": [
    "이 메서드는 단일 타임스텝 예측과 LSTM의 내부 상태를 반환합니다."
   ]
  },
  {
   "cell_type": "code",
   "execution_count": null,
   "metadata": {
    "execution": {
     "iopub.execute_input": "2020-11-12T06:23:25.352527Z",
     "iopub.status.busy": "2020-11-12T06:23:25.351909Z",
     "iopub.status.idle": "2020-11-12T06:23:25.385112Z",
     "shell.execute_reply": "2020-11-12T06:23:25.384684Z"
    },
    "id": "w9Fz6NTKXXwU"
   },
   "outputs": [],
   "source": [
    "prediction, state = feedback_model.warmup(multi_window.example[0])\n",
    "prediction.shape"
   ]
  },
  {
   "cell_type": "markdown",
   "metadata": {
    "id": "S_ZdvPjdX3y3"
   },
   "source": [
    "`RNN`의 상태 및 초기 예측을 사용하여 이제 이전의 각 스텝에서 수행한 예측을 입력으로 제공하여 모델을 계속 반복할 수 있습니다.\n",
    "\n",
    "출력 예측을 수집하는 가장 간단한 방법은 Python 목록을 사용하고 루프 후에 `tf.stack`을 사용하는 것입니다."
   ]
  },
  {
   "cell_type": "markdown",
   "metadata": {
    "id": "yotTad3nZXQU"
   },
   "source": [
    "참고: 이와 같이 Python 목록을 쌓는 것은 훈련을 위해 `Model.compile(..., run_eagerly=True)`를 사용하거나 고정 길이의 출력을 통해 즉시 실행하는 경우에만 효과가 있습니다. 동적 출력 길이의 경우 Python 목록 대신 `tf.TensorArray`를 사용하고 Python `range` 대신 `tf.range`를 사용해야 합니다."
   ]
  },
  {
   "cell_type": "code",
   "execution_count": null,
   "metadata": {
    "execution": {
     "iopub.execute_input": "2020-11-12T06:23:25.391224Z",
     "iopub.status.busy": "2020-11-12T06:23:25.390571Z",
     "iopub.status.idle": "2020-11-12T06:23:25.392282Z",
     "shell.execute_reply": "2020-11-12T06:23:25.392674Z"
    },
    "id": "g1GRDu3mZtr9"
   },
   "outputs": [],
   "source": [
    "def call(self, inputs, training=None):\n",
    "  # Use a TensorArray to capture dynamically unrolled outputs.\n",
    "  predictions = []\n",
    "  # Initialize the lstm state\n",
    "  prediction, state = self.warmup(inputs)\n",
    "\n",
    "  # Insert the first prediction\n",
    "  predictions.append(prediction)\n",
    "\n",
    "  # Run the rest of the prediction steps\n",
    "  for n in range(1, self.out_steps):\n",
    "    # Use the last prediction as input.\n",
    "    x = prediction\n",
    "    # Execute one lstm step.\n",
    "    x, state = self.lstm_cell(x, states=state,\n",
    "                              training=training)\n",
    "    # Convert the lstm output to a prediction.\n",
    "    prediction = self.dense(x)\n",
    "    # Add the prediction to the output\n",
    "    predictions.append(prediction)\n",
    "\n",
    "  # predictions.shape => (time, batch, features)\n",
    "  predictions = tf.stack(predictions)\n",
    "  # predictions.shape => (batch, time, features)\n",
    "  predictions = tf.transpose(predictions, [1, 0, 2])\n",
    "  return predictions\n",
    "\n",
    "FeedBack.call = call"
   ]
  },
  {
   "cell_type": "markdown",
   "metadata": {
    "id": "Ubop-YWp15XW"
   },
   "source": [
    "예제 입력에서 이 모델을 테스트 실행합니다."
   ]
  },
  {
   "cell_type": "code",
   "execution_count": null,
   "metadata": {
    "execution": {
     "iopub.execute_input": "2020-11-12T06:23:25.396790Z",
     "iopub.status.busy": "2020-11-12T06:23:25.396206Z",
     "iopub.status.idle": "2020-11-12T06:23:25.433236Z",
     "shell.execute_reply": "2020-11-12T06:23:25.433691Z"
    },
    "id": "Xja83zEYaM2D"
   },
   "outputs": [],
   "source": [
    "print('Output shape (batch, time, features): ', feedback_model(multi_window.example[0]).shape)"
   ]
  },
  {
   "cell_type": "markdown",
   "metadata": {
    "id": "qMs0rYB8be9M"
   },
   "source": [
    "이제 모델을 훈련합니다."
   ]
  },
  {
   "cell_type": "code",
   "execution_count": null,
   "metadata": {
    "execution": {
     "iopub.execute_input": "2020-11-12T06:23:25.442814Z",
     "iopub.status.busy": "2020-11-12T06:23:25.442213Z",
     "iopub.status.idle": "2020-11-12T06:28:25.069704Z",
     "shell.execute_reply": "2020-11-12T06:28:25.070181Z"
    },
    "id": "VBRVG2hnNyrO"
   },
   "outputs": [],
   "source": [
    "history = compile_and_fit(feedback_model, multi_window)\n",
    "\n",
    "IPython.display.clear_output()\n",
    "\n",
    "multi_val_performance['AR LSTM'] = feedback_model.evaluate(multi_window.val)\n",
    "multi_performance['AR LSTM'] = feedback_model.evaluate(multi_window.test, verbose=0)\n",
    "multi_window.plot(feedback_model)"
   ]
  },
  {
   "cell_type": "markdown",
   "metadata": {
    "id": "hGjcJsAQJUkI"
   },
   "source": [
    "### 성능"
   ]
  },
  {
   "cell_type": "markdown",
   "metadata": {
    "id": "sODAwr2ndtDB"
   },
   "source": [
    "이 문제에 대해 모델 복잡성이 증가함에 따라 분명히 이득이 감소합니다."
   ]
  },
  {
   "cell_type": "code",
   "execution_count": null,
   "metadata": {
    "execution": {
     "iopub.execute_input": "2020-11-12T06:28:25.089388Z",
     "iopub.status.busy": "2020-11-12T06:28:25.088746Z",
     "iopub.status.idle": "2020-11-12T06:28:25.231991Z",
     "shell.execute_reply": "2020-11-12T06:28:25.232558Z"
    },
    "id": "WZwWBA8S6B3L"
   },
   "outputs": [],
   "source": [
    "x = np.arange(len(multi_performance))\n",
    "width = 0.3\n",
    "\n",
    "\n",
    "metric_name = 'mean_absolute_error'\n",
    "metric_index = lstm_model.metrics_names.index('mean_absolute_error')\n",
    "val_mae = [v[metric_index] for v in multi_val_performance.values()]\n",
    "test_mae = [v[metric_index] for v in multi_performance.values()]\n",
    "\n",
    "plt.bar(x - 0.17, val_mae, width, label='Validation')\n",
    "plt.bar(x + 0.17, test_mae, width, label='Test')\n",
    "plt.xticks(ticks=x, labels=multi_performance.keys(),\n",
    "           rotation=45)\n",
    "plt.ylabel(f'MAE (average over all times and outputs)')\n",
    "_ = plt.legend()"
   ]
  },
  {
   "cell_type": "markdown",
   "metadata": {
    "id": "Zq3hUsedCEmJ"
   },
   "source": [
    "이 튜토리얼의 전반부에서 소개한 다중 출력 모델에 대한 메트릭은 모든 출력 특성에 평균화된 성능을 보여줍니다. 이러한 성능은 유사하지만 출력 타임스텝에서도 평균화됩니다. "
   ]
  },
  {
   "cell_type": "code",
   "execution_count": null,
   "metadata": {
    "execution": {
     "iopub.execute_input": "2020-11-12T06:28:25.237717Z",
     "iopub.status.busy": "2020-11-12T06:28:25.236947Z",
     "iopub.status.idle": "2020-11-12T06:28:25.240245Z",
     "shell.execute_reply": "2020-11-12T06:28:25.239641Z"
    },
    "id": "jKq3eAIvH4Db"
   },
   "outputs": [],
   "source": [
    "for name, value in multi_performance.items():\n",
    "  print(f'{name:8s}: {value[1]:0.4f}')"
   ]
  },
  {
   "cell_type": "markdown",
   "metadata": {
    "id": "MpBFwfnaHP23"
   },
   "source": [
    "밀집 모델에서 컨볼루션 및 반복 모델로 이동하여 얻은 이득은 몇 퍼센트(있다고 하더라도)에 불과하며 자기 회귀 모델의 성능은 분명히 더 나빴습니다. 따라서 이러한 더 복잡한 접근 방법은 **이** 문제에서는 가치가 없을 수도 있지만 시도해 보기 전에는 알 수 있는 방법이 없었으며 이러한 모델은 **다른 특정** 문제에 도움이 될 수 있습니다."
   ]
  },
  {
   "cell_type": "markdown",
   "metadata": {
    "id": "pOzaIRYBhqwg"
   },
   "source": [
    "## 다음 단계\n",
    "\n",
    "이 튜토리얼에서는 TensorFlow를 사용한 시계열 예측에 대해 간단히 소개했습니다.\n",
    "\n",
    "- 자세한 내용은 다음을 참조하세요.\n",
    "    - [Scikit-Learn, Keras 및 TensorFlow를 이용한 머시러닝 실무](https://www.oreilly.com/library/view/hands-on-machine-learning/9781492032632/)(2차 개정 버전), 챕터 15\n",
    "    - [Python을 이용한 딥러닝](https://www.manning.com/books/deep-learning-with-python) 챕터 6\n",
    "    - [Udacity의 딥러닝 TensorFlow 개론](https://www.udacity.com/course/intro-to-tensorflow-for-deep-learning--ud187) 레슨 8 및 [연습 노트북](https://github.com/tensorflow/examples/tree/master/courses/udacity_intro_to_tensorflow_for_deep_learning)\n",
    "- 또한 TensorFlow에서 [기존의 시계열 모델](https://otexts.com/fpp2/index.html)은 모두 구현할 수 있다는 점을 기억하세요. 이 튜토리얼에서는 TensdorFlow의 내장 기능에 초점을 맞추었습니다."
   ]
  }
 ],
 "metadata": {
  "accelerator": "GPU",
  "colab": {
   "collapsed_sections": [],
   "name": "time_series.ipynb",
   "toc_visible": true
  },
  "kernelspec": {
   "name": "venv_01",
   "language": "python",
   "display_name": "Python (venv_01)"
  },
  "language_info": {
   "codemirror_mode": {
    "name": "ipython",
    "version": 3
   },
   "file_extension": ".py",
   "mimetype": "text/x-python",
   "name": "python",
   "nbconvert_exporter": "python",
   "pygments_lexer": "ipython3",
   "version": "3.6.9"
  }
 },
 "nbformat": 4,
 "nbformat_minor": 0
}