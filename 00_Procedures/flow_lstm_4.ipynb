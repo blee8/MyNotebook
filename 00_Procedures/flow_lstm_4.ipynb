{
 "cells": [
  {
   "cell_type": "markdown",
   "metadata": {
    "id": "2Pmxv2ioyCRw"
   },
   "source": [
    "# time Module"
   ]
  },
  {
   "cell_type": "code",
   "execution_count": 1,
   "outputs": [],
   "source": [
    "import os\n",
    "import datetime\n",
    "\n",
    "import IPython\n",
    "import IPython.display\n",
    "import matplotlib as mpl\n",
    "import matplotlib.pyplot as plt\n",
    "import numpy as np\n",
    "import pandas as pd\n",
    "import seaborn as sns\n",
    "import tensorflow as tf\n",
    "\n",
    "mpl.rcParams['figure.figsize'] = (8, 6)\n",
    "mpl.rcParams['axes.grid'] = False\n",
    "\n",
    "import mglearn\n",
    "#import t_Mod\n",
    "from t_Mod import *\n",
    "\n",
    "#from t_Mod.plots_t import *"
   ],
   "metadata": {
    "collapsed": false,
    "pycharm": {
     "name": "#%%\n"
    }
   }
  },
  {
   "cell_type": "code",
   "execution_count": null,
   "outputs": [],
   "source": [
    "df = pd.read_csv(\n",
    "    os.path.join(mglearn.datasets.DATA_PATH, \"constant(del).csv\") )\n",
    "#df2 = pd.read_csv(\n",
    "#    os.path.join(mglearn.datasets.DATA_PATH, \"constant(val).csv\") )\n",
    "# 예제를 위해 몇개의 열만 선택합니다\n",
    "#df = df[['IR', 'FlowHt', 'Const', 'Var', 'Base', 'MixS75','MixS50','MixS25']]\n",
    "#df = df[['IR', 'FlowHt', 'Sand','Ash','delIR','delFlow']]\n",
    "df = df[['IR', 'FlowHt', 'Sand','Ash','delIR','delFlow']]\n",
    "#df2 = df2[['IR', 'FlowHt', 'Sand','Ash']]\n",
    "df['delIF'] = df['delFlow']/df['delIR']*-1\n",
    "\n",
    "df['delIF']=df['delIF'].replace(np.nan, 0)\n",
    "df = df[['IR', 'FlowHt', 'Sand','Ash','delIR' ]]\n",
    "\n",
    "display(df.head())\n",
    "#display(df2.head())"
   ],
   "metadata": {
    "collapsed": false,
    "pycharm": {
     "name": "#%%\n"
    }
   }
  },
  {
   "cell_type": "code",
   "execution_count": null,
   "outputs": [],
   "source": [
    "\n",
    "plt.plot(df.iloc[0:58,0], df.iloc[0:58,1], 'g-'\n",
    "         , df.iloc[58:116,0], df.iloc[58:116,1],'r--'\n",
    "         ,df.iloc[116:174,0], df.iloc[116:174,1],'b-'\n",
    "         ,df.iloc[174:232,0], df.iloc[174:232,1], 'm-')\n",
    "plt.xlabel('norm IR')\n",
    "plt.ylabel('Flow Height [m]')\n",
    "#plt.axis('equal')\n",
    "#plt.axis('square')\n",
    "plt.xlim([plt.xlim()[1], 0])\n",
    "#plt.ylim([0,plt.ylim()[1]])\n",
    "#_ = plt.plot([-100, 100], [-100, 100])\n"
   ],
   "metadata": {
    "collapsed": false,
    "pycharm": {
     "name": "#%%\n"
    }
   }
  },
  {
   "cell_type": "code",
   "execution_count": null,
   "outputs": [],
   "source": [
    "# ## 데이터 정규화\n",
    "\n",
    "num_features = df.shape[1]\n",
    "num_features"
   ],
   "metadata": {
    "collapsed": false,
    "pycharm": {
     "name": "#%%\n"
    }
   }
  },
  {
   "cell_type": "code",
   "execution_count": null,
   "outputs": [],
   "source": [
    "#df['FlowHt']=(df['FlowHt']-df['FlowHt'].mean())/df['FlowHt'].std()\n",
    "\n",
    "\n",
    "df.describe()"
   ],
   "metadata": {
    "collapsed": false,
    "pycharm": {
     "name": "#%%\n"
    }
   }
  },
  {
   "cell_type": "code",
   "execution_count": null,
   "outputs": [],
   "source": [
    "df_mean = df.mean()\n",
    "df_std = df.std()\n",
    "df_std_s = (df - df_mean) / df_std\n",
    "df_std_m = df_std_s.melt(var_name='Column', value_name='Normalized')\n",
    "plt.figure(figsize=(12, 6))\n",
    "ax = sns.violinplot(x='Column', y='Normalized', data=df_std_m)\n",
    "_ = ax.set_xticklabels(df.keys(), rotation=90)\n",
    "df_std_s.describe()"
   ],
   "metadata": {
    "collapsed": false,
    "pycharm": {
     "name": "#%%\n"
    }
   }
  },
  {
   "cell_type": "code",
   "execution_count": null,
   "outputs": [],
   "source": [
    "# data\n",
    "df_org = df\n",
    "#df = df_std_s\n",
    "\n",
    "column_indices = {name: i for i, name in enumerate(df.columns)}\n",
    "\n",
    "n = len(df)*0.5\n",
    "\n",
    "curve_0 = df[0:int(n*0.25)].copy()\n",
    "curve_1 = df[int(n*0.25):int(n*0.5)].copy()\n",
    "curve_2 = df[int(n*0.5):int(n*0.75)].copy()\n",
    "curve_3 = df[int(n*0.75):int(n)].copy()\n",
    "curve_4 = df[int(n):].copy()\n",
    "#train_df_s = train_df_s.reset_index(drop=True)"
   ],
   "metadata": {
    "collapsed": false,
    "pycharm": {
     "name": "#%%\n"
    }
   }
  },
  {
   "cell_type": "code",
   "execution_count": null,
   "outputs": [],
   "source": [
    "df.describe()\n",
    "#print(df[58:116])"
   ],
   "metadata": {
    "collapsed": false,
    "pycharm": {
     "name": "#%%\n"
    }
   }
  },
  {
   "cell_type": "code",
   "execution_count": null,
   "outputs": [],
   "source": [
    "\n",
    "plt.plot(df.iloc[0:58,0], df.iloc[0:58,1], 'g-'\n",
    "         , df.iloc[58:116,0], df.iloc[58:116,1],'r--'\n",
    "         ,df.iloc[116:174,0], df.iloc[116:174,1],'b-'\n",
    "         ,df.iloc[174:232,0], df.iloc[174:232,1], 'm-')\n",
    "plt.xlabel('norm IR')\n",
    "plt.ylabel('Flow Height [m]')\n",
    "#plt.axis('equal')\n",
    "#plt.axis('square')\n",
    "#plt.xlim([plt.xlim()[1], -2.5])\n",
    "#plt.ylim([0,plt.ylim()[1]])\n",
    "#_ = plt.plot([-100, 100], [-100, 100])\n",
    "\n"
   ],
   "metadata": {
    "collapsed": false,
    "pycharm": {
     "name": "#%%\n"
    }
   }
  },
  {
   "cell_type": "markdown",
   "source": [
    "### curve_0"
   ],
   "metadata": {
    "collapsed": false
   }
  },
  {
   "cell_type": "code",
   "execution_count": null,
   "outputs": [],
   "source": [
    "crv_0 = curve_0.copy()\n",
    "crv_0 = crv_0.reset_index(drop=True)"
   ],
   "metadata": {
    "collapsed": false,
    "pycharm": {
     "name": "#%%\n"
    }
   }
  },
  {
   "cell_type": "code",
   "execution_count": null,
   "outputs": [],
   "source": [
    "#m1 = int(n*0.2)\n",
    "m1 = int(len(curve_0))\n",
    "for i in range(1, 4):\n",
    "    m = m1*0.33334*i\n",
    "    train_df_0 = crv_0[0:int(m*0.8)]\n",
    "    val_df_0 = crv_0[int(m*0.8):int(m)]\n",
    "#    test_df_0 = crv_0[int(m*0.8):int(m)]\n",
    "#    test_df_0 = crv_0[int(n*0.25*0.2*i-3):int(n*0.25*0.2*(i+1))]\n",
    "    exec(f'train_df_0{i-1} = train_df_0')\n",
    "    exec(f'val_df_0{i-1} = val_df_0')\n",
    "#    exec(f'test_df_0{i-1} = test_df_0')\n"
   ],
   "metadata": {
    "collapsed": false,
    "pycharm": {
     "name": "#%%\n"
    }
   }
  },
  {
   "cell_type": "code",
   "execution_count": null,
   "outputs": [],
   "source": [
    "#train_total = {0: train_df_00 , 1: train_df_01, 2: train_df_02, 3: train_df_03}\n",
    "#val_total = {0: val_df_00 , 1: val_df_01, 2: val_df_02, 3: val_df_03}\n",
    "#test_total = {0: test_df_00 , 1: test_df_01, 2: test_df_02, 3: test_df_03}\n",
    "\n",
    "train_total = [train_df_00, train_df_01, train_df_02]\n",
    "val_total = [val_df_00, val_df_01, val_df_02]\n",
    "#test_total = [test_df_00, test_df_01, test_df_02]\n",
    "\n",
    "#ttt = { 'tr' : train_total, 'va' : val_total, 'te' : test_total}\n",
    "ttt = { 'tr' : train_total, 'va' : val_total, 'te' : val_total}\n",
    "ttt = pd.DataFrame(ttt)\n",
    "print(ttt.columns)\n",
    "print(ttt.index)"
   ],
   "metadata": {
    "collapsed": false,
    "pycharm": {
     "name": "#%%\n"
    }
   }
  },
  {
   "cell_type": "code",
   "execution_count": null,
   "outputs": [],
   "source": [
    "#from t_Mod.plots_t import plot_curve, eval, add_curve # absolute path, import 함수\n",
    "\n",
    "for i in range(0, 3) :\n",
    " #   for x in dat_list :\n",
    "        plt.figure(figsize=(5, 2))\n",
    "        tr = ttt.iloc[i]['tr']\n",
    "        va = ttt.iloc[i]['va']\n",
    "        te = ttt.iloc[i]['te']\n",
    "#        plot_curve(tr, va, te)\n",
    "        plots_t.plot_curve(tr, va, te)\n",
    "#        t_Mod.plots_t.plot_curve(tr, va, te)\n"
   ],
   "metadata": {
    "collapsed": false,
    "pycharm": {
     "name": "#%%\n"
    }
   }
  },
  {
   "cell_type": "markdown",
   "source": [
    "### curve_1"
   ],
   "metadata": {
    "collapsed": false
   }
  },
  {
   "cell_type": "code",
   "execution_count": null,
   "outputs": [],
   "source": [
    "crv_1 = curve_1.copy()\n",
    "#crv_1 = crv_1.reset_index(drop=True)"
   ],
   "metadata": {
    "collapsed": false,
    "pycharm": {
     "name": "#%%\n"
    }
   }
  },
  {
   "cell_type": "code",
   "execution_count": null,
   "outputs": [],
   "source": [
    "m1 = int(len(curve_1))\n",
    "for i in range(1, 4):\n",
    "    m = m1*0.33334*i\n",
    "    train_df_1 = crv_1[0:int(m*0.8)]\n",
    "    val_df_1 = crv_1[int(m*0.8):int(m)]\n",
    "    exec(f'train_df_1{i-1} = train_df_1')\n",
    "    exec(f'val_df_1{i-1} = val_df_1')"
   ],
   "metadata": {
    "collapsed": false,
    "pycharm": {
     "name": "#%%\n"
    }
   }
  },
  {
   "cell_type": "code",
   "execution_count": null,
   "outputs": [],
   "source": [
    "train_t_1 = {0: train_df_10 , 1: train_df_11, 2: train_df_12 }\n",
    "val_t_1 = {0: val_df_10 , 1: val_df_11, 2: val_df_12 }\n",
    "#test_t_1 = {0: test_df_10 , 1: test_df_11, 2: test_df_12 }\n",
    "\n",
    "ttt_1 = { 'tr' : train_t_1, 'va' : val_t_1, 'te' : val_t_1}\n",
    "ttt_1 = pd.DataFrame(ttt_1)"
   ],
   "metadata": {
    "collapsed": false,
    "pycharm": {
     "name": "#%%\n"
    }
   }
  },
  {
   "cell_type": "code",
   "execution_count": null,
   "outputs": [],
   "source": [
    "for i in range(0, 3) :\n",
    " #   for x in dat_list :\n",
    "        plt.figure(figsize=(5, 2))\n",
    "        tr = ttt_1.iloc[i]['tr']\n",
    "        va = ttt_1.iloc[i]['va']\n",
    "        te = ttt_1.iloc[i]['te']\n",
    "        plots_t.plot_curve(tr, va, te)"
   ],
   "metadata": {
    "collapsed": false,
    "pycharm": {
     "name": "#%%\n"
    }
   }
  },
  {
   "cell_type": "markdown",
   "source": [
    "### curve_2"
   ],
   "metadata": {
    "collapsed": false
   }
  },
  {
   "cell_type": "code",
   "execution_count": null,
   "outputs": [],
   "source": [
    "crv_2 = curve_2.copy()\n",
    "#crv_2 = crv_2.reset_index(drop=True)"
   ],
   "metadata": {
    "collapsed": false,
    "pycharm": {
     "name": "#%%\n"
    }
   }
  },
  {
   "cell_type": "code",
   "execution_count": null,
   "outputs": [],
   "source": [
    "m1 = int(len(curve_2))\n",
    "for i in range(1, 4):\n",
    "    m = m1*0.33334*i\n",
    "    train_df_2 = crv_2[0:int(m*0.8)]\n",
    "    val_df_2 = crv_2[int(m*0.8):int(m)]\n",
    "    exec(f'train_df_2{i-1} = train_df_2')\n",
    "    exec(f'val_df_2{i-1} = val_df_2')"
   ],
   "metadata": {
    "collapsed": false,
    "pycharm": {
     "name": "#%%\n"
    }
   }
  },
  {
   "cell_type": "code",
   "execution_count": null,
   "outputs": [],
   "source": [
    "train_t_2 = {0: train_df_20 , 1: train_df_21, 2: train_df_22 }\n",
    "val_t_2 = {0: val_df_20 , 1: val_df_21, 2: val_df_22 }\n",
    "#test_t_1 = {0: test_df_10 , 1: test_df_11, 2: test_df_12 }\n",
    "\n",
    "ttt_2 = { 'tr' : train_t_2, 'va' : val_t_2, 'te' : val_t_2}\n",
    "ttt_2 = pd.DataFrame(ttt_2)"
   ],
   "metadata": {
    "collapsed": false,
    "pycharm": {
     "name": "#%%\n"
    }
   }
  },
  {
   "cell_type": "code",
   "execution_count": null,
   "outputs": [],
   "source": [
    "for i in range(0, 3) :\n",
    " #   for x in dat_list :\n",
    "        plt.figure(figsize=(5, 2))\n",
    "        tr = ttt_2.iloc[i]['tr']\n",
    "        va = ttt_2.iloc[i]['va']\n",
    "        te = ttt_2.iloc[i]['te']\n",
    "        plots_t.plot_curve(tr, va, te)"
   ],
   "metadata": {
    "collapsed": false,
    "pycharm": {
     "name": "#%%\n"
    }
   }
  },
  {
   "cell_type": "markdown",
   "source": [
    "### curve_3"
   ],
   "metadata": {
    "collapsed": false,
    "pycharm": {
     "name": "#%% md\n"
    }
   }
  },
  {
   "cell_type": "code",
   "execution_count": null,
   "outputs": [],
   "source": [
    "crv_3 = curve_3.copy()\n",
    "#crv_2 = crv_2.reset_index(drop=True)"
   ],
   "metadata": {
    "collapsed": false,
    "pycharm": {
     "name": "#%%\n"
    }
   }
  },
  {
   "cell_type": "code",
   "execution_count": null,
   "outputs": [],
   "source": [
    "m1 = int(len(curve_3))\n",
    "for i in range(1, 4):\n",
    "    m = m1*0.33334*i\n",
    "    train_df_3 = crv_3[0:int(m*0.8)]\n",
    "    val_df_3 = crv_3[int(m*0.8):int(m)]\n",
    "    exec(f'train_df_3{i-1} = train_df_3')\n",
    "    exec(f'val_df_3{i-1} = val_df_3')"
   ],
   "metadata": {
    "collapsed": false,
    "pycharm": {
     "name": "#%%\n"
    }
   }
  },
  {
   "cell_type": "code",
   "execution_count": null,
   "outputs": [],
   "source": [
    "train_t_3 = {0: train_df_30 , 1: train_df_31, 2: train_df_32 }\n",
    "val_t_3 = {0: val_df_30 , 1: val_df_31, 2: val_df_32 }\n",
    "#test_t_1 = {0: test_df_10 , 1: test_df_11, 2: test_df_12 }\n",
    "\n",
    "ttt_3 = { 'tr' : train_t_3, 'va' : val_t_3, 'te' : val_t_3}\n",
    "ttt_3 = pd.DataFrame(ttt_3)"
   ],
   "metadata": {
    "collapsed": false,
    "pycharm": {
     "name": "#%%\n"
    }
   }
  },
  {
   "cell_type": "code",
   "execution_count": null,
   "outputs": [],
   "source": [
    "for i in range(0, 3) :\n",
    " #   for x in dat_list :\n",
    "        plt.figure(figsize=(5, 2))\n",
    "        tr = ttt_3.iloc[i]['tr']\n",
    "        va = ttt_3.iloc[i]['va']\n",
    "        te = ttt_3.iloc[i]['te']\n",
    "        plots_t.plot_curve(tr, va, te)\n"
   ],
   "metadata": {
    "collapsed": false,
    "pycharm": {
     "name": "#%%\n"
    }
   }
  },
  {
   "cell_type": "markdown",
   "source": [
    "#### WindowGrerator Class\n",
    "#### WinGen()"
   ],
   "metadata": {
    "collapsed": false
   }
  },
  {
   "cell_type": "code",
   "execution_count": null,
   "outputs": [],
   "source": [
    "# WindowGen needs train_df\n",
    "#+++++++++++++++++++++++++++++++++++++++++++++++++++++++\n",
    "train_df = train_df_01.copy()\n",
    "val_df = val_df_01.copy()\n",
    "test_df = val_df_01.copy()\n"
   ],
   "metadata": {
    "collapsed": false,
    "pycharm": {
     "name": "#%%\n"
    }
   }
  },
  {
   "cell_type": "code",
   "execution_count": null,
   "metadata": {
    "execution": {
     "iopub.execute_input": "2020-11-12T06:11:03.585020Z",
     "iopub.status.busy": "2020-11-12T06:11:03.584176Z",
     "iopub.status.idle": "2020-11-12T06:11:03.588535Z",
     "shell.execute_reply": "2020-11-12T06:11:03.588976Z"
    },
    "id": "G5QX1G1JTPCr"
   },
   "outputs": [],
   "source": [
    "single_step_window = Class_t.WindowGenerator(\n",
    "    input_width=1, label_width=1, shift=1,\n",
    "    train_df=train_df, val_df=val_df, test_df=test_df,\n",
    "    label_columns=['FlowHt'])\n",
    "single_step_window"
   ]
  },
  {
   "cell_type": "code",
   "execution_count": null,
   "outputs": [],
   "source": [
    "single_step_window_t = Class_t.WinGen(\n",
    "    input_width=1, label_width=1, shift=1,\n",
    "    train_df=train_df, val_df=val_df, test_df=test_df,\n",
    "    label_columns=['FlowHt'])\n",
    "single_step_window_t\n"
   ],
   "metadata": {
    "collapsed": false,
    "pycharm": {
     "name": "#%%\n"
    }
   }
  },
  {
   "cell_type": "code",
   "execution_count": null,
   "metadata": {
    "execution": {
     "iopub.execute_input": "2020-11-12T06:12:23.135910Z",
     "iopub.status.busy": "2020-11-12T06:12:23.135144Z",
     "iopub.status.idle": "2020-11-12T06:12:23.138364Z",
     "shell.execute_reply": "2020-11-12T06:12:23.137654Z"
    },
    "id": "lBh0j5djUKY2"
   },
   "outputs": [],
   "source": [
    "CONV_WIDTH = 3\n",
    "conv_window = Class_t.WindowGenerator(\n",
    "    input_width=CONV_WIDTH,\n",
    "    label_width=1,\n",
    "    shift=1,\n",
    "        train_df=train_df, val_df=val_df, test_df=test_df,\n",
    "    label_columns=['FlowHt'])\n",
    "\n",
    "conv_window\n",
    "\n",
    "conv_window_t = Class_t.WinGen(\n",
    "    input_width=CONV_WIDTH,\n",
    "    label_width=1,\n",
    "    shift=1,\n",
    "        train_df=train_df, val_df=val_df, test_df=test_df,\n",
    "    label_columns=['FlowHt'])\n",
    "\n",
    "conv_window_t"
   ]
  },
  {
   "cell_type": "code",
   "execution_count": null,
   "outputs": [],
   "source": [
    "wide_window = Class_t.WindowGenerator(\n",
    "    input_width=8, label_width=8, shift=1,\n",
    "    train_df=train_df, val_df=val_df, test_df=test_df,\n",
    "    label_columns=['FlowHt'])\n",
    "\n",
    "wide_window\n",
    "#print(wide_window)\n",
    "wide_window_t = Class_t.WinGen(\n",
    "    input_width=8, label_width=8, shift=1,\n",
    "    train_df=train_df, val_df=val_df, test_df=test_df,\n",
    "    label_columns=['FlowHt'])\n",
    "\n",
    "wide_window_t"
   ],
   "metadata": {
    "collapsed": false,
    "pycharm": {
     "name": "#%%\n"
    }
   }
  },
  {
   "cell_type": "code",
   "execution_count": null,
   "outputs": [],
   "source": [
    "LABEL_WIDTH = 8\n",
    "INPUT_WIDTH = LABEL_WIDTH + (CONV_WIDTH - 1)\n",
    "wide_conv_window = Class_t.WindowGenerator(\n",
    "    input_width=INPUT_WIDTH,\n",
    "    label_width=LABEL_WIDTH,\n",
    "    shift=1,\n",
    "    train_df=train_df, val_df=val_df, test_df=test_df,\n",
    "    label_columns=['FlowHt'])\n",
    "\n",
    "wide_conv_window"
   ],
   "metadata": {
    "collapsed": false,
    "pycharm": {
     "name": "#%%\n"
    }
   }
  },
  {
   "cell_type": "code",
   "execution_count": null,
   "outputs": [],
   "source": [
    "wide_conv_window_t = Class_t.WinGen(\n",
    "    input_width=INPUT_WIDTH,\n",
    "    label_width=LABEL_WIDTH,\n",
    "    shift=1,\n",
    "    train_df=train_df, val_df=val_df, test_df=test_df,\n",
    "    label_columns=['FlowHt'])\n",
    "\n",
    "wide_conv_window_t"
   ],
   "metadata": {
    "collapsed": false,
    "pycharm": {
     "name": "#%%\n"
    }
   }
  },
  {
   "cell_type": "markdown",
   "metadata": {
    "id": "CrpU6gwSJome"
   },
   "source": [
    "### Convolution Model"
   ]
  },
  {
   "cell_type": "code",
   "execution_count": null,
   "metadata": {
    "execution": {
     "iopub.execute_input": "2020-11-12T06:13:07.112377Z",
     "iopub.status.busy": "2020-11-12T06:13:07.111699Z",
     "iopub.status.idle": "2020-11-12T06:13:07.116644Z",
     "shell.execute_reply": "2020-11-12T06:13:07.116171Z"
    },
    "id": "5azaMBj4ac9t"
   },
   "outputs": [],
   "source": [
    "conv_model = tf.keras.Sequential([\n",
    "    tf.keras.layers.Conv1D(filters=128,\n",
    "                           kernel_size=(CONV_WIDTH,),\n",
    "                           activation='relu'),\n",
    "    tf.keras.layers.Dense(units=16, activation='relu'),\n",
    "    tf.keras.layers.Dense(units=1),\n",
    "])\n",
    "\n",
    "\n"
   ]
  },
  {
   "cell_type": "code",
   "execution_count": null,
   "outputs": [],
   "source": [
    "crv_4 = curve_4.copy()\n",
    "m = len(crv_4)\n",
    "train_df_41 = crv_4[116:174]  #10% 90%\n",
    "train_df_42 = crv_4[0:58]  #40% 60%\n",
    "train_df_43 = crv_4[58:116]  #60% 40%\n",
    "train_df_4 = crv_4[174:]  #90% 10%\n",
    "train_df_45 = crv_4[:]  #all\n"
   ],
   "metadata": {
    "collapsed": false,
    "pycharm": {
     "name": "#%%\n"
    }
   }
  },
  {
   "cell_type": "markdown",
   "metadata": {
    "id": "H4crpOcoMlSe"
   },
   "source": [
    "###  Recurrent Neural Network(RNN)"
   ]
  },
  {
   "cell_type": "markdown",
   "metadata": {
    "id": "vfQbHSMb1ATa"
   },
   "source": [
    "모든 keras RNN 레이어에 대한 중요한 생성자 인수는 `return_sequences` 인수입니다. 이 설정은 다음 두 가지 방법 중 하나로 레이어를 구성할 수 있습니다.\n",
    "\n",
    "1. 기본값인 `False`인 경우 레이어는 최종 타임스텝의 출력만 반환하여 단일 예측을 수행하기 전에 모델이 내부 상태를 준비할 시간을 줍니다.\n",
    "\n",
    "![An lstm warming up and making a single prediction](https://www.tensorflow.org/tutorials/structured_data/images/lstm_1_window.png)\n",
    "\n",
    "1. `True`이면 레이어가 각 입력에 대한 출력을 반환합니다. 다음과 같은 경우에 유용합니다.\n",
    "\n",
    "- RNN 레이어 쌓기\n",
    "- 여러 타임스텝에서 동시에 모델 훈련\n",
    "\n",
    "![An lstm making a prediction after every timestep](https://www.tensorflow.org/tutorials/structured_data/images/lstm_many_window.png)"
   ]
  },
  {
   "cell_type": "markdown",
   "source": [
    "`return_sequences=True`이면 모델을 한 번에 24시간 분량 데이터에 대해 훈련할 수 있습니다.\n",
    "\n",
    "Note: This will give a pessimistic view of the model's performance. On the first timestep the model has no access to previous steps, and so can't do any better than the simple linear and dense models shown earlier.\n",
    "\n"
   ],
   "metadata": {
    "collapsed": false
   }
  },
  {
   "cell_type": "code",
   "execution_count": null,
   "metadata": {
    "execution": {
     "iopub.execute_input": "2020-11-12T06:14:54.393011Z",
     "iopub.status.busy": "2020-11-12T06:14:54.391958Z",
     "iopub.status.idle": "2020-11-12T06:14:54.397306Z",
     "shell.execute_reply": "2020-11-12T06:14:54.396830Z"
    },
    "id": "DXKLCJy8nWNU"
   },
   "outputs": [],
   "source": [
    "lstm_model = tf.keras.models.Sequential([\n",
    "    # Shape [batch, time, features] => [batch, time, lstm_units]\n",
    "    tf.keras.layers.LSTM(16, return_sequences=True),\n",
    "    # Shape => [batch, time, features]\n",
    "    tf.keras.layers.Dense(units=1)\n",
    "])\n"
   ]
  },
  {
   "cell_type": "code",
   "execution_count": null,
   "outputs": [],
   "source": [
    "_ = compile.compile_2(lstm_model)"
   ],
   "metadata": {
    "collapsed": false,
    "pycharm": {
     "name": "#%%\n"
    }
   }
  },
  {
   "cell_type": "code",
   "execution_count": null,
   "outputs": [],
   "source": [
    "print('Input shape:', wide_window.example[0].shape)\n",
    "\n",
    "print('Output shape:', lstm_model(wide_window.example[0]).shape)\n"
   ],
   "metadata": {
    "collapsed": false,
    "pycharm": {
     "name": "#%%\n"
    }
   }
  },
  {
   "cell_type": "code",
   "execution_count": null,
   "outputs": [],
   "source": [
    "input_indices = np.arange(wide_window_t.total_window_size )[wide_window_t.input_slice]\n",
    "label_indices = np.arange(wide_window_t.total_window_size)[wide_window_t.labels_slice]\n",
    "print(np.arange(wide_window_t.total_window_size ))\n",
    "\n",
    "print(wide_window_t.input_slice)\n",
    "print(wide_window_t.labels_slice)\n",
    "\n",
    "\n",
    "print(np.arange(wide_window_t.total_window_size )[slice(0, 8, None)])\n",
    "\n",
    "print(np.arange(wide_window_t.total_window_size )[slice(1, None, None)])"
   ],
   "metadata": {
    "collapsed": false,
    "pycharm": {
     "name": "#%%\n"
    }
   }
  },
  {
   "cell_type": "code",
   "execution_count": null,
   "outputs": [],
   "source": [
    "\"\"\"\n",
    "print(np.arange(wide_window_t.total_window_size *16))\n",
    "print(np.arange(wide_window_t.total_window_size*16 )[slice(0, wide_window_t.total_window_size*16 -1, None)])\n",
    "print(np.arange(wide_window_t.total_window_size*16 )[slice(1, None, None)])\n",
    "\"\"\""
   ],
   "metadata": {
    "collapsed": false,
    "pycharm": {
     "name": "#%%\n"
    }
   }
  },
  {
   "cell_type": "code",
   "execution_count": null,
   "outputs": [],
   "source": [
    "def fit_3(model, window,   patience=2, EPOCHS=None):\n",
    "    early_stopping = tf.keras.callbacks.EarlyStopping(monitor='val_loss',\n",
    "                                                    patience=patience,\n",
    "                                                    mode='min')\n",
    "    history = model.fit(window.train, epochs=EPOCHS,\n",
    "                      validation_data=window.val, verbose=1)\n",
    "                   #   callbacks=[early_stopping])\n",
    "    return history\n",
    "\n",
    "n = len(df)*0.5\n",
    "crv_tr = df[0:int(n*0.75)].copy()\n",
    "#crv_tr = df[0:int(n*0.25)].copy()\n",
    "#crv_tr = df[int(n*0.25):int(n*0.75)].copy()\n",
    "crv_va = df[int(n*0.75):int(n)].copy()\n",
    "\n",
    "tr_loss_con = []\n",
    "va_loss_con= []\n",
    "tr_mae_con = []\n",
    "va_mae_con = []\n",
    "train_loss = []\n",
    "val_loss = []\n",
    "train_mae = []\n",
    "val_mae = []\n",
    "\n",
    "window = wide_window\n",
    "window_t = wide_window_t\n",
    "model = lstm_model\n",
    "\n",
    "npat = 50\n",
    "n_batch = 30\n",
    "\n",
    "window.train_df = crv_tr\n",
    "window.val_df = crv_va\n",
    "\n",
    "hist =  fit_3(model, window, patience= npat, EPOCHS = 300 )\n",
    "\n",
    "train_loss += hist.history['loss'][-1:]\n",
    "if 'val_loss' in hist.history:\n",
    "    print(\"val_loss not in the list\")\n",
    "    val_loss += hist.history['val_loss'][-1:]\n",
    "\n",
    "train_mae += hist.history['mean_absolute_error'][-1:]\n",
    "if 'val_mean_absolute_error' in hist.history:\n",
    "    print(\"val_mean_absolute_error not in the list\")\n",
    "    val_mae += hist.history['val_mean_absolute_error'][-1:]\n",
    "\n",
    "IPython.display.clear_output()\n",
    "\n",
    "plots_t.eval(hist)\n",
    "\n",
    "window_t.train_df = crv_tr\n",
    "window_t.val_df = crv_va\n",
    "\n",
    "#window_t.plot_batch(model, dset_name='train', n_batch=10 )\n",
    "input_indices = np.arange(wide_window_t.total_window_size*16 )[slice(0, wide_window_t.total_window_size*16 -1, None)]\n",
    "label_indices = np.arange(wide_window_t.total_window_size*16 )[slice(1, None, None)]\n",
    "\n",
    "#fig, ax5 = plt.subplots(figsize =(5,3))\n",
    "#ax5.margins(0.01)\n",
    "fig, ax3 = plt.subplots(figsize =(5,5))\n",
    "\n",
    "\n",
    "\n",
    "\n",
    "markers = [\"X\",\"o\", \"s\", \"D\", \"h\"]\n",
    "colors = [\"blue\", \"red\", \"green\", \"k\",  \"m\", 'cyan', 'y', 'w']\n",
    "\n",
    "data = [window_t.train, window_t.val]\n",
    "for j, dataset in enumerate(data) :\n",
    "\n",
    "      for i, batch in enumerate(dataset) :\n",
    "            fig, ax5 = plt.subplots(figsize =(5,3))\n",
    "            inputs, labels, lab = batch\n",
    "            predictions = model(inputs)\n",
    "\n",
    "            in3 = np.array(inputs, dtype=np.float32)\n",
    "            #in3 = tf.convert_to_tensor(data, dtype=tf.float32)\n",
    "            in3 = in3.reshape(8*len(inputs),5)\n",
    "            in3 = tf.convert_to_tensor(in3, dtype=tf.float32)\n",
    "\n",
    "            pr3 = np.array(predictions, dtype=np.float32)\n",
    "            pr3 = pr3.reshape(8*len(inputs),1)\n",
    "            pr3 = tf.convert_to_tensor(pr3, dtype=tf.float32)\n",
    "\n",
    "          #  ax5.scatter(input_indices, inputs[:, :, 1],label='Inputs', marker='.',\n",
    "            ax5.scatter(input_indices[:8*len(inputs)], in3[:,1],label='Inputs', marker='.',\n",
    "                        color=colors[j], zorder=-10, facecolors='none')\n",
    "\n",
    "            #ax5.scatter(label_indices,   predictions[:, :, 0], label='Predictions',\n",
    "            ax5.scatter(label_indices[:(8*len(inputs))],   pr3[:,0], label='Predictions',\n",
    "                          marker='.',  color = colors[j+1], facecolors='none', s=16,zorder=3 )\n",
    "            ax3.scatter(predictions[:, :, 0], labels[:, :, 0],\n",
    "                    #marker=markers[j],  color = colors[j],  facecolors='none' )\n",
    "                    marker=markers[j ], s=16,  color = colors[j],  facecolors='none' )\n",
    "\n",
    "            if n_batch is not None :\n",
    "                    if n_batch <= i :\n",
    "                        break\n",
    "                    else:\n",
    "                        continue\n",
    "            else :\n",
    "                continue\n",
    "\n",
    "ax3.plot([0, 25], [0, 25], 'k--') # dashed diagonal\n",
    "#ax5.invert_xaxis()\n",
    "\n",
    "\n",
    "subplot_title = ('train')\n",
    "plt.gca().set_title(subplot_title)\n",
    "\n",
    "train_loss = [x/4 for x in train_loss]\n",
    "val_loss = [x/4 for x in val_loss]\n",
    "train_mae = [x/4 for x in train_mae]\n",
    "val_mae = [x/4 for x in val_mae]\n",
    "\n"
   ],
   "metadata": {
    "collapsed": false,
    "pycharm": {
     "name": "#%%\n"
    }
   }
  },
  {
   "cell_type": "code",
   "execution_count": 62,
   "outputs": [
    {
     "data": {
      "text/plain": "Text(0.5, 1.0, 'Validataion Curve2')"
     },
     "execution_count": 62,
     "metadata": {},
     "output_type": "execute_result"
    },
    {
     "data": {
      "text/plain": "<Figure size 504x216 with 1 Axes>",
      "image/png": "[encoded data removed]"
     },
     "metadata": {
      "needs_background": "light"
     },
     "output_type": "display_data"
    },
    {
     "data": {
      "text/plain": "<Figure size 360x360 with 1 Axes>",
      "image/png": "[encoded data removed]"
     },
     "metadata": {
      "needs_background": "light"
     },
     "output_type": "display_data"
    }
   ],
   "source": [
    "wide_window_t.train_df = crv_3\n",
    "\n",
    "\n",
    "wide_window_t.plot_xy(lstm_model,  n_batch=10, dset_name='train' )\n",
    "plt.gca().set_title('Validataion Curve2')\n",
    "\n",
    "\n",
    "\n",
    "\n",
    "\n",
    "\n",
    "\n"
   ],
   "metadata": {
    "collapsed": false,
    "pycharm": {
     "name": "#%%\n"
    }
   }
  },
  {
   "cell_type": "markdown",
   "metadata": {
    "id": "pYglOCKehi8F"
   },
   "source": [
    "기본값인 False인 경우 레이어는 최종 타임스텝의 출력만 반환하여 단일 예측을 수행하기 전에 모델이 내부 상태를 준비할 시간을 줍니다\n",
    "![An lstm warming up and making a single prediction](https://www.tensorflow.org/tutorials/structured_data/images/lstm_1_window.png)"
   ]
  },
  {
   "cell_type": "code",
   "execution_count": null,
   "outputs": [],
   "source": [
    "lstm_model2 = tf.keras.models.Sequential([\n",
    "    # Shape [batch, time, features] => [batch, time, lstm_units]\n",
    "    tf.keras.layers.LSTM(16, return_sequences=False),\n",
    "    # Shape => [batch, time, features]\n",
    "    tf.keras.layers.Dense(units=1)\n",
    "])\n"
   ],
   "metadata": {
    "collapsed": false,
    "pycharm": {
     "name": "#%%\n"
    }
   }
  },
  {
   "cell_type": "code",
   "execution_count": null,
   "outputs": [],
   "source": [
    "_ = compile.compile_2(lstm_model2)"
   ],
   "metadata": {
    "collapsed": false,
    "pycharm": {
     "name": "#%%\n"
    }
   }
  },
  {
   "cell_type": "code",
   "execution_count": null,
   "outputs": [],
   "source": [
    "print('Input shape:', wide_window.example[0].shape)\n",
    "\n",
    "print('Output shape:', lstm_model2(wide_window.example[0]).shape)\n",
    "\n",
    "\n"
   ],
   "metadata": {
    "collapsed": false,
    "pycharm": {
     "name": "#%%\n"
    }
   }
  },
  {
   "cell_type": "markdown",
   "source": [
    "### 성능"
   ],
   "metadata": {
    "collapsed": false,
    "pycharm": {
     "name": "#%% md\n"
    }
   }
  },
  {
   "cell_type": "markdown",
   "metadata": {
    "id": "2pCk0_rwhi8H"
   },
   "source": [
    "이 데이터세트를 사용하면 일반적으로 각 모델의 성능이 이전 모델보다 약간 더 좋습니다."
   ]
  },
  {
   "cell_type": "code",
   "execution_count": null,
   "metadata": {
    "execution": {
     "iopub.execute_input": "2020-11-12T06:16:21.751267Z",
     "iopub.status.busy": "2020-11-12T06:16:21.747990Z",
     "iopub.status.idle": "2020-11-12T06:16:21.892120Z",
     "shell.execute_reply": "2020-11-12T06:16:21.891640Z"
    },
    "id": "JjEkt488hi8I"
   },
   "outputs": [],
   "source": [
    "x = np.arange(len(performance))\n",
    "width = 0.3\n",
    "metric_name = 'mean_absolute_error'\n",
    "metric_index = lstm_model.metrics_names.index('mean_absolute_error')\n",
    "val_mae = [v[metric_index] for v in val_performance.values()]\n",
    "test_mae = [v[metric_index] for v in performance.values()]\n",
    "\n",
    "plt.ylabel('mean_absolute_error [FlowHt, normalized]')\n",
    "plt.bar(x - 0.17, val_mae, width, label='Validation')\n",
    "plt.bar(x + 0.17, test_mae, width, label='Test')\n",
    "plt.xticks(ticks=x, labels=performance.keys(),\n",
    "           rotation=45)\n",
    "_ = plt.legend()"
   ]
  },
  {
   "cell_type": "code",
   "execution_count": null,
   "metadata": {
    "execution": {
     "iopub.execute_input": "2020-11-12T06:16:21.896603Z",
     "iopub.status.busy": "2020-11-12T06:16:21.895979Z",
     "iopub.status.idle": "2020-11-12T06:16:21.898000Z",
     "shell.execute_reply": "2020-11-12T06:16:21.898458Z"
    },
    "id": "cBMCpsdphi8L"
   },
   "outputs": [],
   "source": [
    "for name, value in performance.items():\n",
    "  print(f'{name:12s}: {value[1]:0.4f}')"
   ]
  },
  {
   "cell_type": "markdown",
   "metadata": {
    "id": "b5rUJ_2YMWzG"
   },
   "source": [
    "##### 다중 출력 모델 -skipped\n"
   ]
  },
  {
   "cell_type": "markdown",
   "metadata": {
    "id": "UwhY2f_Nn0_K"
   },
   "source": [
    "### Advanced: Residual connections\n",
    "\n",
    "The Baseline model from earlier took advantage of the fact that the sequence doesn't change drastically from time step to time step. Every model trained in this tutorial so far was randomly initialized, and then had to learn that the output is a a small change from the previous time step.\n",
    "\n",
    "While you can get around this issue with careful initialization, it's simpler to build this into the model structure.\n",
    "\n",
    "It's common in time series analysis to build models that instead of predicting the next value, predict how the value will change in the next timestep. Similarly, \"Residual networks\" or \"ResNets\" in deep learning refer to architectures where each layer adds to the model's accumulating result.\n",
    "\n",
    "That is how you take advantage of the knowledge that the change should be small.\n",
    "\n",
    "![A model with a residual connection](https://www.tensorflow.org/tutorials/structured_data/images/residual.png)"
   ]
  },
  {
   "cell_type": "markdown",
   "metadata": {
    "id": "yP58A_ORx0kM"
   },
   "source": [
    "Essentially this initializes the model to match the Baseline. For this task it helps models converge faster, with slightly better performance.\n",
    "\n",
    "This approach can be used in conjunction with any model discussed in this tutorial.\n",
    "\n",
    "Here it is being applied to the LSTM model, note the use of the tf.initializers.zeros to ensure that the initial predicted changes are small, and don't overpower the residual connection. There are no symmetry-breaking concerns for the gradients here, since the zeros are only used on the last layer."
   ]
  },
  {
   "cell_type": "code",
   "execution_count": null,
   "metadata": {
    "execution": {
     "iopub.execute_input": "2020-11-12T06:18:55.773883Z",
     "iopub.status.busy": "2020-11-12T06:18:55.773258Z",
     "iopub.status.idle": "2020-11-12T06:18:55.775051Z",
     "shell.execute_reply": "2020-11-12T06:18:55.775469Z"
    },
    "id": "7YlfnDQC22TQ"
   },
   "outputs": [],
   "source": [
    "class ResidualWrapper(tf.keras.Model):\n",
    "  def __init__(self, model):\n",
    "    super().__init__()\n",
    "    self.model = model\n",
    "\n",
    "  def call(self, inputs, *args, **kwargs):\n",
    "    delta = self.model(inputs, *args, **kwargs)\n",
    "\n",
    "    # The prediction for each timestep is the input\n",
    "    # from the previous time step plus the delta\n",
    "    # calculated by the model.\n",
    "    return inputs + delta"
   ]
  },
  {
   "cell_type": "code",
   "execution_count": null,
   "metadata": {
    "execution": {
     "iopub.execute_input": "2020-11-12T06:18:55.787611Z",
     "iopub.status.busy": "2020-11-12T06:18:55.787032Z",
     "iopub.status.idle": "2020-11-12T06:19:48.628980Z",
     "shell.execute_reply": "2020-11-12T06:19:48.628388Z"
    },
    "id": "NNeH02pspc9B"
   },
   "outputs": [],
   "source": [
    "%%time\n",
    "residual_lstm = ResidualWrapper(\n",
    "    tf.keras.Sequential([\n",
    "    tf.keras.layers.LSTM(16, return_sequences=True),\n",
    "    tf.keras.layers.Dense(\n",
    "        num_features,\n",
    "        # The predicted deltas should start small\n",
    "        # So initialize the output layer with zeros\n",
    "        kernel_initializer=tf.initializers.zeros)\n",
    "]))\n",
    "\n",
    "his = compile_and_fit(residual_lstm, wide_window)\n",
    "\n",
    "IPython.display.clear_output()\n",
    "val_performance['Residual LSTM'] = residual_lstm.evaluate(wide_window.val)\n",
    "performance['Residual LSTM'] = residual_lstm.evaluate(wide_window.test, verbose=0)\n",
    "print()\n"
   ]
  },
  {
   "cell_type": "code",
   "execution_count": null,
   "outputs": [],
   "source": [
    "eval(his)"
   ],
   "metadata": {
    "collapsed": false,
    "pycharm": {
     "name": "#%%\n"
    }
   }
  },
  {
   "cell_type": "markdown",
   "metadata": {
    "id": "I42Er9Du6co1"
   },
   "source": [
    "#### 성능"
   ]
  },
  {
   "cell_type": "markdown",
   "metadata": {
    "id": "LZxR38P_6pUi"
   },
   "source": [
    "다음은 이러한 다중 출력 모델의 전반적인 성능입니다."
   ]
  },
  {
   "cell_type": "code",
   "execution_count": null,
   "metadata": {
    "execution": {
     "iopub.execute_input": "2020-11-12T06:19:48.648881Z",
     "iopub.status.busy": "2020-11-12T06:19:48.641987Z",
     "iopub.status.idle": "2020-11-12T06:19:48.784523Z",
     "shell.execute_reply": "2020-11-12T06:19:48.783919Z"
    },
    "id": "6XgTK9tnr7rc"
   },
   "outputs": [],
   "source": [
    "x = np.arange(len(performance))\n",
    "width = 0.3\n",
    "\n",
    "metric_name = 'mean_absolute_error'\n",
    "metric_index = lstm_model.metrics_names.index('mean_absolute_error')\n",
    "val_mae = [v[metric_index] for v in val_performance.values()]\n",
    "test_mae = [v[metric_index] for v in performance.values()]\n",
    "\n",
    "plt.bar(x - 0.17, val_mae, width, label='Validation')\n",
    "plt.bar(x + 0.17, test_mae, width, label='Test')\n",
    "plt.xticks(ticks=x, labels=performance.keys(),\n",
    "           rotation=45)\n",
    "plt.ylabel('MAE (average over all outputs)')\n",
    "_ = plt.legend()"
   ]
  },
  {
   "cell_type": "code",
   "execution_count": null,
   "metadata": {
    "execution": {
     "iopub.execute_input": "2020-11-12T06:19:48.788906Z",
     "iopub.status.busy": "2020-11-12T06:19:48.788226Z",
     "iopub.status.idle": "2020-11-12T06:19:48.791204Z",
     "shell.execute_reply": "2020-11-12T06:19:48.790722Z"
    },
    "id": "URz3ajCc6kBj"
   },
   "outputs": [],
   "source": [
    "for name, value in performance.items():\n",
    "  print(f'{name:15s}: {value[1]:0.4f}')"
   ]
  },
  {
   "cell_type": "markdown",
   "metadata": {
    "id": "_Vt2MJhNxwPU"
   },
   "source": [
    "위의 성능은 모든 모델 출력에 대한 평균입니다."
   ]
  },
  {
   "cell_type": "markdown",
   "metadata": {
    "id": "eYokb7Om2YbK"
   },
   "source": [
    "## Multi-step models\n",
    "- Baseline\n",
    "- Single-shot models\n",
    "- Advanced tutoregressive model\n",
    "- performance"
   ]
  },
  {
   "cell_type": "code",
   "execution_count": null,
   "metadata": {
    "execution": {
     "iopub.execute_input": "2020-11-12T06:19:48.795910Z",
     "iopub.status.busy": "2020-11-12T06:19:48.795210Z",
     "iopub.status.idle": "2020-11-12T06:19:49.194061Z",
     "shell.execute_reply": "2020-11-12T06:19:49.194481Z"
    },
    "id": "1cFYtsz6XiGw"
   },
   "outputs": [],
   "source": [
    "OUT_STEPS = 8\n",
    "multi_window = WindowGenerator(input_width=8,\n",
    "                               label_width=OUT_STEPS,\n",
    "                               shift=OUT_STEPS)\n",
    "multi_window.plot()\n",
    "multi_window\n"
   ]
  },
  {
   "cell_type": "code",
   "execution_count": null,
   "outputs": [],
   "source": [
    "multi_window_t = WinGen(input_width=8,\n",
    "                               label_width=OUT_STEPS,\n",
    "                               shift=OUT_STEPS)\n",
    "multi_window_t"
   ],
   "metadata": {
    "collapsed": false,
    "pycharm": {
     "name": "#%%\n"
    }
   }
  },
  {
   "cell_type": "markdown",
   "metadata": {
    "id": "5lg8SInh9Jzd"
   },
   "source": [
    "### Baselines"
   ]
  },
  {
   "cell_type": "markdown",
   "metadata": {
    "id": "axwpoWYOApJL"
   },
   "source": [
    "A simple baseline for this task is to repeat the last input time step for the required number of output timesteps:\n",
    "\n",
    "![Repeat the last input, for each output step](https://www.tensorflow.org/tutorials/structured_data/images/multistep_last.png)"
   ]
  },
  {
   "cell_type": "code",
   "execution_count": null,
   "metadata": {
    "execution": {
     "iopub.execute_input": "2020-11-12T06:19:49.202982Z",
     "iopub.status.busy": "2020-11-12T06:19:49.202282Z",
     "iopub.status.idle": "2020-11-12T06:19:51.639912Z",
     "shell.execute_reply": "2020-11-12T06:19:51.640366Z"
    },
    "id": "_5iaHSaJ9Rxv"
   },
   "outputs": [],
   "source": [
    "class MultiStepLastBaseline(tf.keras.Model):\n",
    "  def call(self, inputs):\n",
    "    return tf.tile(inputs[:, -1:, :], [1, OUT_STEPS, 1])\n",
    "    # tile the last time step of a batch for the future OUT_STEPS\n",
    "\n",
    "last_baseline = MultiStepLastBaseline()\n",
    "#last_baseline.compile(loss=tf.losses.MeanSquaredError(),\n",
    "#                      metrics=[tf.metrics.MeanAbsoluteError()])\n",
    "history = compile_and_fit(last_baseline, multi_window)\n",
    "\n",
    "\n",
    "multi_val_performance = {}\n",
    "multi_performance = {}\n",
    "\n",
    "multi_val_performance['Last'] = last_baseline.evaluate(multi_window.val)\n",
    "multi_performance['Last'] = last_baseline.evaluate(multi_window.val, verbose=0)\n",
    "multi_window.plot(last_baseline)\n",
    "\n",
    "IPython.display.clear_output()\n"
   ]
  },
  {
   "cell_type": "markdown",
   "metadata": {
    "id": "AvHZ93ObAfMA"
   },
   "source": [
    "Since this task is to predict 24h given 24h another simple approach is to repeat the previous day, assuming tomorrow will be similar:\n",
    "![Repeat the previous day](https://www.tensorflow.org/tutorials/structured_data/images/multistep_repeat.png)"
   ]
  },
  {
   "cell_type": "code",
   "execution_count": null,
   "metadata": {
    "execution": {
     "iopub.execute_input": "2020-11-12T06:19:51.648721Z",
     "iopub.status.busy": "2020-11-12T06:19:51.647655Z",
     "iopub.status.idle": "2020-11-12T06:19:53.458613Z",
     "shell.execute_reply": "2020-11-12T06:19:53.459038Z"
    },
    "id": "L8Y1uMhGwIRs"
   },
   "outputs": [],
   "source": [
    "class RepeatBaseline(tf.keras.Model):\n",
    "  def call(self, inputs):\n",
    "    return inputs\n",
    "\n",
    "repeat_baseline = RepeatBaseline()\n",
    "#repeat_baseline.compile(loss=tf.losses.MeanSquaredError(),\n",
    "#                        metrics=[tf.metrics.MeanAbsoluteError()])\n",
    "\n",
    "history = compile_and_fit(repeat_baseline, multi_window)\n",
    "\n",
    "\n",
    "multi_val_performance['Repeat'] = repeat_baseline.evaluate(multi_window.val)\n",
    "multi_performance['Repeat'] = repeat_baseline.evaluate(multi_window.test, verbose=0)\n",
    "multi_window.plot(repeat_baseline)\n",
    "\n",
    "IPython.display.clear_output()"
   ]
  },
  {
   "cell_type": "code",
   "execution_count": null,
   "outputs": [],
   "source": [
    "eval(history)"
   ],
   "metadata": {
    "collapsed": false,
    "pycharm": {
     "name": "#%%\n"
    }
   }
  },
  {
   "cell_type": "markdown",
   "metadata": {
    "id": "tbndS-ct9C2Q"
   },
   "source": [
    "### Single-shot models\n",
    "\n",
    "One high level approach to this problem is use a \"single-shot\" model, where the model makes the entire sequence prediction in a single step.\n",
    "\n",
    "This can be implemented efficiently as a `layers.Dense` with `OUT_STEPS*features` output units.\n",
    "The model just needs to reshape that output to the required `(OUTPUT_STEPS, features)`."
   ]
  },
  {
   "cell_type": "markdown",
   "metadata": {
    "id": "NCKS4m1VKrDQ"
   },
   "source": [
    "#### Linear\n",
    "\n",
    "A simple linear model based on the last input time step does better than either baseline,\n",
    "but is underpowered. The model needs to predict `OUTPUT_STEPS` time steps, from a single\n",
    "input time step with a linear projection. It can only capture a low-dimensional slice of the behavior, likely based mainly on the time of day and time of year.\n",
    "\n",
    "![Predct all timesteps from the last time-step](https://www.tensorflow.org/tutorials/structured_data/images/multistep_dense.png)"
   ]
  },
  {
   "cell_type": "code",
   "execution_count": null,
   "metadata": {
    "execution": {
     "iopub.execute_input": "2020-11-12T06:19:53.468265Z",
     "iopub.status.busy": "2020-11-12T06:19:53.467506Z",
     "iopub.status.idle": "2020-11-12T06:20:37.947202Z",
     "shell.execute_reply": "2020-11-12T06:20:37.947597Z"
    },
    "id": "kfRz_WVhIQcd"
   },
   "outputs": [],
   "source": [
    "multi_linear_model = tf.keras.Sequential([\n",
    "    # Take the last time-step.\n",
    "    # Shape [batch, time, features] => [batch, 1, features]\n",
    "    tf.keras.layers.Lambda(lambda x: x[:, -1:, :]),\n",
    "    # Shape => [batch, 1, out_steps*features]\n",
    "    tf.keras.layers.Dense(OUT_STEPS*num_features,\n",
    "                          kernel_initializer=tf.initializers.zeros),\n",
    "    # Shape => [batch, out_steps, features]\n",
    "    tf.keras.layers.Reshape([OUT_STEPS, num_features])\n",
    "])\n",
    "\n",
    "history = compile_and_fit(multi_linear_model, multi_window)\n",
    "\n",
    "IPython.display.clear_output()\n",
    "multi_val_performance['Linear'] = multi_linear_model.evaluate(multi_window.val)\n",
    "multi_performance['Linear'] = multi_linear_model.evaluate(multi_window.test, verbose=0)\n",
    "multi_window.plot(multi_linear_model)"
   ]
  },
  {
   "cell_type": "code",
   "execution_count": null,
   "outputs": [],
   "source": [
    "eval(history)\n"
   ],
   "metadata": {
    "collapsed": false,
    "pycharm": {
     "name": "#%%\n"
    }
   }
  },
  {
   "cell_type": "markdown",
   "metadata": {
    "id": "zi2TMHk2IRrh"
   },
   "source": [
    "#### Dense\n",
    "\n",
    "Adding a `layers.Dense` between the input and output gives the linear model more power,\n",
    "but is still only based on a single input timestep."
   ]
  },
  {
   "cell_type": "code",
   "execution_count": null,
   "metadata": {
    "execution": {
     "iopub.execute_input": "2020-11-12T06:20:37.957479Z",
     "iopub.status.busy": "2020-11-12T06:20:37.955859Z",
     "iopub.status.idle": "2020-11-12T06:21:35.163911Z",
     "shell.execute_reply": "2020-11-12T06:21:35.164348Z"
    },
    "id": "jezm-BKaGj91"
   },
   "outputs": [],
   "source": [
    "multi_dense_model = tf.keras.Sequential([\n",
    "    # Take the last time step.\n",
    "    # Shape [batch, time, features] => [batch, 1, features]\n",
    "    tf.keras.layers.Lambda(lambda x: x[:, -1:, :]),\n",
    "    # Shape => [batch, 1, dense_units]\n",
    "    tf.keras.layers.Dense(512, activation='relu'),\n",
    "    # Shape => [batch, out_steps*features]\n",
    "    tf.keras.layers.Dense(OUT_STEPS*num_features,\n",
    "                          kernel_initializer=tf.initializers.zeros),\n",
    "    # Shape => [batch, out_steps, features]\n",
    "    tf.keras.layers.Reshape([OUT_STEPS, num_features])\n",
    "])\n",
    "\n",
    "history = compile_and_fit(multi_dense_model, multi_window)\n",
    "\n",
    "IPython.display.clear_output()\n",
    "multi_val_performance['Dense'] = multi_dense_model.evaluate(multi_window.val)\n",
    "multi_performance['Dense'] = multi_dense_model.evaluate(multi_window.test, verbose=0)\n",
    "multi_window.plot(multi_dense_model)\n"
   ]
  },
  {
   "cell_type": "code",
   "execution_count": null,
   "outputs": [],
   "source": [
    "eval(history)"
   ],
   "metadata": {
    "collapsed": false,
    "pycharm": {
     "name": "#%%\n"
    }
   }
  },
  {
   "cell_type": "code",
   "execution_count": null,
   "outputs": [],
   "source": [
    "multi_window_t.plot_batch(n_batch=1, model=multi_dense_model,dset_name='train' )"
   ],
   "metadata": {
    "collapsed": false,
    "pycharm": {
     "name": "#%%\n"
    }
   }
  },
  {
   "cell_type": "markdown",
   "metadata": {
    "id": "icsBAjCzMaMl"
   },
   "source": [
    "#### CNN"
   ]
  },
  {
   "cell_type": "markdown",
   "metadata": {
    "id": "34lCZrWYNBwd"
   },
   "source": [
    "A convolutional model makes predictions based on a fixed-width history, which may lead to better performance than\n",
    "the dense model since it can see how things are changing over time:\n",
    "\n",
    "![A convolutional model sees how things change over time](https://www.tensorflow.org/tutorials/structured_data/images/multistep_conv.png)"
   ]
  },
  {
   "cell_type": "code",
   "execution_count": null,
   "metadata": {
    "execution": {
     "iopub.execute_input": "2020-11-12T06:21:35.177749Z",
     "iopub.status.busy": "2020-11-12T06:21:35.176526Z",
     "iopub.status.idle": "2020-11-12T06:22:20.774608Z",
     "shell.execute_reply": "2020-11-12T06:22:20.775065Z"
    },
    "id": "0xJoIP6PMWMI"
   },
   "outputs": [],
   "source": [
    "CONV_WIDTH = 3\n",
    "multi_conv_model = tf.keras.Sequential([\n",
    "    # Shape [batch, time, features] => [batch, CONV_WIDTH, features]\n",
    "    tf.keras.layers.Lambda(lambda x: x[:, -CONV_WIDTH:, :]),\n",
    "    # Shape => [batch, 1, conv_units]\n",
    "    tf.keras.layers.Conv1D(256, activation='relu', kernel_size=(CONV_WIDTH)),\n",
    "    # Shape => [batch, 1,  out_steps*features]\n",
    "    tf.keras.layers.Dense(OUT_STEPS*num_features,\n",
    "                          kernel_initializer=tf.initializers.zeros),\n",
    "    # Shape => [batch, out_steps, features]\n",
    "    tf.keras.layers.Reshape([OUT_STEPS, num_features])\n",
    "])\n",
    "\n",
    "history = compile_and_fit(multi_conv_model, multi_window)\n",
    "\n",
    "IPython.display.clear_output()\n",
    "\n",
    "multi_val_performance['Conv'] = multi_conv_model.evaluate(multi_window.val)\n",
    "multi_performance['Conv'] = multi_conv_model.evaluate(multi_window.test, verbose=0)\n",
    "multi_window.plot(multi_conv_model)"
   ]
  },
  {
   "cell_type": "code",
   "execution_count": null,
   "outputs": [],
   "source": [
    "eval(history)"
   ],
   "metadata": {
    "collapsed": false,
    "pycharm": {
     "name": "#%%\n"
    }
   }
  },
  {
   "cell_type": "code",
   "execution_count": null,
   "outputs": [],
   "source": [
    "multi_window_t.plot_batch(model=multi_conv_model, dset_name='train', n_batch=5, )\n"
   ],
   "metadata": {
    "collapsed": false,
    "pycharm": {
     "name": "#%%\n"
    }
   }
  },
  {
   "cell_type": "markdown",
   "metadata": {
    "id": "weBjeZAFJOP4"
   },
   "source": [
    "#### RNN"
   ]
  },
  {
   "cell_type": "markdown",
   "metadata": {
    "id": "8022xOKxOO92"
   },
   "source": [
    "A recurrent model can learn to use a long history of inputs, if it's relevant to the predictions the model is making. Here the model will accumulate internal state for 24h, before making a single prediction for the next 24h.\n",
    "\n",
    "In this single-shot format, the LSTM only needs to produce an output at the last time step,\n",
    "so set `return_sequences=False`.\n",
    "\n",
    "![The lstm accumulates state over the input window, and makes a single prediction for the next 24h](https://www.tensorflow.org/tutorials/structured_data/images/multistep_lstm.png)\n"
   ]
  },
  {
   "cell_type": "code",
   "execution_count": null,
   "metadata": {
    "execution": {
     "iopub.execute_input": "2020-11-12T06:22:20.787135Z",
     "iopub.status.busy": "2020-11-12T06:22:20.786450Z",
     "iopub.status.idle": "2020-11-12T06:23:25.317858Z",
     "shell.execute_reply": "2020-11-12T06:23:25.318346Z"
    },
    "id": "Bf1ks6RTzF64"
   },
   "outputs": [],
   "source": [
    "multi_lstm_model = tf.keras.Sequential([\n",
    "    # Shape [batch, time, features] => [batch, lstm_units]\n",
    "    # Adding more `lstm_units` just overfits more quickly.\n",
    "    tf.keras.layers.LSTM(32, return_sequences=False),\n",
    "    # Shape => [batch, out_steps*features]\n",
    "    tf.keras.layers.Dense(OUT_STEPS*num_features,\n",
    "                          kernel_initializer=tf.initializers.zeros),\n",
    "    # Shape => [batch, out_steps, features]\n",
    "    tf.keras.layers.Reshape([OUT_STEPS, num_features])\n",
    "])\n",
    "\n",
    "history = compile_and_fit(multi_lstm_model, multi_window)\n",
    "\n",
    "IPython.display.clear_output()\n",
    "\n",
    "multi_val_performance['LSTM'] = multi_lstm_model.evaluate(multi_window.val)\n",
    "multi_performance['LSTM'] = multi_lstm_model.evaluate(multi_window.test, verbose=0)\n",
    "multi_window.plot(multi_lstm_model)"
   ]
  },
  {
   "cell_type": "code",
   "execution_count": null,
   "outputs": [],
   "source": [
    "eval(history)"
   ],
   "metadata": {
    "collapsed": false,
    "pycharm": {
     "name": "#%%\n"
    }
   }
  },
  {
   "cell_type": "code",
   "execution_count": null,
   "outputs": [],
   "source": [
    "multi_window_t.plot_batch(model=multi_lstm_model, n_batch=4, )"
   ],
   "metadata": {
    "collapsed": false,
    "pycharm": {
     "name": "#%%\n"
    }
   }
  },
  {
   "cell_type": "code",
   "execution_count": null,
   "outputs": [],
   "source": [
    "multi_window_t.plot_batch(model=multi_lstm_model,dset_name='val', n_batch=10, )"
   ],
   "metadata": {
    "collapsed": false,
    "pycharm": {
     "name": "#%%\n"
    }
   }
  },
  {
   "cell_type": "markdown",
   "metadata": {
    "id": "d5n-1cDW12Vo"
   },
   "source": [
    "### Advanced: Autoregressive model\n",
    "\n",
    "The above models all predict the entire output sequence in a single step.\n",
    "\n",
    "In some cases it may be helpful for the model to decompose this prediction into individual time steps. Then each model's output can be fed back into itself at each step and predictions can be made conditioned on the previous one, like in the classic Generating Sequences With Recurrent Neural Networks.\n",
    "\n",
    "One clear advantage to this style of model is that it can be set up to produce output with a varying length.\n",
    "\n",
    "You could take any of the single-step multi-output models trained in the first half of this tutorial and run in an autoregressive feedback loop, but here you'll focus on building a model that's been explicitly trained to do that.\n",
    "\n",
    "![Feedback a model's output to its input](https://www.tensorflow.org/tutorials/structured_data/images/multistep_autoregressive.png)\n"
   ]
  },
  {
   "cell_type": "markdown",
   "metadata": {
    "id": "PKRreBbULRXY"
   },
   "source": [
    "#### RNN\n",
    "This tutorial only builds an autoregressive RNN model, but this pattern could be applied to any model that was designed to output a single timestep.\n",
    "\n",
    "The model will have the same basic form as the single-step LSTM models: An LSTM followed by a layers.Dense that converts the LSTM outputs to model predictions.\n",
    "\n",
    "A layers.LSTM is a layers.LSTMCell wrapped in the higher level layers.RNN that manages the state and sequence results for you (See Keras RNNs for details).\n",
    "\n",
    "In this case the model has to manually manage the inputs for each step so it uses layers.LSTMCell directly for the lower level, single time step interface.\n",
    "\n",
    "\n",
    "이 튜토리얼에서는 자기 회귀 RNN 모델만 빌드하지만 이 패턴은 단일 타임스텝을 출력하도록 설계된 모든 모델에 적용할 수 있습니다.\n",
    "\n",
    "이 모델은 단일 스텝 `LSTM` 모델과 기본 형태가 동일하여 `LSTM` 다음에 `LSTM` 출력을 모델 예측으로 변환하는 `layers.Dense`가 이어집니다.\n",
    "\n",
    "`layers.LSTM`은 상태와 시퀀스 결과를 자동으로 관리하는 더 높은 수준의 `layers.RNN`에서 래핑된 `layers.LSTMCell`입니다(자세한 내용은 [Keras RNN](https://www.tensorflow.org/guide/keras/rnn) 참조).\n",
    "\n",
    "이 경우 모델은 각 스텝에 대한 입력을 수동으로 관리해야 하므로 더 낮은 수준의 단일 타임스텝 인터페이스에 대해 `layers.LSTMCell`를 직접 사용합니다."
   ]
  },
  {
   "cell_type": "code",
   "execution_count": null,
   "metadata": {
    "execution": {
     "iopub.execute_input": "2020-11-12T06:23:25.324361Z",
     "iopub.status.busy": "2020-11-12T06:23:25.323778Z",
     "iopub.status.idle": "2020-11-12T06:23:25.325821Z",
     "shell.execute_reply": "2020-11-12T06:23:25.325402Z"
    },
    "id": "s5tz3Nu0R5JG"
   },
   "outputs": [],
   "source": [
    "class FeedBack(tf.keras.Model):\n",
    "  def __init__(self, units, out_steps):\n",
    "    super().__init__()\n",
    "    self.out_steps = out_steps\n",
    "    self.units = units\n",
    "    self.lstm_cell = tf.keras.layers.LSTMCell(units)\n",
    "    # Also wrap the LSTMCell in an RNN to simplify the `warmup` method.\n",
    "    self.lstm_rnn = tf.keras.layers.RNN(self.lstm_cell, return_state=True)\n",
    "    self.dense = tf.keras.layers.Dense(num_features)"
   ]
  },
  {
   "cell_type": "code",
   "execution_count": null,
   "metadata": {
    "execution": {
     "iopub.execute_input": "2020-11-12T06:23:25.331360Z",
     "iopub.status.busy": "2020-11-12T06:23:25.330741Z",
     "iopub.status.idle": "2020-11-12T06:23:25.342338Z",
     "shell.execute_reply": "2020-11-12T06:23:25.341873Z"
    },
    "id": "2OXVM9G1U7xR"
   },
   "outputs": [],
   "source": [
    "feedback_model = FeedBack(units=32, out_steps=OUT_STEPS)"
   ]
  },
  {
   "cell_type": "markdown",
   "metadata": {
    "id": "ph5uFSfTUNho"
   },
   "source": [
    "이 모델에 필요한 첫 번째 메서드는 입력을 기반으로 내부 상태를 초기화하는 `warmup` 메서드입니다. 일단 훈련되면 이 상태는 입력 기록의 관련 부분을 캡처합니다. 이는 앞서 알아본 단일 스텝 `LSTM` 모델과 동일합니다."
   ]
  },
  {
   "cell_type": "code",
   "execution_count": null,
   "metadata": {
    "execution": {
     "iopub.execute_input": "2020-11-12T06:23:25.346690Z",
     "iopub.status.busy": "2020-11-12T06:23:25.346113Z",
     "iopub.status.idle": "2020-11-12T06:23:25.347767Z",
     "shell.execute_reply": "2020-11-12T06:23:25.348185Z"
    },
    "id": "vM2K_LLdRjDZ"
   },
   "outputs": [],
   "source": [
    "def warmup(self, inputs):\n",
    "  # inputs.shape => (batch, time, features)\n",
    "  # x.shape => (batch, lstm_units)\n",
    "  x, *state = self.lstm_rnn(inputs)\n",
    "\n",
    "  # predictions.shape => (batch, features)\n",
    "  prediction = self.dense(x)\n",
    "  return prediction, state\n",
    "\n",
    "FeedBack.warmup = warmup"
   ]
  },
  {
   "cell_type": "markdown",
   "metadata": {
    "id": "6JkaSYaZ9eB7"
   },
   "source": [
    "이 메서드는 단일 타임스텝 예측과 LSTM의 내부 상태를 반환합니다."
   ]
  },
  {
   "cell_type": "code",
   "execution_count": null,
   "metadata": {
    "execution": {
     "iopub.execute_input": "2020-11-12T06:23:25.352527Z",
     "iopub.status.busy": "2020-11-12T06:23:25.351909Z",
     "iopub.status.idle": "2020-11-12T06:23:25.385112Z",
     "shell.execute_reply": "2020-11-12T06:23:25.384684Z"
    },
    "id": "w9Fz6NTKXXwU"
   },
   "outputs": [],
   "source": [
    "prediction, state = feedback_model.warmup(multi_window.example[0])\n",
    "prediction.shape"
   ]
  },
  {
   "cell_type": "markdown",
   "metadata": {
    "id": "S_ZdvPjdX3y3"
   },
   "source": [
    "`RNN`의 상태 및 초기 예측을 사용하여 이제 이전의 각 스텝에서 수행한 예측을 입력으로 제공하여 모델을 계속 반복할 수 있습니다.\n",
    "\n",
    "출력 예측을 수집하는 가장 간단한 방법은 Python 목록을 사용하고 루프 후에 `tf.stack`을 사용하는 것입니다."
   ]
  },
  {
   "cell_type": "markdown",
   "metadata": {
    "id": "yotTad3nZXQU"
   },
   "source": [
    "참고: 이와 같이 Python 목록을 쌓는 것은 훈련을 위해 `Model.compile(..., run_eagerly=True)`를 사용하거나 고정 길이의 출력을 통해 즉시 실행하는 경우에만 효과가 있습니다. 동적 출력 길이의 경우 Python 목록 대신 `tf.TensorArray`를 사용하고 Python `range` 대신 `tf.range`를 사용해야 합니다."
   ]
  },
  {
   "cell_type": "code",
   "execution_count": null,
   "metadata": {
    "execution": {
     "iopub.execute_input": "2020-11-12T06:23:25.391224Z",
     "iopub.status.busy": "2020-11-12T06:23:25.390571Z",
     "iopub.status.idle": "2020-11-12T06:23:25.392282Z",
     "shell.execute_reply": "2020-11-12T06:23:25.392674Z"
    },
    "id": "g1GRDu3mZtr9"
   },
   "outputs": [],
   "source": [
    "def call(self, inputs, training=None):\n",
    "  # Use a TensorArray to capture dynamically unrolled outputs.\n",
    "  predictions = []\n",
    "  # Initialize the lstm state\n",
    "  prediction, state = self.warmup(inputs)\n",
    "\n",
    "  # Insert the first prediction\n",
    "  predictions.append(prediction)\n",
    "\n",
    "  # Run the rest of the prediction steps\n",
    "  for n in range(1, self.out_steps):\n",
    "    # Use the last prediction as input.\n",
    "    x = prediction\n",
    "    # Execute one lstm step.\n",
    "    x, state = self.lstm_cell(x, states=state,\n",
    "                              training=training)\n",
    "    # Convert the lstm output to a prediction.\n",
    "    prediction = self.dense(x)\n",
    "    # Add the prediction to the output\n",
    "    predictions.append(prediction)\n",
    "\n",
    "  # predictions.shape => (time, batch, features)\n",
    "  predictions = tf.stack(predictions)\n",
    "  # predictions.shape => (batch, time, features)\n",
    "  predictions = tf.transpose(predictions, [1, 0, 2])\n",
    "  return predictions\n",
    "\n",
    "FeedBack.call = call"
   ]
  },
  {
   "cell_type": "markdown",
   "metadata": {
    "id": "Ubop-YWp15XW"
   },
   "source": [
    "예제 입력에서 이 모델을 테스트 실행합니다."
   ]
  },
  {
   "cell_type": "code",
   "execution_count": null,
   "metadata": {
    "execution": {
     "iopub.execute_input": "2020-11-12T06:23:25.396790Z",
     "iopub.status.busy": "2020-11-12T06:23:25.396206Z",
     "iopub.status.idle": "2020-11-12T06:23:25.433236Z",
     "shell.execute_reply": "2020-11-12T06:23:25.433691Z"
    },
    "id": "Xja83zEYaM2D"
   },
   "outputs": [],
   "source": [
    "print('Output shape (batch, time, features): ', feedback_model(multi_window.example[0]).shape)"
   ]
  },
  {
   "cell_type": "markdown",
   "metadata": {
    "id": "qMs0rYB8be9M"
   },
   "source": [
    "이제 모델을 훈련합니다."
   ]
  },
  {
   "cell_type": "code",
   "execution_count": null,
   "metadata": {
    "execution": {
     "iopub.execute_input": "2020-11-12T06:23:25.442814Z",
     "iopub.status.busy": "2020-11-12T06:23:25.442213Z",
     "iopub.status.idle": "2020-11-12T06:28:25.069704Z",
     "shell.execute_reply": "2020-11-12T06:28:25.070181Z"
    },
    "id": "VBRVG2hnNyrO"
   },
   "outputs": [],
   "source": [
    "history = compile_and_fit(feedback_model, multi_window)\n",
    "\n",
    "IPython.display.clear_output()\n",
    "\n",
    "multi_val_performance['AR LSTM'] = feedback_model.evaluate(multi_window.val)\n",
    "multi_performance['AR LSTM'] = feedback_model.evaluate(multi_window.test, verbose=0)\n",
    "multi_window.plot(feedback_model)"
   ]
  },
  {
   "cell_type": "markdown",
   "metadata": {
    "id": "hGjcJsAQJUkI"
   },
   "source": [
    "### 성능"
   ]
  },
  {
   "cell_type": "markdown",
   "metadata": {
    "id": "sODAwr2ndtDB"
   },
   "source": [
    "이 문제에 대해 모델 복잡성이 증가함에 따라 분명히 이득이 감소합니다."
   ]
  },
  {
   "cell_type": "code",
   "execution_count": null,
   "metadata": {
    "execution": {
     "iopub.execute_input": "2020-11-12T06:28:25.089388Z",
     "iopub.status.busy": "2020-11-12T06:28:25.088746Z",
     "iopub.status.idle": "2020-11-12T06:28:25.231991Z",
     "shell.execute_reply": "2020-11-12T06:28:25.232558Z"
    },
    "id": "WZwWBA8S6B3L"
   },
   "outputs": [],
   "source": [
    "x = np.arange(len(multi_performance))\n",
    "width = 0.3\n",
    "\n",
    "\n",
    "metric_name = 'mean_absolute_error'\n",
    "metric_index = lstm_model.metrics_names.index('mean_absolute_error')\n",
    "val_mae = [v[metric_index] for v in multi_val_performance.values()]\n",
    "test_mae = [v[metric_index] for v in multi_performance.values()]\n",
    "\n",
    "plt.bar(x - 0.17, val_mae, width, label='Validation')\n",
    "plt.bar(x + 0.17, test_mae, width, label='Test')\n",
    "plt.xticks(ticks=x, labels=multi_performance.keys(),\n",
    "           rotation=45)\n",
    "plt.ylabel(f'MAE (average over all times and outputs)')\n",
    "_ = plt.legend()"
   ]
  },
  {
   "cell_type": "markdown",
   "metadata": {
    "id": "Zq3hUsedCEmJ"
   },
   "source": [
    "이 튜토리얼의 전반부에서 소개한 다중 출력 모델에 대한 메트릭은 모든 출력 특성에 평균화된 성능을 보여줍니다. 이러한 성능은 유사하지만 출력 타임스텝에서도 평균화됩니다. "
   ]
  },
  {
   "cell_type": "code",
   "execution_count": null,
   "metadata": {
    "execution": {
     "iopub.execute_input": "2020-11-12T06:28:25.237717Z",
     "iopub.status.busy": "2020-11-12T06:28:25.236947Z",
     "iopub.status.idle": "2020-11-12T06:28:25.240245Z",
     "shell.execute_reply": "2020-11-12T06:28:25.239641Z"
    },
    "id": "jKq3eAIvH4Db"
   },
   "outputs": [],
   "source": [
    "for name, value in multi_performance.items():\n",
    "  print(f'{name:8s}: {value[1]:0.4f}')"
   ]
  },
  {
   "cell_type": "markdown",
   "metadata": {
    "id": "MpBFwfnaHP23"
   },
   "source": [
    "밀집 모델에서 컨볼루션 및 반복 모델로 이동하여 얻은 이득은 몇 퍼센트(있다고 하더라도)에 불과하며 자기 회귀 모델의 성능은 분명히 더 나빴습니다. 따라서 이러한 더 복잡한 접근 방법은 **이** 문제에서는 가치가 없을 수도 있지만 시도해 보기 전에는 알 수 있는 방법이 없었으며 이러한 모델은 **다른 특정** 문제에 도움이 될 수 있습니다."
   ]
  },
  {
   "cell_type": "markdown",
   "metadata": {
    "id": "pOzaIRYBhqwg"
   },
   "source": [
    "## 다음 단계\n",
    "\n",
    "이 튜토리얼에서는 TensorFlow를 사용한 시계열 예측에 대해 간단히 소개했습니다.\n",
    "\n",
    "- 자세한 내용은 다음을 참조하세요.\n",
    "    - [Scikit-Learn, Keras 및 TensorFlow를 이용한 머시러닝 실무](https://www.oreilly.com/library/view/hands-on-machine-learning/9781492032632/)(2차 개정 버전), 챕터 15\n",
    "    - [Python을 이용한 딥러닝](https://www.manning.com/books/deep-learning-with-python) 챕터 6\n",
    "    - [Udacity의 딥러닝 TensorFlow 개론](https://www.udacity.com/course/intro-to-tensorflow-for-deep-learning--ud187) 레슨 8 및 [연습 노트북](https://github.com/tensorflow/examples/tree/master/courses/udacity_intro_to_tensorflow_for_deep_learning)\n",
    "- 또한 TensorFlow에서 [기존의 시계열 모델](https://otexts.com/fpp2/index.html)은 모두 구현할 수 있다는 점을 기억하세요. 이 튜토리얼에서는 TensdorFlow의 내장 기능에 초점을 맞추었습니다."
   ]
  }
 ],
 "metadata": {
  "accelerator": "GPU",
  "colab": {
   "collapsed_sections": [],
   "name": "time_series.ipynb",
   "toc_visible": true
  },
  "kernelspec": {
   "name": "venv_01",
   "language": "python",
   "display_name": "Python (venv_01)"
  },
  "language_info": {
   "codemirror_mode": {
    "name": "ipython",
    "version": 3
   },
   "file_extension": ".py",
   "mimetype": "text/x-python",
   "name": "python",
   "nbconvert_exporter": "python",
   "pygments_lexer": "ipython3",
   "version": "3.6.9"
  }
 },
 "nbformat": 4,
 "nbformat_minor": 0
}