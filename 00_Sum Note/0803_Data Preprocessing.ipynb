{
 "cells": [
  {
   "cell_type": "markdown",
   "metadata": {
    "collapsed": true,
    "pycharm": {
     "name": "#%% md\n"
    }
   },
   "source": [
    "## *...incomplete, to be continued...*\n",
    "\n",
    "**STAT 453: Introduction to Deep Learning and Generative Models (Fall 2020)<br>**\n",
    "Course Website: http://pages.stat.wisc.edu/~sraschka/teaching/stat453-ss2020/\n",
    "\n",
    "STAT479: Deep Learning (Spring 2019),\n",
    "Lecture material for the STAT 479 Deep Learning course at University Wisconsin-Madison<br>\n",
    "http://pages.stat.wisc.edu/~sraschka/teaching/stat479-ss2019/<br>\n",
    "https://github.com/blee8/stat479-deep-learning-ss19.git\n",
    "\n",
    "**Python Machine Learning (3rd Ed.) Code Repository<br>**\n",
    "[Raschka's book](https://github.com/blee8/python-machine-learning-book-3rd-edition.git)\n",
    "\n",
    "***Chapter 4 Outline: Building Good Training Datasets – Data Preprocessing<br>***\n",
    "- Dealing with missing data\n",
    "  - Identifying missing values in tabular data\n",
    "  - Eliminating training examples or features with missing values\n",
    "  - Imputing missing values\n",
    "  - Understanding the scikit-learn estimator API\n",
    "- Handling categorical data\n",
    "  - Nominal and ordinal features\n",
    "  - Creating an example dataset\n",
    "  - Mapping ordinal features\n",
    "  - Encoding class labels\n",
    "  - Performing one-hot encoding on nominal features\n",
    "- Partitioning a dataset into separate training and test sets\n",
    "- Bringing features onto the same scale\n",
    "- Selecting meaningful features\n",
    "  - L1 and L2 regularization as penalties against model complexity\n",
    "  - A geometric interpretation of L2 regularization\n",
    "  - Sparse solutions with L1 regularization\n",
    "  - Sequential feature selection algorithms\n",
    "- Assessing feature importance with random forests\n",
    "- Summary\n",
    "---\n",
    "## *...incomplete, to be continued...*"
   ]
  }
 ],
 "metadata": {
  "kernelspec": {
   "display_name": "Python 3",
   "language": "python",
   "name": "python3"
  },
  "language_info": {
   "codemirror_mode": {
    "name": "ipython",
    "version": 2
   },
   "file_extension": ".py",
   "mimetype": "text/x-python",
   "name": "python",
   "nbconvert_exporter": "python",
   "pygments_lexer": "ipython2",
   "version": "2.7.6"
  }
 },
 "nbformat": 4,
 "nbformat_minor": 0
}