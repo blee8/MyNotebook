{
 "cells": [
  {
   "cell_type": "markdown",
   "source": [
    "##  <center>Quick Summary </center>\n",
    "* data set\n",
    "* platform \n",
    "##### <div align=\"center\"> 2020. 09. 28\n",
    "\n",
    "---\n",
    "## Data Set\n",
    "<font color='blue'>*To summary data sets described in each book*</font>\n",
    "\n",
    "### MNIST\n",
    "\n",
    "a set of 70,000 small images of  handwritten digits labeled with the digit it represents\n",
    "often called the “hello world” of Machine Learning; a new classification algorithm is tested\n",
    "\n",
    "* chapter 12, <font color='blue'>*Python-machine-learning*</font>(3rd edition)\n",
    "by Sebastian Raschka   [[Web]](sebastianraschka.com)  [[git]](https://github.com/rasbt/python-machine-learning-book-3rd-edition)\n",
    "    - use neural network, plotting digits\n",
    "* chapter 2, <font color='blue'> *Deep Learning with Python*</font> by François Chollet\n",
    "    - keras, deeplearning\n",
    "* chapter 3, <font color='blue'> *Hands-On Machine Learning with Scikit-Learn, Keras, and TensorFlow*</font> (Géron, A)\n",
    "    - Binary Classifier, sklearn SGDClassifier\n",
    "* <font color='blue'> *Introduction to Machine Learning with Python*</font> (Müller, A.C.)\n",
    "    - sklearn dataset of handwritten digits\n",
    "* <font color='blue'> *Dive into Deep Learning*</font> (Zhang, A. et al.)\n",
    "    - mxnet gluon, naive bayes classifier(sec 18.9), Fashion-MNIST dateset\n",
    "\n",
    "***\n",
    "## Platform\n",
    "<font color='blue'>*To summary platforms applied to each book*</font>\n",
    "* *Deep Learning with Python* (Chollet, F.)\n",
    "    - keras, tensorflow\n",
    "* *Hands-On Machine Learning with Scikit-Learn, Keras, and TensorFlow* (Géron, A)\n",
    "    - Scikit-Learn, Keras, and TensorFlow\n",
    "* *Python-machine-learning* (Raschka, S.)\n",
    "    - scikit-learn, TensorFlow\n",
    "* *Introduction to Machine Learning with Python* (Müller, A.C.)\n",
    "    - scikit-learn\n",
    "* *Dive into Deep Learning* (Zhang, A. et al.)\n",
    "    - MXNet, PyTorch, TensorFlow\n"
   ],
   "metadata": {
    "collapsed": false
   }
  }
 ],
 "metadata": {
  "kernelspec": {
   "display_name": "Python 3",
   "language": "python",
   "name": "python3"
  },
  "language_info": {
   "codemirror_mode": {
    "name": "ipython",
    "version": 2
   },
   "file_extension": ".py",
   "mimetype": "text/x-python",
   "name": "python",
   "nbconvert_exporter": "python",
   "pygments_lexer": "ipython2",
   "version": "2.7.6"
  }
 },
 "nbformat": 4,
 "nbformat_minor": 0
}